{
 "cells": [
  {
   "cell_type": "code",
   "execution_count": null,
   "metadata": {},
   "outputs": [],
   "source": [
    "import voroni\n",
    "import importlib\n",
    "importlib.reload(voroni)"
   ]
  },
  {
   "cell_type": "code",
   "execution_count": null,
   "metadata": {},
   "outputs": [],
   "source": [
    "from voroni import *\n",
    "# -- plot traces voroni tiles\n",
    "# sphere_plot_voro14_one_video_one_user() # one user\n",
    "# sphere_plot_voro14_one_video_all_users() # all user\n",
    "\n",
    "# -- plot traces rectan tiles\n",
    "# sphere_plot_rectan_traces(6, 4, SAMPLE_DATASET, ONE_USER, ONE_VIDEO)\n",
    "# sphere_plot_rectan_traces(4, 4, SAMPLE_DATASET, ONE_USER, ONE_VIDEO)\n",
    "one_vp_eurelian = cartesian_to_eulerian(\n",
    "    get_one_trace_one_video_one_user()[0],\n",
    "    get_one_trace_one_video_one_user()[1],\n",
    "    get_one_trace_one_video_one_user()[2])\n",
    "sphere_plot_rectan_with_vp(4, 4, one_vp_eurelian[0], one_vp_eurelian[1])\n"
   ]
  },
  {
   "cell_type": "code",
   "execution_count": null,
   "metadata": {},
   "outputs": [],
   "source": [
    "# -- heatmap from_position_to_tile_center_covered\n",
    "from voroni import *\n",
    "\n",
    "# req_plot_per_func(get_traces_one_video_all_users()[::], [\n",
    "req_plot_per_func(get_traces_one_video_one_user()[::25], [\n",
    "    # req_tiles_voro24_fov_110radius_cover_center,\n",
    "    # req_tiles_voro14_fov_110radius_cover_center,\n",
    "    # req_tiles_voro24_fov_110x90_cover_any,\n",
    "    # req_tiles_voro14_fov_110x90_cover_any,\n",
    "    req_tiles_rectan_fov_33perc_cover,\n",
    "    req_tiles_rectan_fov_20perc_cover,\n",
    "    req_tiles_rectan_fov_110radius_cover_center,\n",
    "    # req_tiles_voro14_fov_20perc_cover,\n",
    "    # req_tiles_voro14_fov_33perc_cover,\n",
    "    # req_tiles_voro24_fov_20perc_cover,\n",
    "    # req_tiles_voro24_fov_33perc_cover,\n",
    "])\n"
   ]
  }
 ],
 "metadata": {
  "interpreter": {
   "hash": "bed9add7eda959bf6c8d12b02d45384ee68438564591465b81a62df10a32b7de"
  },
  "kernelspec": {
   "display_name": "Python 3.9.7 64-bit",
   "language": "python",
   "name": "python3"
  },
  "language_info": {
   "codemirror_mode": {
    "name": "ipython",
    "version": 3
   },
   "file_extension": ".py",
   "mimetype": "text/x-python",
   "name": "python",
   "nbconvert_exporter": "python",
   "pygments_lexer": "ipython3",
   "version": "3.10.2"
  },
  "orig_nbformat": 4
 },
 "nbformat": 4,
 "nbformat_minor": 2
}

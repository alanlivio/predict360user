{
 "cells": [
  {
   "cell_type": "code",
   "execution_count": null,
   "metadata": {},
   "outputs": [],
   "source": [
    "import voroni\n",
    "import importlib\n",
    "importlib.reload(voroni)"
   ]
  },
  {
   "cell_type": "code",
   "execution_count": null,
   "metadata": {},
   "outputs": [],
   "source": [
    "from voroni import *\n",
    "# -- plot traces voroni tiles\n",
    "sphere_plot_voro14_one_video_one_user() # one user\n",
    "sphere_plot_voro14_one_video_all_users() # all user\n",
    "\n",
    "# -- plot traces rectan tiles\n",
    "sphere_plot_rectan6x4_one_video_one_user()\n",
    "sphere_plot_rectan4x4_one_video_one_user()\n"
   ]
  },
  {
   "cell_type": "code",
   "execution_count": 6,
   "metadata": {},
   "outputs": [
    {
     "ename": "ValueError",
     "evalue": "Out of domain for acos",
     "output_type": "error",
     "traceback": [
      "\u001b[1;31m---------------------------------------------------------------------------\u001b[0m",
      "\u001b[1;31mValueError\u001b[0m                                Traceback (most recent call last)",
      "\u001b[1;32mc:\\Users\\alan\\dev\\ucl\\postdoc-experiments\\voroni.ipynb Cell 3'\u001b[0m in \u001b[0;36m<cell line: 5>\u001b[1;34m()\u001b[0m\n\u001b[0;32m      <a href='vscode-notebook-cell:/c%3A/Users/alan/dev/ucl/postdoc-experiments/voroni.ipynb#ch0000002?line=1'>2</a>\u001b[0m \u001b[39mfrom\u001b[39;00m \u001b[39mvoroni\u001b[39;00m \u001b[39mimport\u001b[39;00m \u001b[39m*\u001b[39m\n\u001b[0;32m      <a href='vscode-notebook-cell:/c%3A/Users/alan/dev/ucl/postdoc-experiments/voroni.ipynb#ch0000002?line=3'>4</a>\u001b[0m \u001b[39m# req_plot_per_func(get_traces_one_video_all_users()[::], [\u001b[39;00m\n\u001b[1;32m----> <a href='vscode-notebook-cell:/c%3A/Users/alan/dev/ucl/postdoc-experiments/voroni.ipynb#ch0000002?line=4'>5</a>\u001b[0m req_plot_per_func(get_traces_one_video_one_user()[::\u001b[39m25\u001b[39;49m], [\n\u001b[0;32m      <a href='vscode-notebook-cell:/c%3A/Users/alan/dev/ucl/postdoc-experiments/voroni.ipynb#ch0000002?line=5'>6</a>\u001b[0m     req_tiles_voro24_fov_110radius_cover_center,\n\u001b[0;32m      <a href='vscode-notebook-cell:/c%3A/Users/alan/dev/ucl/postdoc-experiments/voroni.ipynb#ch0000002?line=6'>7</a>\u001b[0m     req_tiles_voro14_fov_110radius_cover_center,\n\u001b[0;32m      <a href='vscode-notebook-cell:/c%3A/Users/alan/dev/ucl/postdoc-experiments/voroni.ipynb#ch0000002?line=7'>8</a>\u001b[0m     req_tiles_voro24_fov_110x90_cover_any,\n\u001b[0;32m      <a href='vscode-notebook-cell:/c%3A/Users/alan/dev/ucl/postdoc-experiments/voroni.ipynb#ch0000002?line=8'>9</a>\u001b[0m     req_tiles_voro14_fov_110x90_cover_any,\n\u001b[0;32m     <a href='vscode-notebook-cell:/c%3A/Users/alan/dev/ucl/postdoc-experiments/voroni.ipynb#ch0000002?line=9'>10</a>\u001b[0m     req_tiles_rectan_fov_33perc_cover,\n\u001b[0;32m     <a href='vscode-notebook-cell:/c%3A/Users/alan/dev/ucl/postdoc-experiments/voroni.ipynb#ch0000002?line=10'>11</a>\u001b[0m     req_tiles_rectan_fov_20perc_cover,\n\u001b[0;32m     <a href='vscode-notebook-cell:/c%3A/Users/alan/dev/ucl/postdoc-experiments/voroni.ipynb#ch0000002?line=11'>12</a>\u001b[0m     req_tiles_rectan_fov_110radius_cover_center,\n\u001b[0;32m     <a href='vscode-notebook-cell:/c%3A/Users/alan/dev/ucl/postdoc-experiments/voroni.ipynb#ch0000002?line=12'>13</a>\u001b[0m     req_tiles_voro14_fov_20perc_cover,\n\u001b[0;32m     <a href='vscode-notebook-cell:/c%3A/Users/alan/dev/ucl/postdoc-experiments/voroni.ipynb#ch0000002?line=13'>14</a>\u001b[0m     req_tiles_voro14_fov_33perc_cover,\n\u001b[0;32m     <a href='vscode-notebook-cell:/c%3A/Users/alan/dev/ucl/postdoc-experiments/voroni.ipynb#ch0000002?line=14'>15</a>\u001b[0m     req_tiles_voro24_fov_20perc_cover,\n\u001b[0;32m     <a href='vscode-notebook-cell:/c%3A/Users/alan/dev/ucl/postdoc-experiments/voroni.ipynb#ch0000002?line=15'>16</a>\u001b[0m     req_tiles_voro24_fov_33perc_cover,\n\u001b[0;32m     <a href='vscode-notebook-cell:/c%3A/Users/alan/dev/ucl/postdoc-experiments/voroni.ipynb#ch0000002?line=16'>17</a>\u001b[0m ])\n",
      "File \u001b[1;32mc:\\Users\\alan\\dev\\ucl\\postdoc-experiments\\.\\voroni.py:225\u001b[0m, in \u001b[0;36mreq_plot_per_func\u001b[1;34m(traces, func_list, plot_lines, plot_heatmaps)\u001b[0m\n\u001b[0;32m    <a href='file:///c%3A/Users/alan/dev/ucl/postdoc-experiments/./voroni.py?line=221'>222</a>\u001b[0m \u001b[39m# func_funcs_avg_area = [] # to calc avg funcs_avg_area\u001b[39;00m\n\u001b[0;32m    <a href='file:///c%3A/Users/alan/dev/ucl/postdoc-experiments/./voroni.py?line=222'>223</a>\u001b[0m \u001b[39m# call func per trace\u001b[39;00m\n\u001b[0;32m    <a href='file:///c%3A/Users/alan/dev/ucl/postdoc-experiments/./voroni.py?line=223'>224</a>\u001b[0m \u001b[39mfor\u001b[39;00m t \u001b[39min\u001b[39;00m traces:\n\u001b[1;32m--> <a href='file:///c%3A/Users/alan/dev/ucl/postdoc-experiments/./voroni.py?line=224'>225</a>\u001b[0m     req_in, quality_in, areas_in, heatmap_in \u001b[39m=\u001b[39m func(\u001b[39m*\u001b[39;49mcartesian_to_eulerian(t[\u001b[39m0\u001b[39;49m], t[\u001b[39m1\u001b[39;49m], t[\u001b[39m2\u001b[39;49m]))\n\u001b[0;32m    <a href='file:///c%3A/Users/alan/dev/ucl/postdoc-experiments/./voroni.py?line=225'>226</a>\u001b[0m     \u001b[39m# print(areas_in)\u001b[39;00m\n\u001b[0;32m    <a href='file:///c%3A/Users/alan/dev/ucl/postdoc-experiments/./voroni.py?line=226'>227</a>\u001b[0m     traces_n_reqs\u001b[39m.\u001b[39mappend(req_in)\n",
      "File \u001b[1;32mc:\\Users\\alan\\dev\\ucl\\postdoc-experiments\\.\\voroni.py:388\u001b[0m, in \u001b[0;36mreq_tiles_rectan_fov_33perc_cover\u001b[1;34m(phi_vp, theta_vp)\u001b[0m\n\u001b[0;32m    <a href='file:///c%3A/Users/alan/dev/ucl/postdoc-experiments/./voroni.py?line=386'>387</a>\u001b[0m \u001b[39mdef\u001b[39;00m \u001b[39mreq_tiles_rectan_fov_33perc_cover\u001b[39m(phi_vp, theta_vp):\n\u001b[1;32m--> <a href='file:///c%3A/Users/alan/dev/ucl/postdoc-experiments/./voroni.py?line=387'>388</a>\u001b[0m     \u001b[39mreturn\u001b[39;00m req_tiles_rectan_fov_required_intersec(phi_vp, theta_vp, \u001b[39m0.33\u001b[39;49m)\n",
      "File \u001b[1;32mc:\\Users\\alan\\dev\\ucl\\postdoc-experiments\\.\\voroni.py:283\u001b[0m, in \u001b[0;36mreq_tiles_rectan_fov_required_intersec\u001b[1;34m(phi_vp, theta_vp, required_intersec)\u001b[0m\n\u001b[0;32m    <a href='file:///c%3A/Users/alan/dev/ucl/postdoc-experiments/./voroni.py?line=280'>281</a>\u001b[0m rectan_tile_polygon \u001b[39m=\u001b[39m polygon\u001b[39m.\u001b[39mSphericalPolygon(rectan_tile_points)\n\u001b[0;32m    <a href='file:///c%3A/Users/alan/dev/ucl/postdoc-experiments/./voroni.py?line=281'>282</a>\u001b[0m fov_polygon \u001b[39m=\u001b[39m polygon\u001b[39m.\u001b[39mSphericalPolygon(points_fov_cartesian(phi_vp, theta_vp))\n\u001b[1;32m--> <a href='file:///c%3A/Users/alan/dev/ucl/postdoc-experiments/./voroni.py?line=282'>283</a>\u001b[0m view_area \u001b[39m=\u001b[39m rectan_tile_polygon\u001b[39m.\u001b[39;49moverlap(fov_polygon)\n\u001b[0;32m    <a href='file:///c%3A/Users/alan/dev/ucl/postdoc-experiments/./voroni.py?line=283'>284</a>\u001b[0m \u001b[39mif\u001b[39;00m view_area \u001b[39m>\u001b[39m required_intersec \u001b[39mand\u001b[39;00m view_area \u001b[39m<\u001b[39m\u001b[39m=\u001b[39m \u001b[39m1\u001b[39m:  \u001b[39m# TODO: reivew this\u001b[39;00m\n\u001b[0;32m    <a href='file:///c%3A/Users/alan/dev/ucl/postdoc-experiments/./voroni.py?line=284'>285</a>\u001b[0m     projection[i][j] \u001b[39m=\u001b[39m \u001b[39m1\u001b[39m\n",
      "File \u001b[1;32m~\\AppData\\Local\\Programs\\Python\\Python310\\lib\\site-packages\\spherical_geometry\\polygon.py:686\u001b[0m, in \u001b[0;36mSingleSphericalPolygon.overlap\u001b[1;34m(self, other)\u001b[0m\n\u001b[0;32m    <a href='file:///c%3A/Users/alan/AppData/Local/Programs/Python/Python310/lib/site-packages/spherical_geometry/polygon.py?line=665'>666</a>\u001b[0m \u001b[39mdef\u001b[39;00m \u001b[39moverlap\u001b[39m(\u001b[39mself\u001b[39m, other):\n\u001b[0;32m    <a href='file:///c%3A/Users/alan/AppData/Local/Programs/Python/Python310/lib/site-packages/spherical_geometry/polygon.py?line=666'>667</a>\u001b[0m     \u001b[39mr\u001b[39m\u001b[39m\"\"\"\u001b[39;00m\n\u001b[0;32m    <a href='file:///c%3A/Users/alan/AppData/Local/Programs/Python/Python310/lib/site-packages/spherical_geometry/polygon.py?line=667'>668</a>\u001b[0m \u001b[39m    Returns the fraction of *self* that is overlapped by *other*.\u001b[39;00m\n\u001b[0;32m    <a href='file:///c%3A/Users/alan/AppData/Local/Programs/Python/Python310/lib/site-packages/spherical_geometry/polygon.py?line=668'>669</a>\u001b[0m \n\u001b[1;32m   (...)\u001b[0m\n\u001b[0;32m    <a href='file:///c%3A/Users/alan/AppData/Local/Programs/Python/Python310/lib/site-packages/spherical_geometry/polygon.py?line=683'>684</a>\u001b[0m \u001b[39m        The fraction of *self* that is overlapped by *other*.\u001b[39;00m\n\u001b[0;32m    <a href='file:///c%3A/Users/alan/AppData/Local/Programs/Python/Python310/lib/site-packages/spherical_geometry/polygon.py?line=684'>685</a>\u001b[0m \u001b[39m    \"\"\"\u001b[39;00m\n\u001b[1;32m--> <a href='file:///c%3A/Users/alan/AppData/Local/Programs/Python/Python310/lib/site-packages/spherical_geometry/polygon.py?line=685'>686</a>\u001b[0m     s1 \u001b[39m=\u001b[39m \u001b[39mself\u001b[39;49m\u001b[39m.\u001b[39;49marea()\n\u001b[0;32m    <a href='file:///c%3A/Users/alan/AppData/Local/Programs/Python/Python310/lib/site-packages/spherical_geometry/polygon.py?line=686'>687</a>\u001b[0m     intersection \u001b[39m=\u001b[39m \u001b[39mself\u001b[39m\u001b[39m.\u001b[39mintersection(other)\n\u001b[0;32m    <a href='file:///c%3A/Users/alan/AppData/Local/Programs/Python/Python310/lib/site-packages/spherical_geometry/polygon.py?line=687'>688</a>\u001b[0m     s2 \u001b[39m=\u001b[39m intersection\u001b[39m.\u001b[39marea()\n",
      "File \u001b[1;32m~\\AppData\\Local\\Programs\\Python\\Python310\\lib\\site-packages\\spherical_geometry\\polygon.py:1108\u001b[0m, in \u001b[0;36mSphericalPolygon.area\u001b[1;34m(self)\u001b[0m\n\u001b[0;32m   <a href='file:///c%3A/Users/alan/AppData/Local/Programs/Python/Python310/lib/site-packages/spherical_geometry/polygon.py?line=1105'>1106</a>\u001b[0m area \u001b[39m=\u001b[39m \u001b[39m0.0\u001b[39m\n\u001b[0;32m   <a href='file:///c%3A/Users/alan/AppData/Local/Programs/Python/Python310/lib/site-packages/spherical_geometry/polygon.py?line=1106'>1107</a>\u001b[0m \u001b[39mfor\u001b[39;00m subpoly \u001b[39min\u001b[39;00m \u001b[39mself\u001b[39m:\n\u001b[1;32m-> <a href='file:///c%3A/Users/alan/AppData/Local/Programs/Python/Python310/lib/site-packages/spherical_geometry/polygon.py?line=1107'>1108</a>\u001b[0m     area \u001b[39m+\u001b[39m\u001b[39m=\u001b[39m subpoly\u001b[39m.\u001b[39;49marea()\n\u001b[0;32m   <a href='file:///c%3A/Users/alan/AppData/Local/Programs/Python/Python310/lib/site-packages/spherical_geometry/polygon.py?line=1108'>1109</a>\u001b[0m \u001b[39mreturn\u001b[39;00m area\n",
      "File \u001b[1;32m~\\AppData\\Local\\Programs\\Python\\Python310\\lib\\site-packages\\spherical_geometry\\polygon.py:553\u001b[0m, in \u001b[0;36mSingleSphericalPolygon.area\u001b[1;34m(self)\u001b[0m\n\u001b[0;32m    <a href='file:///c%3A/Users/alan/AppData/Local/Programs/Python/Python310/lib/site-packages/spherical_geometry/polygon.py?line=549'>550</a>\u001b[0m     \u001b[39mreturn\u001b[39;00m np\u001b[39m.\u001b[39marray(\u001b[39m0.0\u001b[39m)\n\u001b[0;32m    <a href='file:///c%3A/Users/alan/AppData/Local/Programs/Python/Python310/lib/site-packages/spherical_geometry/polygon.py?line=551'>552</a>\u001b[0m points \u001b[39m=\u001b[39m np\u001b[39m.\u001b[39mvstack((\u001b[39mself\u001b[39m\u001b[39m.\u001b[39m_points, \u001b[39mself\u001b[39m\u001b[39m.\u001b[39m_points[\u001b[39m1\u001b[39m]))\n\u001b[1;32m--> <a href='file:///c%3A/Users/alan/AppData/Local/Programs/Python/Python310/lib/site-packages/spherical_geometry/polygon.py?line=552'>553</a>\u001b[0m angles \u001b[39m=\u001b[39m great_circle_arc\u001b[39m.\u001b[39;49mangle(points[:\u001b[39m-\u001b[39;49m\u001b[39m2\u001b[39;49m], points[\u001b[39m1\u001b[39;49m:\u001b[39m-\u001b[39;49m\u001b[39m1\u001b[39;49m],\n\u001b[0;32m    <a href='file:///c%3A/Users/alan/AppData/Local/Programs/Python/Python310/lib/site-packages/spherical_geometry/polygon.py?line=553'>554</a>\u001b[0m                                 points[\u001b[39m2\u001b[39;49m:], degrees\u001b[39m=\u001b[39;49m\u001b[39mFalse\u001b[39;49;00m)\n\u001b[0;32m    <a href='file:///c%3A/Users/alan/AppData/Local/Programs/Python/Python310/lib/site-packages/spherical_geometry/polygon.py?line=555'>556</a>\u001b[0m \u001b[39mreturn\u001b[39;00m np\u001b[39m.\u001b[39msum(angles) \u001b[39m-\u001b[39m (\u001b[39mlen\u001b[39m(angles) \u001b[39m-\u001b[39m \u001b[39m2\u001b[39m) \u001b[39m*\u001b[39m np\u001b[39m.\u001b[39mpi\n",
      "File \u001b[1;32m~\\AppData\\Local\\Programs\\Python\\Python310\\lib\\site-packages\\spherical_geometry\\great_circle_arc.py:322\u001b[0m, in \u001b[0;36mangle\u001b[1;34m(A, B, C, degrees)\u001b[0m\n\u001b[0;32m    <a href='file:///c%3A/Users/alan/AppData/Local/Programs/Python/Python310/lib/site-packages/spherical_geometry/great_circle_arc.py?line=297'>298</a>\u001b[0m \u001b[39m\"\"\"\u001b[39;00m\n\u001b[0;32m    <a href='file:///c%3A/Users/alan/AppData/Local/Programs/Python/Python310/lib/site-packages/spherical_geometry/great_circle_arc.py?line=298'>299</a>\u001b[0m \u001b[39mReturns the angle at *B* between *AB* and *BC*.\u001b[39;00m\n\u001b[0;32m    <a href='file:///c%3A/Users/alan/AppData/Local/Programs/Python/Python310/lib/site-packages/spherical_geometry/great_circle_arc.py?line=299'>300</a>\u001b[0m \n\u001b[1;32m   (...)\u001b[0m\n\u001b[0;32m    <a href='file:///c%3A/Users/alan/AppData/Local/Programs/Python/Python310/lib/site-packages/spherical_geometry/great_circle_arc.py?line=318'>319</a>\u001b[0m \u001b[39m   polygon.  Graphics Gems IV.  1994.  Academic Press.\u001b[39;00m\n\u001b[0;32m    <a href='file:///c%3A/Users/alan/AppData/Local/Programs/Python/Python310/lib/site-packages/spherical_geometry/great_circle_arc.py?line=319'>320</a>\u001b[0m \u001b[39m\"\"\"\u001b[39;00m\n\u001b[0;32m    <a href='file:///c%3A/Users/alan/AppData/Local/Programs/Python/Python310/lib/site-packages/spherical_geometry/great_circle_arc.py?line=320'>321</a>\u001b[0m \u001b[39mif\u001b[39;00m HAS_C_UFUNCS:\n\u001b[1;32m--> <a href='file:///c%3A/Users/alan/AppData/Local/Programs/Python/Python310/lib/site-packages/spherical_geometry/great_circle_arc.py?line=321'>322</a>\u001b[0m     angle \u001b[39m=\u001b[39m math_util\u001b[39m.\u001b[39;49mangle(A, B, C)\n\u001b[0;32m    <a href='file:///c%3A/Users/alan/AppData/Local/Programs/Python/Python310/lib/site-packages/spherical_geometry/great_circle_arc.py?line=322'>323</a>\u001b[0m \u001b[39melse\u001b[39;00m:\n\u001b[0;32m    <a href='file:///c%3A/Users/alan/AppData/Local/Programs/Python/Python310/lib/site-packages/spherical_geometry/great_circle_arc.py?line=323'>324</a>\u001b[0m     A \u001b[39m=\u001b[39m np\u001b[39m.\u001b[39masanyarray(A)\n",
      "\u001b[1;31mValueError\u001b[0m: Out of domain for acos"
     ]
    }
   ],
   "source": [
    "# -- heatmap from_position_to_tile_center_covered\n",
    "from voroni import *\n",
    "\n",
    "# req_plot_per_func(get_traces_one_video_all_users()[::], [\n",
    "req_plot_per_func(get_traces_one_video_one_user()[::25], [\n",
    "    req_tiles_voro24_fov_110radius_cover_center,\n",
    "    req_tiles_voro14_fov_110radius_cover_center,\n",
    "    req_tiles_voro24_fov_110x90_cover_any,\n",
    "    req_tiles_voro14_fov_110x90_cover_any,\n",
    "    req_tiles_rectan_fov_33perc_cover,\n",
    "    req_tiles_rectan_fov_20perc_cover,\n",
    "    req_tiles_rectan_fov_110radius_cover_center,\n",
    "    req_tiles_voro14_fov_20perc_cover,\n",
    "    req_tiles_voro14_fov_33perc_cover,\n",
    "    req_tiles_voro24_fov_20perc_cover,\n",
    "    req_tiles_voro24_fov_33perc_cover,\n",
    "])\n"
   ]
  }
 ],
 "metadata": {
  "interpreter": {
   "hash": "bed9add7eda959bf6c8d12b02d45384ee68438564591465b81a62df10a32b7de"
  },
  "kernelspec": {
   "display_name": "Python 3.9.7 64-bit",
   "language": "python",
   "name": "python3"
  },
  "language_info": {
   "codemirror_mode": {
    "name": "ipython",
    "version": 3
   },
   "file_extension": ".py",
   "mimetype": "text/x-python",
   "name": "python",
   "nbconvert_exporter": "python",
   "pygments_lexer": "ipython3",
   "version": "3.10.2"
  },
  "orig_nbformat": 4
 },
 "nbformat": 4,
 "nbformat_minor": 2
}

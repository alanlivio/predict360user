{
 "cells": [
  {
   "cell_type": "code",
   "execution_count": 1,
   "metadata": {},
   "outputs": [
    {
     "name": "stdout",
     "output_type": "stream",
     "text": [
      "running get_sample_dataset on head_motion_prediction\n"
     ]
    }
   ],
   "source": [
    "from voroni import *\n",
    "# -- plot traces\n",
    "sphere_plot_voro_traces(VORONOI_SPHERE_14P, get_traces_one_video_one_user(),\n",
    "                        title_sufix=\"one_video_one_user\", to_html=False)\n",
    "sphere_plot_voro_traces(VORONOI_SPHERE_24P, get_traces_one_video_one_user(),\n",
    "                        title_sufix=\"one_video_one_user\", to_html=False)\n",
    "sphere_plot_voro_traces(VORONOI_SPHERE_24P, get_traces_one_video_all_users(),\n",
    "                        title_sufix=\"one_video_all_users\", to_html=False)\n",
    "sphere_plot_rectan_traces(6, 4, get_traces_one_video_one_user(),\n",
    "                          title_sufix=\"one_video_one_user\", to_html=False)\n",
    "sphere_plot_rectan_traces(6, 4, get_traces_one_video_all_users(),\n",
    "                          title_sufix=\"one_video_all_users\", to_html=False)\n",
    "\n",
    "# -- plot one trace vp\n",
    "sphere_plot_rectan_with_vp(6, 4, *get_one_trace_eulerian(), to_html=False)\n",
    "sphere_plot_rectan_with_vp(4, 4, *get_one_trace_eulerian(), to_html=False)\n",
    "sphere_plot_voro_with_vp(VORONOI_SPHERE_24P, *get_one_trace_eulerian(), to_html=False)\n"
   ]
  },
  {
   "cell_type": "code",
   "execution_count": null,
   "metadata": {},
   "outputs": [],
   "source": [
    "from voroni import *\n",
    "# -- plot vp with requested tiles in title\n",
    "to_html = False\n",
    "reqs_funcs = [\n",
    "    #   req_tiles_rectan_fov_110radius_cover_center,\n",
    "    req_tiles_rectan_fov_33perc_cover,\n",
    "    #   req_tiles_rectan_fov_20perc_cover,\n",
    "    #   req_tiles_voro14_fov_110radius_cover_center,\n",
    "    #   req_tiles_voro24_fov_110radius_cover_center\n",
    "]\n",
    "for func in reqs_funcs:\n",
    "    trace_cartesian = get_traces_one_video_one_user()[24:25:][0]\n",
    "    trace_eulerian = cartesian_to_eulerian(trace_cartesian[0], trace_cartesian[1], trace_cartesian[2])\n",
    "    # req_in, quality_in, areas_in, heatmap_in = func(trace_eulerian[0], trace_eulerian[1])\n",
    "    req_in = 0\n",
    "    title_sufix=f\", {req_in} tiles ({func.__name__})\"\n",
    "    if func.__name__.startswith(\"req_tiles_rectan\"):\n",
    "        sphere_plot_rectan_with_vp(\n",
    "            6, 4, trace_eulerian[0], trace_eulerian[1], title_sufix=title_sufix, to_html=to_html)\n",
    "        sphere_plot_rectan_with_vp(\n",
    "            4, 4, trace_eulerian[0], trace_eulerian[1], title_sufix=title_sufix, to_html=to_html)\n",
    "    elif func.__name__.startswith(\"req_tiles_voro14\"):\n",
    "        sphere_plot_voro_with_vp(\n",
    "            VORONOI_SPHERE_14P, trace_eulerian[0], trace_eulerian[1], title_sufix=title_sufix, to_html=to_html)\n",
    "    elif func.__name__.startswith(\"req_tiles_voro24\"):\n",
    "        sphere_plot_voro_with_vp(\n",
    "            VORONOI_SPHERE_24P, trace_eulerian[0], trace_eulerian[1], title_sufix=title_sufix, to_html=to_html)\n"
   ]
  },
  {
   "cell_type": "code",
   "execution_count": null,
   "metadata": {},
   "outputs": [],
   "source": [
    "# -- req performace\n",
    "from voroni import *\n",
    "req_plot_per_func(get_traces_one_video_one_user()[::25], [\n",
    "# req_plot_per_func(get_traces_one_video_one_user()[24:25:], [\n",
    "    req_tiles_voro24_fov_110radius_cover_center,\n",
    "    req_tiles_voro14_fov_110radius_cover_center,\n",
    "    req_tiles_voro24_fov_110x90_cover_any,\n",
    "    req_tiles_voro14_fov_110x90_cover_any,\n",
    "    req_tiles_rectan_fov_33perc_cover,\n",
    "    req_tiles_rectan_fov_20perc_cover,\n",
    "    req_tiles_rectan_fov_110radius_cover_center,\n",
    "    req_tiles_voro14_fov_20perc_cover,\n",
    "    req_tiles_voro14_fov_33perc_cover,\n",
    "    req_tiles_voro24_fov_20perc_cover,\n",
    "    req_tiles_voro24_fov_33perc_cover,\n",
    "], True)\n"
   ]
  }
 ],
 "metadata": {
  "interpreter": {
   "hash": "bed9add7eda959bf6c8d12b02d45384ee68438564591465b81a62df10a32b7de"
  },
  "kernelspec": {
   "display_name": "Python 3.9.7 64-bit",
   "language": "python",
   "name": "python3"
  },
  "language_info": {
   "codemirror_mode": {
    "name": "ipython",
    "version": 3
   },
   "file_extension": ".py",
   "mimetype": "text/x-python",
   "name": "python",
   "nbconvert_exporter": "python",
   "pygments_lexer": "ipython3",
   "version": "3.10.2"
  },
  "orig_nbformat": 4
 },
 "nbformat": 4,
 "nbformat_minor": 2
}

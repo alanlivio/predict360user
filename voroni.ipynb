{
 "cells": [
  {
   "cell_type": "code",
   "execution_count": null,
   "metadata": {},
   "outputs": [],
   "source": [
    "from voroni import *\n",
    "# -- plot traces\n",
    "one_user = VRUsers(get_traces_one_video_one_user())\n",
    "one_user.sphere_plot_voro_traces(VORONOI_SPHERE_14P, title_sufix=\"one_video_one_user\", to_html=False)\n",
    "one_user.sphere_plot_voro_traces(VORONOI_SPHERE_24P, title_sufix=\"one_video_one_user\", to_html=False)\n",
    "one_user.sphere_plot_rectan_traces(6, 4, title_sufix=\"one_video_one_user\", to_html=False)\n",
    "\n",
    "all_users = VRUsers(get_traces_one_video_all_users())\n",
    "all_users.sphere_plot_voro_traces(VORONOI_SPHERE_24P, title_sufix=\"one_video_all_users\", to_html=False)\n",
    "all_users.sphere_plot_rectan_traces(6, 4, title_sufix=\"one_video_all_users\", to_html=False)\n",
    "\n",
    "# -- plot one trace vp\n",
    "one_trace = VRUsers(get_traces_one_video_one_user()[:1])\n",
    "one_trace.sphere_plot_rectan_with_vp(6, 4, to_html=False)\n",
    "one_trace.sphere_plot_rectan_with_vp(4, 4, to_html=False)\n",
    "one_trace.sphere_plot_voro_with_vp(VORONOI_SPHERE_24P, to_html=False)"
   ]
  },
  {
   "cell_type": "code",
   "execution_count": null,
   "metadata": {},
   "outputs": [],
   "source": [
    "to_html = False\n",
    "reqs_funcs = [\n",
    "    #   req_tiles_rectan_fov_110radius_cover_center,\n",
    "    req_tiles_rectan_fov_33perc_cover,\n",
    "    #   req_tiles_rectan_fov_20perc_cover,\n",
    "    #   req_tiles_voro14_fov_110radius_cover_center,\n",
    "    #   req_tiles_voro24_fov_110radius_cover_center\n",
    "]\n",
    "one_trace = VRUsers(get_traces_one_video_one_user()[:1], True)\n",
    "for func in reqs_funcs:\n",
    "    # req_in, quality_in, areas_in, heatmap_in = func(trace_eulerian[0], trace_eulerian[1])\n",
    "    req_in = 0\n",
    "    title_sufix=f\", {req_in} tiles ({func.__name__})\"\n",
    "    if func.__name__.startswith(\"req_tiles_rectan\"):\n",
    "        one_trace.sphere_plot_rectan_with_vp(\n",
    "            6, 4, title_sufix=title_sufix, to_html=to_html)\n",
    "        one_trace.sphere_plot_rectan_with_vp(\n",
    "            4, 4, title_sufix=title_sufix, to_html=to_html)\n",
    "    elif func.__name__.startswith(\"req_tiles_voro14\"):\n",
    "        one_trace.sphere_plot_voro_with_vp(\n",
    "            VORONOI_SPHERE_14P, title_sufix=title_sufix, to_html=to_html)\n",
    "    elif func.__name__.startswith(\"req_tiles_voro24\"):\n",
    "        one_trace.sphere_plot_voro_with_vp(\n",
    "            VORONOI_SPHERE_24P, title_sufix=title_sufix, to_html=to_html)"
   ]
  },
  {
   "cell_type": "code",
   "execution_count": 1,
   "metadata": {},
   "outputs": [
    {
     "name": "stdout",
     "output_type": "stream",
     "text": [
      "-- get SAMPLE_DATASET from SAMPLE_DATASET.pickle\n",
      "VRUsers.traces.shape is (4, 3)\n"
     ]
    },
    {
     "ename": "IndexError",
     "evalue": "index 14 is out of bounds for axis 0 with size 14",
     "output_type": "error",
     "traceback": [
      "\u001b[1;31m---------------------------------------------------------------------------\u001b[0m",
      "\u001b[1;31mIndexError\u001b[0m                                Traceback (most recent call last)",
      "\u001b[1;32mc:\\Users\\alan\\dev\\ucl\\postdoc-experiments\\voroni.ipynb Cell 3'\u001b[0m in \u001b[0;36m<cell line: 6>\u001b[1;34m()\u001b[0m\n\u001b[0;32m      <a href='vscode-notebook-cell:/c%3A/Users/alan/dev/ucl/postdoc-experiments/voroni.ipynb#ch0000002?line=2'>3</a>\u001b[0m some_users \u001b[39m=\u001b[39m VRUsers(get_traces_one_video_one_user()[::\u001b[39m25\u001b[39m], \u001b[39mTrue\u001b[39;00m)\n\u001b[0;32m      <a href='vscode-notebook-cell:/c%3A/Users/alan/dev/ucl/postdoc-experiments/voroni.ipynb#ch0000002?line=3'>4</a>\u001b[0m \u001b[39m# req_plot_per_func(get_traces_one_video_one_user()[::25], [\u001b[39;00m\n\u001b[0;32m      <a href='vscode-notebook-cell:/c%3A/Users/alan/dev/ucl/postdoc-experiments/voroni.ipynb#ch0000002?line=4'>5</a>\u001b[0m \u001b[39m# req_plot_per_func(get_traces_one_video_one_user()[24:25:], [\u001b[39;00m\n\u001b[1;32m----> <a href='vscode-notebook-cell:/c%3A/Users/alan/dev/ucl/postdoc-experiments/voroni.ipynb#ch0000002?line=5'>6</a>\u001b[0m some_users\u001b[39m.\u001b[39;49mreq_plot_per_func([\n\u001b[0;32m      <a href='vscode-notebook-cell:/c%3A/Users/alan/dev/ucl/postdoc-experiments/voroni.ipynb#ch0000002?line=6'>7</a>\u001b[0m     req_tiles_voro24_fov_110radius_cover_center,\n\u001b[0;32m      <a href='vscode-notebook-cell:/c%3A/Users/alan/dev/ucl/postdoc-experiments/voroni.ipynb#ch0000002?line=7'>8</a>\u001b[0m     req_tiles_voro14_fov_110radius_cover_center,\n\u001b[0;32m      <a href='vscode-notebook-cell:/c%3A/Users/alan/dev/ucl/postdoc-experiments/voroni.ipynb#ch0000002?line=8'>9</a>\u001b[0m     req_tiles_voro24_fov_110x90_cover_any,\n\u001b[0;32m     <a href='vscode-notebook-cell:/c%3A/Users/alan/dev/ucl/postdoc-experiments/voroni.ipynb#ch0000002?line=9'>10</a>\u001b[0m     req_tiles_voro14_fov_110x90_cover_any,\n\u001b[0;32m     <a href='vscode-notebook-cell:/c%3A/Users/alan/dev/ucl/postdoc-experiments/voroni.ipynb#ch0000002?line=10'>11</a>\u001b[0m     req_tiles_rectan_fov_33perc_cover,\n\u001b[0;32m     <a href='vscode-notebook-cell:/c%3A/Users/alan/dev/ucl/postdoc-experiments/voroni.ipynb#ch0000002?line=11'>12</a>\u001b[0m     req_tiles_rectan_fov_20perc_cover,\n\u001b[0;32m     <a href='vscode-notebook-cell:/c%3A/Users/alan/dev/ucl/postdoc-experiments/voroni.ipynb#ch0000002?line=12'>13</a>\u001b[0m     req_tiles_rectan_fov_110radius_cover_center,\n\u001b[0;32m     <a href='vscode-notebook-cell:/c%3A/Users/alan/dev/ucl/postdoc-experiments/voroni.ipynb#ch0000002?line=13'>14</a>\u001b[0m     req_tiles_voro14_fov_20perc_cover,\n\u001b[0;32m     <a href='vscode-notebook-cell:/c%3A/Users/alan/dev/ucl/postdoc-experiments/voroni.ipynb#ch0000002?line=14'>15</a>\u001b[0m     req_tiles_voro14_fov_33perc_cover,\n\u001b[0;32m     <a href='vscode-notebook-cell:/c%3A/Users/alan/dev/ucl/postdoc-experiments/voroni.ipynb#ch0000002?line=15'>16</a>\u001b[0m     req_tiles_voro24_fov_20perc_cover,\n\u001b[0;32m     <a href='vscode-notebook-cell:/c%3A/Users/alan/dev/ucl/postdoc-experiments/voroni.ipynb#ch0000002?line=16'>17</a>\u001b[0m     req_tiles_voro24_fov_33perc_cover,\n\u001b[0;32m     <a href='vscode-notebook-cell:/c%3A/Users/alan/dev/ucl/postdoc-experiments/voroni.ipynb#ch0000002?line=17'>18</a>\u001b[0m ], \u001b[39mTrue\u001b[39;49;00m)\n",
      "File \u001b[1;32mc:\\Users\\alan\\dev\\ucl\\postdoc-experiments\\voroni.py:259\u001b[0m, in \u001b[0;36mVRUsers.req_plot_per_func\u001b[1;34m(self, func_list, plot_lines, plot_heatmaps)\u001b[0m\n\u001b[0;32m    <a href='file:///c%3A/Users/alan/dev/ucl/postdoc-experiments/voroni.py?line=255'>256</a>\u001b[0m \u001b[39m# func_funcs_avg_area = [] # to calc avg funcs_avg_area\u001b[39;00m\n\u001b[0;32m    <a href='file:///c%3A/Users/alan/dev/ucl/postdoc-experiments/voroni.py?line=256'>257</a>\u001b[0m \u001b[39m# call func per trace\u001b[39;00m\n\u001b[0;32m    <a href='file:///c%3A/Users/alan/dev/ucl/postdoc-experiments/voroni.py?line=257'>258</a>\u001b[0m \u001b[39mfor\u001b[39;00m t \u001b[39min\u001b[39;00m \u001b[39mself\u001b[39m\u001b[39m.\u001b[39mtraces:\n\u001b[1;32m--> <a href='file:///c%3A/Users/alan/dev/ucl/postdoc-experiments/voroni.py?line=258'>259</a>\u001b[0m     req_in, quality_in, areas_in, heatmap_in \u001b[39m=\u001b[39m func(\u001b[39m*\u001b[39;49mcartesian_to_eulerian(t[\u001b[39m0\u001b[39;49m], t[\u001b[39m1\u001b[39;49m], t[\u001b[39m2\u001b[39;49m]))\n\u001b[0;32m    <a href='file:///c%3A/Users/alan/dev/ucl/postdoc-experiments/voroni.py?line=259'>260</a>\u001b[0m     \u001b[39m# print(areas_in)\u001b[39;00m\n\u001b[0;32m    <a href='file:///c%3A/Users/alan/dev/ucl/postdoc-experiments/voroni.py?line=260'>261</a>\u001b[0m     traces_n_reqs\u001b[39m.\u001b[39mappend(req_in)\n",
      "File \u001b[1;32mc:\\Users\\alan\\dev\\ucl\\postdoc-experiments\\voroni.py:428\u001b[0m, in \u001b[0;36mreq_tiles_voro14_fov_110radius_cover_center\u001b[1;34m(phi_vp, theta_vp)\u001b[0m\n\u001b[0;32m    <a href='file:///c%3A/Users/alan/dev/ucl/postdoc-experiments/voroni.py?line=426'>427</a>\u001b[0m \u001b[39mdef\u001b[39;00m \u001b[39mreq_tiles_voro14_fov_110radius_cover_center\u001b[39m(phi_vp, theta_vp):\n\u001b[1;32m--> <a href='file:///c%3A/Users/alan/dev/ucl/postdoc-experiments/voroni.py?line=427'>428</a>\u001b[0m     \u001b[39mreturn\u001b[39;00m req_tiles_voro_fov_110radius_cover_center(phi_vp, theta_vp, VORONOI_SPHERE_14P)\n",
      "File \u001b[1;32mc:\\Users\\alan\\dev\\ucl\\postdoc-experiments\\voroni.py:381\u001b[0m, in \u001b[0;36mreq_tiles_voro_fov_110radius_cover_center\u001b[1;34m(phi_vp, theta_vp, spherical_voronoi)\u001b[0m\n\u001b[0;32m    <a href='file:///c%3A/Users/alan/dev/ucl/postdoc-experiments/voroni.py?line=378'>379</a>\u001b[0m \u001b[39mfor\u001b[39;00m j \u001b[39min\u001b[39;00m \u001b[39mrange\u001b[39m(t_hor):\n\u001b[0;32m    <a href='file:///c%3A/Users/alan/dev/ucl/postdoc-experiments/voroni.py?line=379'>380</a>\u001b[0m     index \u001b[39m=\u001b[39m i \u001b[39m*\u001b[39m t_hor \u001b[39m+\u001b[39m j \u001b[39m-\u001b[39m \u001b[39m1\u001b[39m\n\u001b[1;32m--> <a href='file:///c%3A/Users/alan/dev/ucl/postdoc-experiments/voroni.py?line=380'>381</a>\u001b[0m     phi_c, theta_c \u001b[39m=\u001b[39m cart_to_spher(\u001b[39m*\u001b[39mspherical_voronoi\u001b[39m.\u001b[39;49mpoints[index])\n\u001b[0;32m    <a href='file:///c%3A/Users/alan/dev/ucl/postdoc-experiments/voroni.py?line=381'>382</a>\u001b[0m     dist \u001b[39m=\u001b[39m arc_dist(phi_vp, theta_vp, phi_c, theta_c)\n\u001b[0;32m    <a href='file:///c%3A/Users/alan/dev/ucl/postdoc-experiments/voroni.py?line=382'>383</a>\u001b[0m     projection[i][j] \u001b[39m=\u001b[39m \u001b[39m1\u001b[39m \u001b[39mif\u001b[39;00m dist \u001b[39m<\u001b[39m\u001b[39m=\u001b[39m vp_110_rad_half \u001b[39melse\u001b[39;00m \u001b[39m0\u001b[39m\n",
      "\u001b[1;31mIndexError\u001b[0m: index 14 is out of bounds for axis 0 with size 14"
     ]
    }
   ],
   "source": [
    "# -- req performace\n",
    "from voroni import *\n",
    "some_users = VRUsers(get_traces_one_video_one_user()[::25], True)\n",
    "# req_plot_per_func(get_traces_one_video_one_user()[::25], [\n",
    "# req_plot_per_func(get_traces_one_video_one_user()[24:25:], [\n",
    "some_users.req_plot_per_func([\n",
    "    req_tiles_voro24_fov_110radius_cover_center,\n",
    "    req_tiles_voro14_fov_110radius_cover_center,\n",
    "    req_tiles_voro24_fov_110x90_cover_any,\n",
    "    req_tiles_voro14_fov_110x90_cover_any,\n",
    "    req_tiles_rectan_fov_33perc_cover,\n",
    "    req_tiles_rectan_fov_20perc_cover,\n",
    "    req_tiles_rectan_fov_110radius_cover_center,\n",
    "    req_tiles_voro14_fov_20perc_cover,\n",
    "    req_tiles_voro14_fov_33perc_cover,\n",
    "    req_tiles_voro24_fov_20perc_cover,\n",
    "    req_tiles_voro24_fov_33perc_cover,\n",
    "], True)\n"
   ]
  }
 ],
 "metadata": {
  "interpreter": {
   "hash": "bed9add7eda959bf6c8d12b02d45384ee68438564591465b81a62df10a32b7de"
  },
  "kernelspec": {
   "display_name": "Python 3.9.7 64-bit",
   "language": "python",
   "name": "python3"
  },
  "language_info": {
   "codemirror_mode": {
    "name": "ipython",
    "version": 3
   },
   "file_extension": ".py",
   "mimetype": "text/x-python",
   "name": "python",
   "nbconvert_exporter": "python",
   "pygments_lexer": "ipython3",
   "version": "3.10.2"
  },
  "orig_nbformat": 4
 },
 "nbformat": 4,
 "nbformat_minor": 2
}

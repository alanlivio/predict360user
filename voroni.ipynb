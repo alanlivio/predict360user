{
 "cells": [
  {
   "cell_type": "code",
   "execution_count": null,
   "metadata": {},
   "outputs": [],
   "source": [
    "from voroni import *\n",
    "# -- plot traces voroni tiles\n",
    "# sphere_plot_voro14_one_video_one_user() # one user\n",
    "# sphere_plot_voro14_one_video_all_users() # all user\n",
    "\n",
    "# -- plot traces rectan tiles\n",
    "# sphere_plot_rectan_traces(6, 4, SAMPLE_DATASET, ONE_USER, ONE_VIDEO)\n",
    "# sphere_plot_rectan_traces(4, 4, SAMPLE_DATASET, ONE_USER, ONE_VIDEO)\n",
    "\n",
    "# -- plot one vp\n",
    "# trace_cartesian = get_one_trace_one_video_one_user()\n",
    "# trace_eulerian = cartesian_to_eulerian(trace_cartesian[0], trace_cartesian[1], trace_cartesian[2])\n",
    "# sphere_plot_rectan_with_vp(6, 4, trace_eulerian[0], trace_eulerian[1])\n",
    "# sphere_plot_rectan_with_vp(4, 4, trace_eulerian[0], trace_eulerian[1])\n",
    "# sphere_plot_voro_with_vp(VORONOI_SPHERE_24P, trace_eulerian[0], trace_eulerian[1])\n"
   ]
  },
  {
   "cell_type": "code",
   "execution_count": null,
   "metadata": {},
   "outputs": [],
   "source": [
    "from voroni import *\n",
    "# -- plot vp with requested tiles in title\n",
    "to_html = False\n",
    "reqs_funcs = [req_tiles_rectan_fov_110radius_cover_center,\n",
    "              req_tiles_rectan_fov_33perc_cover,\n",
    "              req_tiles_rectan_fov_20perc_cover,\n",
    "              #   req_tiles_voro14_fov_110radius_cover_center,\n",
    "              #   req_tiles_voro24_fov_110radius_cover_center\n",
    "              ]\n",
    "for func in reqs_funcs:\n",
    "    trace_cartesian = get_traces_one_video_one_user()[:25:][0]\n",
    "    trace_eulerian = cartesian_to_eulerian(trace_cartesian[0], trace_cartesian[1], trace_cartesian[2])\n",
    "    # req_in, quality_in, areas_in, heatmap_in = func(trace_eulerian[0], trace_eulerian[1])\n",
    "    req_in = 0\n",
    "    if func.__name__.startswith(\"req_tiles_rectan\"):\n",
    "        sphere_plot_rectan_with_vp(\n",
    "            6, 4, trace_eulerian[0], trace_eulerian[1], title=f\"rect6x4 {func.__name__}={req_in}\", to_html=to_html)\n",
    "        sphere_plot_rectan_with_vp(\n",
    "            4, 4, trace_eulerian[0], trace_eulerian[1], title=f\"rect4x4 {func.__name__}={req_in}\", to_html=to_html)\n",
    "    elif func.__name__.startswith(\"req_tiles_voro14\"):\n",
    "        sphere_plot_voro_with_vp(\n",
    "            VORONOI_SPHERE_14P, trace_eulerian[0], trace_eulerian[1], title=f\"vor14 {func.__name__}={req_in}\", to_html=to_html)\n",
    "    elif func.__name__.startswith(\"req_tiles_voro24\"):\n",
    "        sphere_plot_voro_with_vp(\n",
    "            VORONOI_SPHERE_24P, trace_eulerian[0], trace_eulerian[1], title=f\"vor24 {func.__name__}={req_in}\", to_html=to_html)\n"
   ]
  },
  {
   "cell_type": "code",
   "execution_count": null,
   "metadata": {},
   "outputs": [],
   "source": [
    "# -- heatmap from_position_to_tile_center_covered\n",
    "from voroni import *\n",
    "\n",
    "# req_plot_per_func(get_traces_one_video_all_users()[::], [\n",
    "req_plot_per_func(get_traces_one_video_one_user()[::25], [\n",
    "    # req_tiles_voro24_fov_110radius_cover_center,\n",
    "    # req_tiles_voro14_fov_110radius_cover_center,\n",
    "    # req_tiles_voro24_fov_110x90_cover_any,\n",
    "    # req_tiles_voro14_fov_110x90_cover_any,\n",
    "    req_tiles_rectan_fov_33perc_cover,\n",
    "    req_tiles_rectan_fov_20perc_cover,\n",
    "    req_tiles_rectan_fov_110radius_cover_center,\n",
    "    # req_tiles_voro14_fov_20perc_cover,\n",
    "    # req_tiles_voro14_fov_33perc_cover,\n",
    "    # req_tiles_voro24_fov_20perc_cover,\n",
    "    # req_tiles_voro24_fov_33perc_cover,\n",
    "])\n"
   ]
  }
 ],
 "metadata": {
  "interpreter": {
   "hash": "bed9add7eda959bf6c8d12b02d45384ee68438564591465b81a62df10a32b7de"
  },
  "kernelspec": {
   "display_name": "Python 3.9.7 64-bit",
   "language": "python",
   "name": "python3"
  },
  "language_info": {
   "codemirror_mode": {
    "name": "ipython",
    "version": 3
   },
   "file_extension": ".py",
   "mimetype": "text/x-python",
   "name": "python",
   "nbconvert_exporter": "python",
   "pygments_lexer": "ipython3",
   "version": "3.10.2"
  },
  "orig_nbformat": 4
 },
 "nbformat": 4,
 "nbformat_minor": 2
}

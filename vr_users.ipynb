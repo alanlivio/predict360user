{
 "cells": [
  {
   "cell_type": "code",
   "execution_count": null,
   "metadata": {},
   "outputs": [],
   "source": [
    "from vr_users import *\n",
    "# -- plot traces\n",
    "one_user = VRTraces(VRUsers().get_traces_one_video_one_user())\n",
    "all_users = VRTraces(VRUsers().get_traces_one_video_all_users())\n",
    "one_trace = VRTraces(VRUsers().get_one_trace())\n",
    "\n",
    "one_user.plot_sphere_voro(VORONOI_SPHERE_14P, title_sufix=\"one_video_one_user\", to_html=False)\n",
    "one_user.plot_sphere_voro(VORONOI_SPHERE_24P, title_sufix=\"one_video_one_user\", to_html=False)\n",
    "one_user.plot_sphere_rectan(6, 4, title_sufix=\"one_video_one_user\", to_html=False)\n",
    "\n",
    "all_users.plot_sphere_voro(VORONOI_SPHERE_24P, title_sufix=\"one_video_all_users\", to_html=False)\n",
    "all_users.plot_sphere_rectan(6, 4, title_sufix=\"one_video_all_users\", to_html=False)\n",
    "\n",
    "# -- plot one trace vp\n",
    "one_trace.plot_sphere_rectan_with_vp(6, 4, to_html=False)\n",
    "one_trace.plot_sphere_rectan_with_vp(4, 4, to_html=False)\n",
    "one_trace.plot_sphere_voro_with_vp(VORONOI_SPHERE_24P, to_html=False)\n"
   ]
  },
  {
   "cell_type": "code",
   "execution_count": null,
   "metadata": {},
   "outputs": [],
   "source": [
    "from vr_users import *\n",
    "one_trace = VRTraces(VRUsers().get_one_trace(), True)\n",
    "to_html = False\n",
    "reqs_funcs = [\n",
    "    #   req_tiles_rectan_fov_110radius_cover_center,\n",
    "    req_tiles_rectan_fov_33perc_cover,\n",
    "    #   req_tiles_rectan_fov_20perc_cover,\n",
    "    #   req_tiles_voro14_fov_110radius_cover_center,\n",
    "    #   req_tiles_voro24_fov_110radius_cover_center\n",
    "]\n",
    "for func in reqs_funcs:\n",
    "    # req_in, quality_in, areas_in, heatmap_in = func(trace_eulerian[0], trace_eulerian[1])\n",
    "    req_in = 0\n",
    "    title_sufix=f\", {req_in} tiles ({func.__name__})\"\n",
    "    if func.__name__.startswith(\"req_tiles_rectan\"):\n",
    "        one_trace.plot_sphere_rectan_with_vp(\n",
    "            6, 4, title_sufix=title_sufix, to_html=to_html)\n",
    "        one_trace.plot_sphere_rectan_with_vp(\n",
    "            4, 4, title_sufix=title_sufix, to_html=to_html)\n",
    "    elif func.__name__.startswith(\"req_tiles_voro14\"):\n",
    "        one_trace.plot_sphere_voro_with_vp(\n",
    "            VORONOI_SPHERE_14P, title_sufix=title_sufix, to_html=to_html)\n",
    "    elif func.__name__.startswith(\"req_tiles_voro24\"):\n",
    "        one_trace.plot_sphere_voro_with_vp(\n",
    "            VORONOI_SPHERE_24P, title_sufix=title_sufix, to_html=to_html)"
   ]
  },
  {
   "cell_type": "code",
   "execution_count": null,
   "metadata": {},
   "outputs": [],
   "source": [
    "\n",
    "# -- req performace\n",
    "from vr_users import *\n",
    "some_users = VRTraces(VRUsers().get_traces_random_one_user(4), True)\n",
    "# req_plot_per_func(get_traces_one_video_one_user()[::25], [\n",
    "# req_plot_per_func(get_traces_one_video_one_user()[24:25:], [\n",
    "some_users.req_plot_per_func([\n",
    "    req_tiles_voro24_fov_110radius_cover_center,\n",
    "    req_tiles_voro14_fov_110radius_cover_center,\n",
    "    req_tiles_voro24_fov_110x90_cover_any,\n",
    "    req_tiles_voro14_fov_110x90_cover_any,\n",
    "    req_tiles_rectan_fov_33perc_cover,\n",
    "    req_tiles_rectan_fov_20perc_cover,\n",
    "    req_tiles_rectan_fov_110radius_cover_center,\n",
    "    req_tiles_voro14_fov_20perc_cover,\n",
    "    req_tiles_voro14_fov_33perc_cover,\n",
    "    req_tiles_voro24_fov_20perc_cover,\n",
    "    req_tiles_voro24_fov_33perc_cover,\n",
    "], True)\n"
   ]
  }
 ],
 "metadata": {
  "interpreter": {
   "hash": "bed9add7eda959bf6c8d12b02d45384ee68438564591465b81a62df10a32b7de"
  },
  "kernelspec": {
   "display_name": "Python 3.9.7 64-bit",
   "language": "python",
   "name": "python3"
  },
  "language_info": {
   "codemirror_mode": {
    "name": "ipython",
    "version": 3
   },
   "file_extension": ".py",
   "mimetype": "text/x-python",
   "name": "python",
   "nbconvert_exporter": "python",
   "pygments_lexer": "ipython3",
   "version": "3.10.2"
  },
  "orig_nbformat": 4
 },
 "nbformat": 4,
 "nbformat_minor": 2
}

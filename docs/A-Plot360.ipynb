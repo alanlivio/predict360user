{
 "cells": [
  {
   "cell_type": "code",
   "execution_count": null,
   "metadata": {},
   "outputs": [],
   "source": [
    "from predict360user import Plot360"
   ]
  },
  {
   "cell_type": "markdown",
   "metadata": {},
   "source": [
    "### Plot360 a trace"
   ]
  },
  {
   "cell_type": "code",
   "execution_count": null,
   "metadata": {},
   "outputs": [],
   "source": [
    "# show tile covering for cardinal points\n",
    "look_north_pole = [0.0, 0.0, 1.0]\n",
    "look_south_pole = [0.0, 0.0, -1.0]\n",
    "look_left = [0.0, -1.0, 0.0]\n",
    "look_right = [0.0, 1.0, 0.0]\n",
    "look_ahead = [1.0, 0.0, 0.0]\n",
    "look_behind = [-1.0, 0.0, 0.0]\n",
    "Plot360().show_fov(look_north_pole)\n",
    "Plot360().show_fov(look_south_pole)\n",
    "Plot360().show_fov(look_left)\n",
    "Plot360().show_fov(look_right)\n",
    "Plot360().show_fov(look_ahead)\n",
    "Plot360().show_fov(look_behind)\n"
   ]
  }
 ],
 "metadata": {
  "language_info": {
   "name": "python"
  },
  "orig_nbformat": 4
 },
 "nbformat": 4,
 "nbformat_minor": 2
}

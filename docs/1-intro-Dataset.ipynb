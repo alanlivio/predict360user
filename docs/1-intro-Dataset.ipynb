{
    "cells": [
        {
            "cell_type": "markdown",
            "metadata": {},
            "source": [
                "### Showing one trajectory at Rondon's head_motion_prediction"
            ]
        },
        {
            "cell_type": "code",
            "execution_count": null,
            "metadata": {},
            "outputs": [],
            "source": [
                "import os\n",
                "import sys\n",
                "\n",
                "project_path = f\"predict360user/head_motion_prediction/\"\n",
                "sys.path.append(project_path)\n",
                "from predict360user.head_motion_prediction.David_MMSys_18.Read_Dataset import (load_sampled_dataset, plot_3d_trace)\n",
                "\n",
                "ONE_USER = '0'\n",
                "ONE_VIDEO = '10_Cows'\n",
                "if not 'SAMPLE_DATASET' in locals():\n",
                "  print(f\"get SAMPLE_DATASET from {project_path}\")\n",
                "  cwd = os.getcwd()\n",
                "  os.chdir(project_path) # load_sampled_datasetuses relative path\n",
                "  SAMPLE_DATASET = load_sampled_dataset()\n",
                "  os.chdir(cwd)\n",
                "\n",
                "traces = SAMPLE_DATASET[ONE_USER][ONE_VIDEO][:, 1:]\n",
                "\n",
                "# plot 3d\n",
                "plot_3d_trace(traces, ONE_USER, ONE_VIDEO)\n"
            ]
        },
        {
            "cell_type": "code",
            "execution_count": null,
            "metadata": {},
            "outputs": [],
            "source": [
                "import plotly.express as px\n",
                "import plotly.graph_objs as go\n",
                "import numpy as np\n",
                "from predict360user.head_motion_prediction import utils\n",
                "\n",
                "\n",
                "# plot heatmap\n",
                "heatmaps = []\n",
                "for i in traces:\n",
                "    heatmaps.append(\n",
                "        utils.from_position_to_tile(\n",
                "            utils.eulerian_in_range(*utils.cartesian_to_eulerian(i[0], i[1], i[2])),\n",
                "            6,\n",
                "            4,\n",
                "        )\n",
                "    )\n",
                "fig = px.imshow(\n",
                "    np.sum(heatmaps, axis=0),\n",
                "    labels=dict(x=\"longitude\", y=\"latitude\", color=\"requests\"),\n",
                "    title=f\"{len(traces)}_traces (reqs={np.sum(heatmaps)})\",\n",
                ")\n",
                "fig.update_layout(go.Layout(width=600))\n",
                "fig.show()"
            ]
        },
        {
            "cell_type": "markdown",
            "metadata": {},
            "source": [
                "### Dataset"
            ]
        },
        {
            "cell_type": "code",
            "execution_count": null,
            "metadata": {},
            "outputs": [],
            "source": [
                "from predict360user import Dataset\n",
                "\n",
                "ds = Dataset(dataset_name=\"all\")\n",
                "display(ds.df.head())\n",
                "display(ds.df[\"actS_c\"].value_counts())"
            ]
        },
        {
            "cell_type": "code",
            "execution_count": null,
            "metadata": {},
            "outputs": [],
            "source": [
                "ds.show_entropy_histogram()"
            ]
        },
        {
            "cell_type": "code",
            "execution_count": null,
            "metadata": {},
            "outputs": [],
            "source": [
                "ds.partition()\n",
                "ds.show_entropy_histogram_per_partition()\n",
                "ds.partition(\"low\")\n",
                "ds.show_entropy_histogram_per_partition()\n",
                "ds.partition(\"medium\")\n",
                "ds.show_entropy_histogram_per_partition()\n",
                "ds.partition(\"nolow\")\n",
                "ds.show_entropy_histogram_per_partition()\n",
                "ds.partition(\"nohigh\")\n",
                "ds.show_entropy_histogram_per_partition()\n",
                "ds.partition(\"high\")\n",
                "ds.show_entropy_histogram_per_partition()"
            ]
        },
        {
            "attachments": {},
            "cell_type": "markdown",
            "metadata": {},
            "source": [
                "### Dataset.show_traject"
            ]
        },
        {
            "cell_type": "code",
            "execution_count": null,
            "metadata": {},
            "outputs": [],
            "source": [
                "# show random traject \n",
                "ds.show_traject(ds.df.sample(1).iloc[0])"
            ]
        },
        {
            "cell_type": "code",
            "execution_count": null,
            "metadata": {},
            "outputs": [],
            "source": [
                "# show one traject\n",
                "ds.show_traject(ds.df.loc[\"david\",\"0\", \"10_Cows\"])"
            ]
        },
        {
            "attachments": {},
            "cell_type": "markdown",
            "metadata": {},
            "source": [
                "### Dataset.show_traject from entropy class"
            ]
        },
        {
            "cell_type": "code",
            "execution_count": null,
            "metadata": {},
            "outputs": [],
            "source": [
                "# show representive trajectory for each entropy class\n",
                "ds.show_traject(ds.df[ds.df['actS_c'] == 'low'].nsmallest(1,'actS').iloc[0])\n",
                "ds.show_traject(ds.df[ds.df['actS_c'] == 'medium'].nsmallest(1,'actS').iloc[0])\n",
                "ds.show_traject(ds.df[ds.df['actS_c'] == 'high'].nlargest(1,'actS').iloc[0])"
            ]
        },
        {
            "cell_type": "markdown",
            "metadata": {},
            "source": [
                "### Dataset.show_traject from poles_prc class"
            ]
        },
        {
            "cell_type": "code",
            "execution_count": null,
            "metadata": {},
            "outputs": [],
            "source": [
                "# calculate poles_prc_c\n",
                "if not 'poles_prc_c' in ds.df.columns:\n",
                "  ds.calc_traces_poles_prc()\n",
                "ds.show_histogram(['poles_prc'])"
            ]
        },
        {
            "cell_type": "code",
            "execution_count": null,
            "metadata": {},
            "outputs": [],
            "source": [
                "# show representive trajectory for poler_prc class\n",
                "ds.show_traject(ds.df[ds.df['poles_prc_c'] == 'low'].nsmallest(1,'actS').iloc[0])\n",
                "ds.show_traject(ds.df[ds.df['poles_prc_c'] == 'medium'].nsmallest(1,'actS').iloc[0])\n",
                "ds.show_traject(ds.df[ds.df['poles_prc_c'] == 'high'].nlargest(1,'actS').iloc[0])"
            ]
        }
    ],
    "metadata": {
        "kernelspec": {
            "display_name": "p3u",
            "language": "python",
            "name": "python3"
        },
        "language_info": {
            "codemirror_mode": {
                "name": "ipython",
                "version": 3
            },
            "file_extension": ".py",
            "mimetype": "text/x-python",
            "name": "python",
            "nbconvert_exporter": "python",
            "pygments_lexer": "ipython3",
            "version": "3.9.0"
        },
        "orig_nbformat": 4,
        "vscode": {
            "interpreter": {
                "hash": "66a6e24e3eabadf942c3c82dbcfdeeda85f448bccd56eeb7cc0caee4180366a0"
            }
        }
    },
    "nbformat": 4,
    "nbformat_minor": 2
}

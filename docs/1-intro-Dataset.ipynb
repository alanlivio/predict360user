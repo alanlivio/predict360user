{
    "cells": [
        {
            "attachments": {},
            "cell_type": "markdown",
            "metadata": {},
            "source": [
                "### Dataset loading"
            ]
        },
        {
            "cell_type": "code",
            "execution_count": 1,
            "metadata": {},
            "outputs": [
                {
                    "name": "stderr",
                    "output_type": "stream",
                    "text": [
                        "-- users360: loading df from c:\\Users\\alan\\src\\users360\\data\\df_trajects.pickle\n"
                    ]
                }
            ],
            "source": [
                "from predict360user import Dataset, Plot360\n",
                "ds = ds if 'ds' in locals() else Dataset()\n",
                "# display(ds.df.head())\n",
                "# ds.dump()"
            ]
        },
        {
            "attachments": {},
            "cell_type": "markdown",
            "metadata": {},
            "source": [
                "### Plot trajectory"
            ]
        },
        {
            "cell_type": "code",
            "execution_count": null,
            "metadata": {},
            "outputs": [],
            "source": [
                "# show random traject \n",
                "traject = ds.get_traject_random()\n",
                "Plot360().show_traject(traject)"
            ]
        },
        {
            "cell_type": "code",
            "execution_count": null,
            "metadata": {},
            "outputs": [],
            "source": [
                "# select one traject\n",
                "traject = ds.df.query(f\"ds=='david' and user=='david_0' and video=='david_10_Cows'\")\n",
                "Plot360().show_traject(traject)"
            ]
        },
        {
            "cell_type": "code",
            "execution_count": null,
            "metadata": {},
            "outputs": [],
            "source": [
                "# show one trace\n",
                "trace = ds.get_trace_random()\n",
                "Plot360().show_fov(trace)"
            ]
        },
        {
            "attachments": {},
            "cell_type": "markdown",
            "metadata": {},
            "source": [
                "### Calculate entropy"
            ]
        },
        {
            "cell_type": "code",
            "execution_count": null,
            "metadata": {},
            "outputs": [],
            "source": [
                "# calculate actS_c\n",
                "if not 'actS_c' in ds.df.columns:\n",
                "  ds.calc_traces_entropy()\n",
                "ds.show_histogram()\n",
                "# ds.show_histogram(df, facet='ds')"
            ]
        },
        {
            "cell_type": "code",
            "execution_count": null,
            "metadata": {},
            "outputs": [],
            "source": [
                "# show representive trajectory for each actS_c\n",
                "Plot360().show_traject(ds.df[ds.df['actS_c'] == 'low'].nsmallest(1,'actS'))\n",
                "Plot360().show_traject(ds.df[ds.df['actS_c'] == 'medium'].nsmallest(1,'actS'))\n",
                "Plot360().show_traject(ds.df[ds.df['actS_c'] == 'hight'].nlargest(1,'actS'))"
            ]
        },
        {
            "cell_type": "code",
            "execution_count": null,
            "metadata": {},
            "outputs": [],
            "source": [
                "# calculate hmpS_c\n",
                "if not 'hmpS_c' in ds.df.columns:\n",
                "  calc_traces_entropy_hmp(ds.df)\n",
                "ds.show_histogram()"
            ]
        },
        {
            "cell_type": "code",
            "execution_count": null,
            "metadata": {},
            "outputs": [],
            "source": [
                "# show representive trajectory for each hmpS_c\n",
                "Plot360().show_traject(ds.df[ds.df['hmpS_c'] == 'low'].nsmallest(1,'hmpS'))\n",
                "Plot360().show_traject(ds.df[ds.df['hmpS_c'] == 'medium'].nsmallest(1,'hmpS'))\n",
                "Plot360().show_traject(ds.df[ds.df['hmpS_c'] == 'hight'].nlargest(1,'hmpS'))"
            ]
        },
        {
            "cell_type": "code",
            "execution_count": null,
            "metadata": {},
            "outputs": [],
            "source": [
                "# relate actS_c and hmpS_c\n",
                "import plotly.express as px\n",
                "px.histogram(ds.df,\n",
                "              x='actS',\n",
                "              color='actS_c',\n",
                "              facet_col='hmpS_c',\n",
                "              color_discrete_map=Dataset.ENTROPY_CLASS_COLORS,\n",
                "              width=900).show()"
            ]
        },
        {
            "cell_type": "code",
            "execution_count": null,
            "metadata": {},
            "outputs": [],
            "source": [
                "# calculate poles_prc_c\n",
                "if not 'poles_prc_c' in ds.df.columns:\n",
                "  ds.calc_traces_poles_prc()\n",
                "ds.show_histogram(['poles_prc'])"
            ]
        },
        {
            "cell_type": "code",
            "execution_count": null,
            "metadata": {},
            "outputs": [],
            "source": [
                "# show representive trajectory for each poles class\n",
                "Plot360().show_traject(ds.df[ds.df['poles_prc_c'] == 'low'][:1])\n",
                "Plot360().show_traject(ds.df[ds.df['poles_prc_c'] == 'medium'][:1])\n",
                "Plot360().show_traject(ds.df[ds.df['poles_prc_c'] == 'hight'][:1])"
            ]
        },
        {
            "attachments": {},
            "cell_type": "markdown",
            "metadata": {},
            "source": [
                "### Calculate tileset metrics"
            ]
        },
        {
            "cell_type": "code",
            "execution_count": null,
            "metadata": {},
            "outputs": [],
            "source": [
                "# show tile covering for cardinal points\n",
                "look_north_pole = [0.0, 0.0, 1.0]\n",
                "look_south_pole = [0.0, 0.0, -1.0]\n",
                "look_left = [0.0, -1.0, 0.0]\n",
                "look_right = [0.0, 1.0, 0.0]\n",
                "look_ahead = [1.0, 0.0, 0.0]\n",
                "look_behind = [-1.0, 0.0, 0.0]\n",
                "Plot360().show_fov(look_north_pole)\n",
                "Plot360().show_fov(look_south_pole)\n",
                "Plot360().show_fov(look_left)\n",
                "Plot360().show_fov(look_right)\n",
                "Plot360().show_fov(look_ahead)\n",
                "Plot360().show_fov(look_behind)\n"
            ]
        },
        {
            "cell_type": "code",
            "execution_count": null,
            "metadata": {},
            "outputs": [],
            "source": [
                "tileset_variations = [\n",
                "    TileSet(3, 3, TileCover.ANY), \n",
                "    TileSetVoro(14, TileCover.ANY)\n",
                "]\n",
                "ds.calc_tileset_reqs_metrics(ds.df[:2], tileset_variations)\n"
            ]
        },
        {
            "cell_type": "code",
            "execution_count": null,
            "metadata": {},
            "outputs": [],
            "source": [
                "ds.show_tileset_reqs_metrics(ds.df[:2])"
            ]
        }
    ],
    "metadata": {
        "kernelspec": {
            "display_name": "predict360user",
            "language": "python",
            "name": "python3"
        },
        "language_info": {
            "codemirror_mode": {
                "name": "ipython",
                "version": 3
            },
            "file_extension": ".py",
            "mimetype": "text/x-python",
            "name": "python",
            "nbconvert_exporter": "python",
            "pygments_lexer": "ipython3",
            "version": "3.9.13"
        },
        "orig_nbformat": 4,
        "vscode": {
            "interpreter": {
                "hash": "cce6db3ab109cbdb255abfd5dd9beeb5db137de0288e667c8f988b0097583af4"
            }
        }
    },
    "nbformat": 4,
    "nbformat_minor": 2
}

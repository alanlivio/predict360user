{
    "cells": [
        {
            "cell_type": "markdown",
            "metadata": {},
            "source": [
                "### Dataset"
            ]
        },
        {
            "cell_type": "code",
            "execution_count": null,
            "metadata": {},
            "outputs": [],
            "source": [
                "from predict360user import Dataset, Plot360\n",
                "\n",
                "ds: Dataset = locals()[\"ds\"] if \"ds\" in locals() else Dataset()\n",
                "display(ds.df.head())\n",
                "display(ds.df[\"actS_c\"].value_counts())"
            ]
        },
        {
            "cell_type": "markdown",
            "metadata": {},
            "source": [
                "### Plot360 a trace"
            ]
        },
        {
            "cell_type": "code",
            "execution_count": null,
            "metadata": {},
            "outputs": [],
            "source": [
                "# show tile covering for cardinal points\n",
                "look_north_pole = [0.0, 0.0, 1.0]\n",
                "look_south_pole = [0.0, 0.0, -1.0]\n",
                "look_left = [0.0, -1.0, 0.0]\n",
                "look_right = [0.0, 1.0, 0.0]\n",
                "look_ahead = [1.0, 0.0, 0.0]\n",
                "look_behind = [-1.0, 0.0, 0.0]\n",
                "Plot360().show_fov(look_north_pole)\n",
                "Plot360().show_fov(look_south_pole)\n",
                "Plot360().show_fov(look_left)\n",
                "Plot360().show_fov(look_right)\n",
                "Plot360().show_fov(look_ahead)\n",
                "Plot360().show_fov(look_behind)\n"
            ]
        },
        {
            "attachments": {},
            "cell_type": "markdown",
            "metadata": {},
            "source": [
                "### Plot360 a trajectory"
            ]
        },
        {
            "cell_type": "code",
            "execution_count": null,
            "metadata": {},
            "outputs": [],
            "source": [
                "# show random traject \n",
                "traject = ds.get_random_traject()\n",
                "Plot360().show_traject(traject)"
            ]
        },
        {
            "cell_type": "code",
            "execution_count": null,
            "metadata": {},
            "outputs": [],
            "source": [
                "# select one traject\n",
                "traject = ds.df.loc[\"david\",\"0\", \"10_Cows\"]\n",
                "Plot360().show_traject(traject)"
            ]
        },
        {
            "cell_type": "code",
            "execution_count": null,
            "metadata": {},
            "outputs": [],
            "source": [
                "# show one trace\n",
                "trace = ds.get_random_trace()\n",
                "Plot360().show_fov(trace)"
            ]
        },
        {
            "attachments": {},
            "cell_type": "markdown",
            "metadata": {},
            "source": [
                "### Dataset.show_histogram"
            ]
        },
        {
            "cell_type": "code",
            "execution_count": null,
            "metadata": {},
            "outputs": [],
            "source": [
                "ds.show_histogram()"
            ]
        },
        {
            "cell_type": "code",
            "execution_count": null,
            "metadata": {},
            "outputs": [],
            "source": [
                "# show representive trajectory for each actS_c\n",
                "Plot360().show_traject(ds.df[ds.df['actS_c'] == 'low'].nsmallest(1,'actS'))\n",
                "Plot360().show_traject(ds.df[ds.df['actS_c'] == 'medium'].nsmallest(1,'actS'))\n",
                "Plot360().show_traject(ds.df[ds.df['actS_c'] == 'high'].nlargest(1,'actS'))"
            ]
        },
        {
            "cell_type": "markdown",
            "metadata": {},
            "source": [
                "### Dataset.calc_traces_poles_prc\n"
            ]
        },
        {
            "cell_type": "code",
            "execution_count": null,
            "metadata": {},
            "outputs": [],
            "source": [
                "# calculate poles_prc_c\n",
                "if not 'poles_prc_c' in ds.df.columns:\n",
                "  ds.calc_traces_poles_prc()\n",
                "ds.show_histogram(['poles_prc'])"
            ]
        },
        {
            "cell_type": "code",
            "execution_count": null,
            "metadata": {},
            "outputs": [],
            "source": [
                "# show representive trajectory for each poles class\n",
                "Plot360().show_traject(ds.df[ds.df['poles_prc_c'] == 'low'][:1])\n",
                "Plot360().show_traject(ds.df[ds.df['poles_prc_c'] == 'medium'][:1])\n",
                "Plot360().show_traject(ds.df[ds.df['poles_prc_c'] == 'high'][:1])"
            ]
        }
    ],
    "metadata": {
        "kernelspec": {
            "display_name": "p3u",
            "language": "python",
            "name": "python3"
        },
        "language_info": {
            "codemirror_mode": {
                "name": "ipython",
                "version": 3
            },
            "file_extension": ".py",
            "mimetype": "text/x-python",
            "name": "python",
            "nbconvert_exporter": "python",
            "pygments_lexer": "ipython3",
            "version": "3.9.0"
        },
        "orig_nbformat": 4,
        "vscode": {
            "interpreter": {
                "hash": "66a6e24e3eabadf942c3c82dbcfdeeda85f448bccd56eeb7cc0caee4180366a0"
            }
        }
    },
    "nbformat": 4,
    "nbformat_minor": 2
}

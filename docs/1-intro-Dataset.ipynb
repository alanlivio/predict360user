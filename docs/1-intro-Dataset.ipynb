{
    "cells": [
        {
            "attachments": {},
            "cell_type": "markdown",
            "metadata": {},
            "source": [
                "### Dataset loading"
            ]
        },
        {
            "cell_type": "code",
            "execution_count": 3,
            "metadata": {},
            "outputs": [
                {
                    "data": {
                        "text/html": [
                            "<div>\n",
                            "<style scoped>\n",
                            "    .dataframe tbody tr th:only-of-type {\n",
                            "        vertical-align: middle;\n",
                            "    }\n",
                            "\n",
                            "    .dataframe tbody tr th {\n",
                            "        vertical-align: top;\n",
                            "    }\n",
                            "\n",
                            "    .dataframe thead th {\n",
                            "        text-align: right;\n",
                            "    }\n",
                            "</style>\n",
                            "<table border=\"1\" class=\"dataframe\">\n",
                            "  <thead>\n",
                            "    <tr style=\"text-align: right;\">\n",
                            "      <th></th>\n",
                            "      <th>ds</th>\n",
                            "      <th>user</th>\n",
                            "      <th>video</th>\n",
                            "      <th>traces</th>\n",
                            "      <th>actS</th>\n",
                            "      <th>actS_c</th>\n",
                            "    </tr>\n",
                            "  </thead>\n",
                            "  <tbody>\n",
                            "    <tr>\n",
                            "      <th>0</th>\n",
                            "      <td>david</td>\n",
                            "      <td>david_44</td>\n",
                            "      <td>david_14_Warship</td>\n",
                            "      <td>[[0.971176790156128, -0.0167642195212576, 0.23...</td>\n",
                            "      <td>4.429</td>\n",
                            "      <td>medium</td>\n",
                            "    </tr>\n",
                            "    <tr>\n",
                            "      <th>1</th>\n",
                            "      <td>david</td>\n",
                            "      <td>david_44</td>\n",
                            "      <td>david_3_PlanEnergyBioLab</td>\n",
                            "      <td>[[-0.9814591956451434, 0.0017374529591846, -0....</td>\n",
                            "      <td>2.157</td>\n",
                            "      <td>low</td>\n",
                            "    </tr>\n",
                            "    <tr>\n",
                            "      <th>2</th>\n",
                            "      <td>david</td>\n",
                            "      <td>david_44</td>\n",
                            "      <td>david_5_Waterpark</td>\n",
                            "      <td>[[-0.9914898235630202, -0.1185255470358266, 0....</td>\n",
                            "      <td>4.746</td>\n",
                            "      <td>medium</td>\n",
                            "    </tr>\n",
                            "    <tr>\n",
                            "      <th>3</th>\n",
                            "      <td>david</td>\n",
                            "      <td>david_44</td>\n",
                            "      <td>david_1_PortoRiverside</td>\n",
                            "      <td>[[-0.9688913755995966, 0.2027233642277866, 0.1...</td>\n",
                            "      <td>2.136</td>\n",
                            "      <td>low</td>\n",
                            "    </tr>\n",
                            "    <tr>\n",
                            "      <th>4</th>\n",
                            "      <td>david</td>\n",
                            "      <td>david_44</td>\n",
                            "      <td>david_15_Cockpit</td>\n",
                            "      <td>[[-0.9999168716022372, -0.0086380091342046, 0....</td>\n",
                            "      <td>3.210</td>\n",
                            "      <td>low</td>\n",
                            "    </tr>\n",
                            "  </tbody>\n",
                            "</table>\n",
                            "</div>"
                        ],
                        "text/plain": [
                            "      ds      user                     video  \\\n",
                            "0  david  david_44          david_14_Warship   \n",
                            "1  david  david_44  david_3_PlanEnergyBioLab   \n",
                            "2  david  david_44         david_5_Waterpark   \n",
                            "3  david  david_44    david_1_PortoRiverside   \n",
                            "4  david  david_44          david_15_Cockpit   \n",
                            "\n",
                            "                                              traces   actS  actS_c  \n",
                            "0  [[0.971176790156128, -0.0167642195212576, 0.23...  4.429  medium  \n",
                            "1  [[-0.9814591956451434, 0.0017374529591846, -0....  2.157     low  \n",
                            "2  [[-0.9914898235630202, -0.1185255470358266, 0....  4.746  medium  \n",
                            "3  [[-0.9688913755995966, 0.2027233642277866, 0.1...  2.136     low  \n",
                            "4  [[-0.9999168716022372, -0.0086380091342046, 0....  3.210     low  "
                        ]
                    },
                    "metadata": {},
                    "output_type": "display_data"
                },
                {
                    "data": {
                        "text/plain": [
                            "david    1083\n",
                            "Name: ds, dtype: Int64"
                        ]
                    },
                    "metadata": {},
                    "output_type": "display_data"
                }
            ],
            "source": [
                "from predict360user import Dataset, Plot360\n",
                "ds = ds if 'ds' in locals() else Dataset(dataset_name=\"david\")\n",
                "display(ds.df.head())\n",
                "display(ds.df['ds'].value_counts())"
            ]
        },
        {
            "cell_type": "markdown",
            "metadata": {},
            "source": [
                "### Plot360 a trace"
            ]
        },
        {
            "cell_type": "code",
            "execution_count": null,
            "metadata": {},
            "outputs": [],
            "source": [
                "# show tile covering for cardinal points\n",
                "look_north_pole = [0.0, 0.0, 1.0]\n",
                "look_south_pole = [0.0, 0.0, -1.0]\n",
                "look_left = [0.0, -1.0, 0.0]\n",
                "look_right = [0.0, 1.0, 0.0]\n",
                "look_ahead = [1.0, 0.0, 0.0]\n",
                "look_behind = [-1.0, 0.0, 0.0]\n",
                "Plot360().show_fov(look_north_pole)\n",
                "Plot360().show_fov(look_south_pole)\n",
                "Plot360().show_fov(look_left)\n",
                "Plot360().show_fov(look_right)\n",
                "Plot360().show_fov(look_ahead)\n",
                "Plot360().show_fov(look_behind)\n"
            ]
        },
        {
            "attachments": {},
            "cell_type": "markdown",
            "metadata": {},
            "source": [
                "### Plot360 a trajectory"
            ]
        },
        {
            "cell_type": "code",
            "execution_count": null,
            "metadata": {},
            "outputs": [],
            "source": [
                "# show random traject \n",
                "traject = ds.get_traject_random()\n",
                "Plot360().show_traject(traject)"
            ]
        },
        {
            "cell_type": "code",
            "execution_count": null,
            "metadata": {},
            "outputs": [],
            "source": [
                "# select one traject\n",
                "traject = ds.df.query(f\"ds=='david' and user=='david_0' and video=='david_10_Cows'\")\n",
                "Plot360().show_traject(traject)"
            ]
        },
        {
            "cell_type": "code",
            "execution_count": null,
            "metadata": {},
            "outputs": [],
            "source": [
                "# show one trace\n",
                "trace = ds.get_trace_random()\n",
                "Plot360().show_fov(trace)"
            ]
        },
        {
            "attachments": {},
            "cell_type": "markdown",
            "metadata": {},
            "source": [
                "### Calculate entropy"
            ]
        },
        {
            "cell_type": "code",
            "execution_count": null,
            "metadata": {},
            "outputs": [],
            "source": [
                "# calculate actS_c\n",
                "if not 'actS_c' in ds.df.columns:\n",
                "  ds.calc_traces_entropy()\n",
                "ds.show_histogram()\n",
                "# ds.show_histogram(df, facet='ds')"
            ]
        },
        {
            "cell_type": "code",
            "execution_count": null,
            "metadata": {},
            "outputs": [],
            "source": [
                "# show representive trajectory for each actS_c\n",
                "Plot360().show_traject(ds.df[ds.df['actS_c'] == 'low'].nsmallest(1,'actS'))\n",
                "Plot360().show_traject(ds.df[ds.df['actS_c'] == 'medium'].nsmallest(1,'actS'))\n",
                "Plot360().show_traject(ds.df[ds.df['actS_c'] == 'high'].nlargest(1,'actS'))"
            ]
        },
        {
            "cell_type": "code",
            "execution_count": null,
            "metadata": {},
            "outputs": [],
            "source": [
                "# calculate hmpS_c\n",
                "if not 'hmpS_c' in ds.df.columns:\n",
                "  calc_traces_entropy_hmp(ds.df)\n",
                "ds.show_histogram()"
            ]
        },
        {
            "cell_type": "code",
            "execution_count": null,
            "metadata": {},
            "outputs": [],
            "source": [
                "# show representive trajectory for each hmpS_c\n",
                "Plot360().show_traject(ds.df[ds.df['hmpS_c'] == 'low'].nsmallest(1,'hmpS'))\n",
                "Plot360().show_traject(ds.df[ds.df['hmpS_c'] == 'medium'].nsmallest(1,'hmpS'))\n",
                "Plot360().show_traject(ds.df[ds.df['hmpS_c'] == 'high'].nlargest(1,'hmpS'))"
            ]
        },
        {
            "cell_type": "code",
            "execution_count": null,
            "metadata": {},
            "outputs": [],
            "source": [
                "# relate actS_c and hmpS_c\n",
                "from predict360user.utils import ENTROPY_CLASS_COLORS\n",
                "import plotly.express as px\n",
                "px.histogram(ds.df,\n",
                "              x='actS',\n",
                "              color='actS_c',\n",
                "              facet_col='hmpS_c',\n",
                "              color_discrete_map=ENTROPY_CLASS_COLORS,\n",
                "              width=900).show()"
            ]
        },
        {
            "cell_type": "code",
            "execution_count": null,
            "metadata": {},
            "outputs": [],
            "source": [
                "# calculate poles_prc_c\n",
                "if not 'poles_prc_c' in ds.df.columns:\n",
                "  ds.calc_traces_poles_prc()\n",
                "ds.show_histogram(['poles_prc'])"
            ]
        },
        {
            "cell_type": "code",
            "execution_count": null,
            "metadata": {},
            "outputs": [],
            "source": [
                "# show representive trajectory for each poles class\n",
                "Plot360().show_traject(ds.df[ds.df['poles_prc_c'] == 'low'][:1])\n",
                "Plot360().show_traject(ds.df[ds.df['poles_prc_c'] == 'medium'][:1])\n",
                "Plot360().show_traject(ds.df[ds.df['poles_prc_c'] == 'high'][:1])"
            ]
        }
    ],
    "metadata": {
        "kernelspec": {
            "display_name": "p3u",
            "language": "python",
            "name": "python3"
        },
        "language_info": {
            "codemirror_mode": {
                "name": "ipython",
                "version": 3
            },
            "file_extension": ".py",
            "mimetype": "text/x-python",
            "name": "python",
            "nbconvert_exporter": "python",
            "pygments_lexer": "ipython3",
            "version": "3.9.0"
        },
        "orig_nbformat": 4,
        "vscode": {
            "interpreter": {
                "hash": "66a6e24e3eabadf942c3c82dbcfdeeda85f448bccd56eeb7cc0caee4180366a0"
            }
        }
    },
    "nbformat": 4,
    "nbformat_minor": 2
}

{
    "cells": [
        {
            "cell_type": "markdown",
            "metadata": {},
            "source": [
                "### Rondon's head_motion_prediction ingest and exploration"
            ]
        },
        {
            "cell_type": "code",
            "execution_count": null,
            "metadata": {},
            "outputs": [],
            "source": [
                "import os\n",
                "import sys\n",
                "import plotly.express as px\n",
                "import plotly.graph_objs as go\n",
                "import numpy as np\n",
                "from predict360user.head_motion_prediction import utils\n",
                "\n",
                "project_path = f\"predict360user/head_motion_prediction/\"\n",
                "sys.path.append(project_path)\n",
                "from predict360user.head_motion_prediction.David_MMSys_18.Read_Dataset import (load_sampled_dataset, plot_3d_trace)\n",
                "\n",
                "# show one traject\n",
                "ONE_USER = '0'\n",
                "ONE_VIDEO = '10_Cows'\n",
                "if not 'SAMPLE_DATASET' in locals():\n",
                "  print(f\"get SAMPLE_DATASET from {project_path}\")\n",
                "  cwd = os.getcwd()\n",
                "  os.chdir(project_path) # load_sampled_datasetuses relative path\n",
                "  SAMPLE_DATASET = load_sampled_dataset()\n",
                "  os.chdir(cwd)\n",
                "\n",
                "traces = SAMPLE_DATASET[ONE_USER][ONE_VIDEO][:, 1:]\n",
                "\n",
                "# plot 3d\n",
                "plot_3d_trace(traces, ONE_USER, ONE_VIDEO)\n",
                "\n",
                "# plot heatmap\n",
                "heatmaps = []\n",
                "for i in traces:\n",
                "    heatmaps.append(\n",
                "        utils.from_position_to_tile(\n",
                "            utils.eulerian_in_range(*utils.cartesian_to_eulerian(i[0], i[1], i[2])),\n",
                "            6,\n",
                "            4,\n",
                "        )\n",
                "    )\n",
                "fig = px.imshow(\n",
                "    np.sum(heatmaps, axis=0),\n",
                "    labels=dict(x=\"longitude\", y=\"latitude\", color=\"requests\"),\n",
                "    title=f\"{len(traces)}_traces (reqs={np.sum(heatmaps)})\",\n",
                ")\n",
                "fig.update_layout(go.Layout(width=600))\n",
                "fig.show()\n"
            ]
        },
        {
            "cell_type": "markdown",
            "metadata": {},
            "source": [
                "### predict360user: Ingest and exploration"
            ]
        },
        {
            "cell_type": "code",
            "execution_count": null,
            "metadata": {},
            "outputs": [],
            "source": [
                "from predict360user import *"
            ]
        },
        {
            "cell_type": "code",
            "execution_count": null,
            "metadata": {},
            "outputs": [],
            "source": [
                "df_trajecs = load_df_trajecs()(dataset_name=\"all\")\n",
                "print(f\"number of trajecs in total {df_trajecs.size}\")\n",
                "print(\"\\nnumber of trajecs per df_trajecs:\") \n",
                "print(df_trajecs.reset_index()[\"df_trajecs\"].value_counts())\n",
                "print(\"\\nnumber of trajecs per entropy class:\")\n",
                "print(df_trajecs[\"actS_c\"].value_counts())\n",
                "print(\"\\ndf head\")\n",
                "display(df_trajecs.head())"
            ]
        },
        {
            "cell_type": "code",
            "execution_count": null,
            "metadata": {},
            "outputs": [],
            "source": [
                "# show one traject\n",
                "show_traject(df_trajecs.loc[\"david\",\"0\", \"10_Cows\"])"
            ]
        },
        {
            "cell_type": "code",
            "execution_count": null,
            "metadata": {},
            "outputs": [],
            "source": [
                "# entropy distribution\n",
                "show_entropy_histogram(df_trajecs)"
            ]
        },
        {
            "cell_type": "code",
            "execution_count": null,
            "metadata": {},
            "outputs": [],
            "source": [
                "# show representive trajectory for each entropy class\n",
                "show_trajects_representative(df_trajecs)"
            ]
        },
        {
            "cell_type": "code",
            "execution_count": null,
            "metadata": {},
            "outputs": [],
            "source": [
                "split(df_trajecs)\n",
                "# entropy distribution per partition\n",
                "show_entropy_histogram_per_partition(df_trajecs)"
            ]
        },
        {
            "cell_type": "markdown",
            "metadata": {},
            "source": [
                "### predict360user.Train"
            ]
        },
        {
            "cell_type": "code",
            "execution_count": null,
            "metadata": {},
            "outputs": [],
            "source": [
                "from predict360user import *"
            ]
        },
        {
            "cell_type": "code",
            "execution_count": null,
            "metadata": {},
            "outputs": [],
            "source": [
                "# load data and split\n",
                "df_wins = load_df_wins(dataset_name=\"david\")\n",
                "df_wins = split(df_wins)\n",
                "\n",
                "# fit model\n",
                "cfg = Config()\n",
                "model = build_model(cfg)\n",
                "model.fit(df_wins)\n",
                "\n",
                "# evaluate and log to wandb\n",
                "err_per_class_dict = model.evaluate(model, df_wins)"
            ]
        },
        {
            "cell_type": "code",
            "execution_count": null,
            "metadata": {},
            "outputs": [],
            "source": [
                "# show results\n",
                "compare_train_results()\n",
                "compare_eval_results()"
            ]
        }
    ],
    "metadata": {
        "kernelspec": {
            "display_name": "p3u",
            "language": "python",
            "name": "python3"
        },
        "language_info": {
            "codemirror_mode": {
                "name": "ipython",
                "version": 3
            },
            "file_extension": ".py",
            "mimetype": "text/x-python",
            "name": "python",
            "nbconvert_exporter": "python",
            "pygments_lexer": "ipython3",
            "version": "3.9.0"
        },
        "orig_nbformat": 4,
        "vscode": {
            "interpreter": {
                "hash": "66a6e24e3eabadf942c3c82dbcfdeeda85f448bccd56eeb7cc0caee4180366a0"
            }
        }
    },
    "nbformat": 4,
    "nbformat_minor": 2
}

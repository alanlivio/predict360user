{
    "cells": [
        {
            "cell_type": "markdown",
            "metadata": {},
            "source": [
                "### Rondon's head_motion_prediction ingest and exploration"
            ]
        },
        {
            "cell_type": "code",
            "execution_count": null,
            "metadata": {},
            "outputs": [],
            "source": [
                "import os\n",
                "import sys\n",
                "import plotly.express as px\n",
                "import plotly.graph_objs as go\n",
                "import numpy as np\n",
                "from predict360user.head_motion_prediction import utils\n",
                "\n",
                "project_path = f\"predict360user/head_motion_prediction/\"\n",
                "sys.path.append(project_path)\n",
                "from predict360user.head_motion_prediction.David_MMSys_18.Read_Dataset import (load_sampled_dataset, plot_3d_trace)\n",
                "\n",
                "# show one traject\n",
                "ONE_USER = '0'\n",
                "ONE_VIDEO = '10_Cows'\n",
                "if not 'SAMPLE_DATASET' in locals():\n",
                "  print(f\"get SAMPLE_DATASET from {project_path}\")\n",
                "  cwd = os.getcwd()\n",
                "  os.chdir(project_path) # load_sampled_datasetuses relative path\n",
                "  SAMPLE_DATASET = load_sampled_dataset()\n",
                "  os.chdir(cwd)\n",
                "\n",
                "traces = SAMPLE_DATASET[ONE_USER][ONE_VIDEO][:, 1:]\n",
                "\n",
                "# plot 3d\n",
                "plot_3d_trace(traces, ONE_USER, ONE_VIDEO)\n",
                "\n",
                "# plot heatmap\n",
                "heatmaps = []\n",
                "for i in traces:\n",
                "    heatmaps.append(\n",
                "        utils.from_position_to_tile(\n",
                "            utils.eulerian_in_range(*utils.cartesian_to_eulerian(i[0], i[1], i[2])),\n",
                "            6,\n",
                "            4,\n",
                "        )\n",
                "    )\n",
                "fig = px.imshow(\n",
                "    np.sum(heatmaps, axis=0),\n",
                "    labels=dict(x=\"longitude\", y=\"latitude\", color=\"requests\"),\n",
                "    title=f\"{len(traces)}_traces (reqs={np.sum(heatmaps)})\",\n",
                ")\n",
                "fig.update_layout(go.Layout(width=600))\n",
                "fig.show()\n"
            ]
        },
        {
            "cell_type": "markdown",
            "metadata": {},
            "source": [
                "### predict360user: Ingest and exploration"
            ]
        },
        {
            "cell_type": "code",
            "execution_count": null,
            "metadata": {},
            "outputs": [],
            "source": [
                "from predict360user import *"
            ]
        },
        {
            "cell_type": "code",
            "execution_count": null,
            "metadata": {},
            "outputs": [],
            "source": [
                "ds = Dataset(dataset_name=\"all\")\n",
                "print(f\"number of trajecs in total {ds.df.size}\")\n",
                "print(\"\\nnumber of trajecs per ds:\") \n",
                "print(ds.df.reset_index()[\"ds\"].value_counts())\n",
                "print(\"\\nnumber of trajecs per entropy class:\")\n",
                "print(ds.df[\"actS_c\"].value_counts())\n",
                "print(\"\\ndf head\")\n",
                "display(ds.df.head())"
            ]
        },
        {
            "cell_type": "code",
            "execution_count": null,
            "metadata": {},
            "outputs": [],
            "source": [
                "# show one traject\n",
                "show_traject(ds.df.loc[\"david\",\"0\", \"10_Cows\"])"
            ]
        },
        {
            "cell_type": "code",
            "execution_count": null,
            "metadata": {},
            "outputs": [],
            "source": [
                "# entropy distribution\n",
                "show_entropy_histogram(ds.df)"
            ]
        },
        {
            "cell_type": "code",
            "execution_count": null,
            "metadata": {},
            "outputs": [],
            "source": [
                "# show representive trajectory for each entropy class\n",
                "show_trajects_representative(ds.df)"
            ]
        },
        {
            "cell_type": "code",
            "execution_count": null,
            "metadata": {},
            "outputs": [],
            "source": [
                "ds.partition()\n",
                "# entropy distribution per partition\n",
                "show_entropy_histogram_per_partition(ds.df)"
            ]
        },
        {
            "cell_type": "markdown",
            "metadata": {},
            "source": [
                "### predict360user.Train"
            ]
        },
        {
            "cell_type": "code",
            "execution_count": null,
            "metadata": {},
            "outputs": [],
            "source": [
                "from predict360user import *"
            ]
        },
        {
            "cell_type": "code",
            "execution_count": null,
            "metadata": {},
            "outputs": [],
            "source": [
                "# train on david dataset\n",
                "trn = Trainer(TrainerCfg(dataset_name=\"all\", wandb_mode=\"disabled\"))\n",
                "# trn = Trainer(TrainerCfg(dataset_name=\"david\", wandb_mode=\"disabled\"))\n",
                "trn.run()"
            ]
        },
        {
            "cell_type": "code",
            "execution_count": null,
            "metadata": {},
            "outputs": [],
            "source": [
                "# show results\n",
                "compare_train_results()\n",
                "compare_eval_results()"
            ]
        },
        {
            "cell_type": "markdown",
            "metadata": {},
            "source": [
                "### Visualize predictions"
            ]
        },
        {
            "cell_type": "code",
            "execution_count": null,
            "metadata": {},
            "outputs": [],
            "source": [
                "# visualize some predictions\n",
                "# # Case \"most low with low\"\n",
                "# one_traject_low = ds.df[ds.df['actS_c'] == 'low'].nsmallest(1,'actS')\n",
                "# plot = Plot360()\n",
                "# plot.add_traces(one_traject_low['traces'].iloc[0])\n",
                "# plot.add_predictions(one_traject_low['pos_only_low_entropy'].iloc[0])\n",
                "# plot.show()\n",
                "\n",
                "# # Case \"most low with low\"\n",
                "# one_traject_low = ds.df[ds.df['actS_c'] == 'low'].nsmallest(1,'actS')\n",
                "# plot = Plot360()\n",
                "# plot.add_traces(one_traject_low['traces'].iloc[0])\n",
                "# plot.add_predictions(one_traject_low['pos_only'].iloc[0])\n",
                "# plot.show()\n",
                "\n",
                "# # Case \"most medium with medium\"\n",
                "# one_traject_medium = ds.df[ds.df['actS_c'] == 'medium'].nsmallest(1,'actS')\n",
                "# plot = Plot360()\n",
                "# plot.add_traces(one_traject_medium['traces'].iloc[0])\n",
                "# plot.add_predictions(one_traject_medium['pos_only_medium_entropy'].iloc[0])\n",
                "# plot.show()\n",
                "\n",
                "# # Case \"most medium with all\"\n",
                "# one_traject_medium = ds.df[ds.df['actS_c'] == 'medium'].nsmallest(1,'actS')\n",
                "# plot = Plot360()\n",
                "# plot.add_traces(one_traject_medium['traces'].iloc[0])\n",
                "# plot.add_predictions(one_traject_medium['pos_only'].iloc[0])\n",
                "# plot.show()\n",
                "\n",
                "# # Case \"most high with high\"\n",
                "# one_traject_high = ds.df[ds.df['actS_c'] == 'high'].nlargest(1,'actS')\n",
                "# plot = Plot360()\n",
                "# plot.add_traces(one_traject_high['traces'].iloc[0])\n",
                "# plot.add_predictions(one_traject_high['pos_only_high_entropy'].iloc[0])\n",
                "# plot.show()\n",
                "\n",
                "# # Case \"most high with all\n",
                "# one_traject_high = ds.df[ds.df['actS_c'] == 'high'].nlargest(1,'actS')\n",
                "# plot = Plot360()\n",
                "# plot.add_traces(one_traject_medium['traces'].iloc[0])\n",
                "# plot.add_predictions(one_traject_medium['pos_only'].iloc[0])\n",
                "# plot.show()"
            ]
        }
    ],
    "metadata": {
        "kernelspec": {
            "display_name": "p3u",
            "language": "python",
            "name": "python3"
        },
        "language_info": {
            "codemirror_mode": {
                "name": "ipython",
                "version": 3
            },
            "file_extension": ".py",
            "mimetype": "text/x-python",
            "name": "python",
            "nbconvert_exporter": "python",
            "pygments_lexer": "ipython3",
            "version": "3.9.0"
        },
        "orig_nbformat": 4,
        "vscode": {
            "interpreter": {
                "hash": "66a6e24e3eabadf942c3c82dbcfdeeda85f448bccd56eeb7cc0caee4180366a0"
            }
        }
    },
    "nbformat": 4,
    "nbformat_minor": 2
}

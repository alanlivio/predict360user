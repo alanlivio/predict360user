{
    "cells": [
        {
            "cell_type": "markdown",
            "metadata": {},
            "source": [
                "### Rondon's head_motion_prediction ingest and exploration"
            ]
        },
        {
            "cell_type": "code",
            "execution_count": null,
            "metadata": {},
            "outputs": [],
            "source": [
                "import os\n",
                "import sys\n",
                "\n",
                "project_path = f\"predict360user/head_motion_prediction/\"\n",
                "sys.path.append(project_path)\n",
                "from predict360user.head_motion_prediction.David_MMSys_18.Read_Dataset import (\n",
                "    load_sampled_dataset,\n",
                "    plot_3d_trace,\n",
                ")\n",
                "\n",
                "# show one traject\n",
                "ONE_USER = \"0\"\n",
                "ONE_VIDEO = \"10_Cows\"\n",
                "if not \"SAMPLE_DATASET\" in locals():\n",
                "    print(f\"get SAMPLE_DATASET from {project_path}\")\n",
                "    cwd = os.getcwd()\n",
                "    os.chdir(project_path)  # load_sampled_datasetuses relative path\n",
                "    SAMPLE_DATASET = load_sampled_dataset()\n",
                "    os.chdir(cwd)\n",
                "\n",
                "traces = SAMPLE_DATASET[ONE_USER][ONE_VIDEO][:, 1:]\n",
                "\n",
                "# plot 3d\n",
                "plot_3d_trace(traces, ONE_USER, ONE_VIDEO)"
            ]
        },
        {
            "cell_type": "markdown",
            "metadata": {},
            "source": [
                "### predict360user: Ingest and exploration"
            ]
        },
        {
            "cell_type": "code",
            "execution_count": null,
            "metadata": {},
            "outputs": [],
            "source": [
                "import predict360user as p3u"
            ]
        },
        {
            "cell_type": "code",
            "execution_count": null,
            "metadata": {},
            "outputs": [],
            "source": [
                "df_trajecs = p3u.load_df_trajecs(dataset=\"david\")\n",
                "print(f\"number of trajecs in total {df_trajecs.size}\")\n",
                "print(\"\\nnumber of trajecs per df_trajecs:\")\n",
                "print(df_trajecs.reset_index()[\"df_trajecs\"].value_counts())\n",
                "print(\"\\nnumber of trajecs per entropy class:\")\n",
                "print(df_trajecs[\"actS_c\"].value_counts())\n",
                "print(\"\\ndf head\")\n",
                "display(df_trajecs.head())"
            ]
        },
        {
            "cell_type": "code",
            "execution_count": null,
            "metadata": {},
            "outputs": [],
            "source": [
                "# show one traject\n",
                "p3u.show_traject(df_trajecs.loc[\"david\", \"0\", \"10_Cows\"])"
            ]
        },
        {
            "cell_type": "code",
            "execution_count": null,
            "metadata": {},
            "outputs": [],
            "source": [
                "# entropy distribution\n",
                "p3u.show_entropy_histogram(df_trajecs)"
            ]
        },
        {
            "cell_type": "code",
            "execution_count": null,
            "metadata": {},
            "outputs": [],
            "source": [
                "# show representive trajectory for each entropy class\n",
                "p3u.show_trajects_representative(df_trajecs)"
            ]
        },
        {
            "cell_type": "code",
            "execution_count": null,
            "metadata": {},
            "outputs": [],
            "source": [
                "p3u.split(df_trajecs)\n",
                "# entropy distribution per partition\n",
                "p3u.show_entropy_histogram_per_partition(df_trajecs)"
            ]
        },
        {
            "cell_type": "markdown",
            "metadata": {},
            "source": [
                "### predict360user.Train"
            ]
        },
        {
            "cell_type": "code",
            "execution_count": null,
            "metadata": {},
            "outputs": [],
            "source": [
                "import predict360user as p3u"
            ]
        },
        {
            "cell_type": "code",
            "execution_count": null,
            "metadata": {},
            "outputs": [],
            "source": [
                "# load dataset and split\n",
                "df = p3u.load_df_wins(dataset=\"david\")\n",
                "df = p3u.split(df)\n",
                "\n",
                "# fit model\n",
                "cfg = p3u.RunConfig()\n",
                "model = p3u.get_model(cfg)\n",
                "model.fit(df)\n",
                "\n",
                "# evaluate and log to wandb\n",
                "err_per_class_dict = model.evaluate(model, df)"
            ]
        }
    ],
    "metadata": {
        "kernelspec": {
            "display_name": "p3u",
            "language": "python",
            "name": "python3"
        },
        "language_info": {
            "codemirror_mode": {
                "name": "ipython",
                "version": 3
            },
            "file_extension": ".py",
            "mimetype": "text/x-python",
            "name": "python",
            "nbconvert_exporter": "python",
            "pygments_lexer": "ipython3",
            "version": "3.9.0"
        },
        "orig_nbformat": 4,
        "vscode": {
            "interpreter": {
                "hash": "66a6e24e3eabadf942c3c82dbcfdeeda85f448bccd56eeb7cc0caee4180366a0"
            }
        }
    },
    "nbformat": 4,
    "nbformat_minor": 2
}

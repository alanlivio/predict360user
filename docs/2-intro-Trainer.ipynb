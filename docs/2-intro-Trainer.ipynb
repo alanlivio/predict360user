{
 "cells": [
  {
   "cell_type": "code",
   "execution_count": null,
   "metadata": {},
   "outputs": [],
   "source": [
    "from predict360user import Trainer, TrainerCfg, Dataset\n"
   ]
  },
  {
   "cell_type": "markdown",
   "metadata": {},
   "source": [
    "### Trainer.run"
   ]
  },
  {
   "cell_type": "code",
   "execution_count": null,
   "metadata": {},
   "outputs": [],
   "source": [
    "trn = Trainer(TrainerCfg(dataset_name=\"david\"))\n",
    "display(trn.ds.df.head())\n",
    "display(trn.ds.df[\"actS_c\"].value_counts())"
   ]
  },
  {
   "cell_type": "code",
   "execution_count": null,
   "metadata": {},
   "outputs": [],
   "source": [
    "trn.ds.show_entropy_histogram()"
   ]
  },
  {
   "cell_type": "code",
   "execution_count": null,
   "metadata": {},
   "outputs": [],
   "source": [
    "trn.run()"
   ]
  },
  {
   "cell_type": "code",
   "execution_count": null,
   "metadata": {},
   "outputs": [],
   "source": [
    "trn.show_saved_train_loss()"
   ]
  },
  {
   "cell_type": "code",
   "execution_count": null,
   "metadata": {},
   "outputs": [],
   "source": [
    "trn.show_saved_pred_err()"
   ]
  },
  {
   "cell_type": "code",
   "execution_count": null,
   "metadata": {},
   "outputs": [],
   "source": [
    "# visualize some predictions\n",
    "# # Case \"most low with low\"\n",
    "# one_traject_low = ds.df[ds.df['actS_c'] == 'low'].nsmallest(1,'actS')\n",
    "# plot = Plot360()\n",
    "# plot.add_traces(one_traject_low['traces'].iloc[0])\n",
    "# plot.add_predictions(one_traject_low['pos_only_low_entropy'].iloc[0])\n",
    "# plot.show()\n",
    "\n",
    "# # Case \"most low with low\"\n",
    "# one_traject_low = ds.df[ds.df['actS_c'] == 'low'].nsmallest(1,'actS')\n",
    "# plot = Plot360()\n",
    "# plot.add_traces(one_traject_low['traces'].iloc[0])\n",
    "# plot.add_predictions(one_traject_low['pos_only'].iloc[0])\n",
    "# plot.show()\n",
    "\n",
    "# # Case \"most medium with medium\"\n",
    "# one_traject_medium = ds.df[ds.df['actS_c'] == 'medium'].nsmallest(1,'actS')\n",
    "# plot = Plot360()\n",
    "# plot.add_traces(one_traject_medium['traces'].iloc[0])\n",
    "# plot.add_predictions(one_traject_medium['pos_only_medium_entropy'].iloc[0])\n",
    "# plot.show()\n",
    "\n",
    "# # Case \"most medium with all\"\n",
    "# one_traject_medium = ds.df[ds.df['actS_c'] == 'medium'].nsmallest(1,'actS')\n",
    "# plot = Plot360()\n",
    "# plot.add_traces(one_traject_medium['traces'].iloc[0])\n",
    "# plot.add_predictions(one_traject_medium['pos_only'].iloc[0])\n",
    "# plot.show()\n",
    "\n",
    "# # Case \"most high with high\"\n",
    "# one_traject_high = ds.df[ds.df['actS_c'] == 'high'].nlargest(1,'actS')\n",
    "# plot = Plot360()\n",
    "# plot.add_traces(one_traject_high['traces'].iloc[0])\n",
    "# plot.add_predictions(one_traject_high['pos_only_high_entropy'].iloc[0])\n",
    "# plot.show()\n",
    "\n",
    "# # Case \"most high with all\n",
    "# one_traject_high = ds.df[ds.df['actS_c'] == 'high'].nlargest(1,'actS')\n",
    "# plot = Plot360()\n",
    "# plot.add_traces(one_traject_medium['traces'].iloc[0])\n",
    "# plot.add_predictions(one_traject_medium['pos_only'].iloc[0])\n",
    "# plot.show()"
   ]
  },
  {
   "attachments": {},
   "cell_type": "markdown",
   "metadata": {},
   "source": [
    "### Trainer.run with train_entropy filter"
   ]
  },
  {
   "cell_type": "code",
   "execution_count": null,
   "metadata": {},
   "outputs": [],
   "source": [
    "ds = Dataset(dataset_name=\"david\")\n",
    "display(ds.df.head())\n",
    "display(ds.df[\"actS_c\"].value_counts())"
   ]
  },
  {
   "cell_type": "code",
   "execution_count": null,
   "metadata": {},
   "outputs": [],
   "source": [
    "import IPython\n",
    "\n",
    "display(IPython.display.Markdown('## filtred by all'))\n",
    "ds.partition(entropy_filter='all')\n",
    "ds.show_entropy_histogram_per_partition()\n",
    "\n",
    "display(IPython.display.Markdown('## filtred by low'))\n",
    "ds.partition(entropy_filter='low')\n",
    "ds.show_entropy_histogram_per_partition()\n",
    "\n",
    "display(IPython.display.Markdown('## filtred by medium'))\n",
    "ds.partition(entropy_filter='medium')\n",
    "ds.show_entropy_histogram_per_partition()\n",
    "\n",
    "display(IPython.display.Markdown('## filtred by high'))\n",
    "ds.partition(entropy_filter='high')\n",
    "ds.show_entropy_histogram_per_partition()"
   ]
  },
  {
   "cell_type": "code",
   "execution_count": null,
   "metadata": {},
   "outputs": [],
   "source": [
    "trn = Trainer(TrainerCfg(train_entropy=\"all\")) # train_entropy is unsed in Dataset.partition()\n",
    "trn.run()"
   ]
  }
 ],
 "metadata": {
  "kernelspec": {
   "display_name": "predict360user",
   "language": "python",
   "name": "python3"
  },
  "language_info": {
   "codemirror_mode": {
    "name": "ipython",
    "version": 3
   },
   "file_extension": ".py",
   "mimetype": "text/x-python",
   "name": "python",
   "nbconvert_exporter": "python",
   "pygments_lexer": "ipython3",
   "version": "3.9.0"
  },
  "orig_nbformat": 4,
  "vscode": {
   "interpreter": {
    "hash": "cce6db3ab109cbdb255abfd5dd9beeb5db137de0288e667c8f988b0097583af4"
   }
  }
 },
 "nbformat": 4,
 "nbformat_minor": 2
}

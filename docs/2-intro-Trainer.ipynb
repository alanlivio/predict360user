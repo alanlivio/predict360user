{
 "cells": [
  {
   "attachments": {},
   "cell_type": "markdown",
   "metadata": {},
   "source": [
    "### Trainer"
   ]
  },
  {
   "cell_type": "code",
   "execution_count": null,
   "metadata": {},
   "outputs": [],
   "source": [
    "from predict360user import Dataset, Plot360, Trainer"
   ]
  },
  {
   "cell_type": "code",
   "execution_count": null,
   "metadata": {},
   "outputs": [],
   "source": [
    "from IPython.display import Markdown\n",
    "\n",
    "display(Markdown(f'## all'))\n",
    "Trainer(train_entropy='all').show_train_test_split()\n",
    "display(Markdown(f'## low'))\n",
    "Trainer(train_entropy='low').show_train_test_split()\n",
    "display(Markdown(f'## medium'))\n",
    "Trainer(train_entropy='medium').show_train_test_split()\n",
    "display(Markdown(f'## high'))\n",
    "Trainer(train_entropy='high').show_train_test_split()"
   ]
  },
  {
   "cell_type": "code",
   "execution_count": null,
   "metadata": {},
   "outputs": [],
   "source": [
    "exp = Trainer(train_entropy='all')\n",
    "# exp = Trainer(train_entropy='high')\n",
    "# exp = Trainer(train_entropy='high_hmp')\n",
    "exp.train()\n",
    "exp.evaluate()\n"
   ]
  },
  {
   "attachments": {},
   "cell_type": "markdown",
   "metadata": {},
   "source": [
    "### Show Plot360 predictions "
   ]
  },
  {
   "cell_type": "code",
   "execution_count": null,
   "metadata": {},
   "outputs": [],
   "source": [
    "ds = ds if 'ds' in locals() else Dataset()\n",
    "# display(ds.df.head())"
   ]
  },
  {
   "cell_type": "code",
   "execution_count": null,
   "metadata": {},
   "outputs": [],
   "source": [
    "# Case \"most low with low\"\n",
    "one_traject_low = ds.df[ds.df['actS_c'] == 'low'].nsmallest(1,'actS')\n",
    "# print(one_traject_low)\n",
    "# xupami_fanchao_m1_22 xupami_Predator\n",
    "# comeback at 36\n",
    "plot = Plot360()\n",
    "plot.add_traces(one_traject_low['traces'].iloc[0])\n",
    "plot.add_predictions(one_traject_low['pos_only_low_entropy'].iloc[0])\n",
    "plot.show()"
   ]
  },
  {
   "cell_type": "code",
   "execution_count": null,
   "metadata": {},
   "outputs": [],
   "source": [
    "# Case \"most low with low\"\n",
    "# ds.df = get_ds.df_trajects()\n",
    "one_traject_low = ds.df[ds.df['actS_c'] == 'low'].nsmallest(1,'actS')\n",
    "# print(one_traject_low)\n",
    "# xupami_fanchao_m1_22 xupami_Predator\n",
    "# comeback at 36\n",
    "plot = Plot360()\n",
    "plot.add_traces(one_traject_low['traces'].iloc[0])\n",
    "plot.add_predictions(one_traject_low['pos_only'].iloc[0])\n",
    "plot.show()"
   ]
  },
  {
   "cell_type": "code",
   "execution_count": null,
   "metadata": {},
   "outputs": [],
   "source": [
    "# Case \"most medium with medium\"\n",
    "# ds.df = get_ds.df_trajects()\n",
    "one_traject_medium = ds.df[ds.df['actS_c'] == 'medium'].nsmallest(1,'actS')\n",
    "# david_1\tdavid_6_DroneFlight\n",
    "# display(one_traject_medium)\n",
    "# comeback at 36\n",
    "plot = Plot360()\n",
    "plot.add_traces(one_traject_medium['traces'].iloc[0])\n",
    "plot.add_predictions(one_traject_medium['pos_only_medium_entropy'].iloc[0])\n",
    "plot.show()\n"
   ]
  },
  {
   "cell_type": "code",
   "execution_count": null,
   "metadata": {},
   "outputs": [],
   "source": [
    "# Case \"most medium with all\"\n",
    "ds.df = get_ds.df_trajects()\n",
    "one_traject_medium = ds.df[ds.df['actS_c'] == 'medium'].nsmallest(1,'actS')\n",
    "# david_1\tdavid_6_DroneFlight\n",
    "# comeback 36\n",
    "plot = Plot360()\n",
    "plot.add_traces(one_traject_medium['traces'].iloc[0])\n",
    "plot.add_predictions(one_traject_medium['pos_only'].iloc[0])\n",
    "plot.show()"
   ]
  },
  {
   "cell_type": "code",
   "execution_count": null,
   "metadata": {},
   "outputs": [],
   "source": [
    "# Case \"most high with high\"\n",
    "# ds.df = get_ds.df_trajects()\n",
    "one_traject_high = ds.df[ds.df['actS_c'] == 'high'].nlargest(1,'actS')\n",
    "# xucvpr_p038  xucvpr_155\n",
    "# print(one_traject_high)\n",
    "plot = Plot360()\n",
    "plot.add_traces(one_traject_high['traces'].iloc[0])\n",
    "plot.add_predictions(one_traject_high['pos_only_high_entropy'].iloc[0])\n",
    "plot.show()\n"
   ]
  },
  {
   "cell_type": "code",
   "execution_count": null,
   "metadata": {},
   "outputs": [],
   "source": [
    "# Case \"most high with all\n",
    "ds.df = get_ds.df_trajects()\n",
    "one_traject_high = ds.df[ds.df['actS_c'] == 'high'].nlargest(1,'actS')\n",
    "# xucvpr_p038  xucvpr_155\n",
    "# coming back 38, 40\n",
    "plot = Plot360()\n",
    "plot.add_traces(one_traject_medium['traces'].iloc[0])\n",
    "plot.add_predictions(one_traject_medium['pos_only'].iloc[0])\n",
    "plot.show()"
   ]
  },
  {
   "cell_type": "code",
   "execution_count": null,
   "metadata": {},
   "outputs": [],
   "source": [
    "# Case turn Around\n",
    "# ds.df = get_ds.df_trajects()\n",
    "# 24 coming back\n",
    "# 26 coming back and lost\n",
    "one_turne_around = ds.df.query(f\"ds=='david' and user=='david_0' and video=='david_10_Cows'\")\n",
    "plot = Plot360()\n",
    "plot.add_traces(one_turne_around['traces'].iloc[0])\n",
    "plot.add_predictions(one_turne_around['pos_only'].iloc[0])\n",
    "plot.show()"
   ]
  }
 ],
 "metadata": {
  "kernelspec": {
   "display_name": "predict360user",
   "language": "python",
   "name": "python3"
  },
  "language_info": {
   "codemirror_mode": {
    "name": "ipython",
    "version": 3
   },
   "file_extension": ".py",
   "mimetype": "text/x-python",
   "name": "python",
   "nbconvert_exporter": "python",
   "pygments_lexer": "ipython3",
   "version": "3.9.13"
  },
  "orig_nbformat": 4,
  "vscode": {
   "interpreter": {
    "hash": "cce6db3ab109cbdb255abfd5dd9beeb5db137de0288e667c8f988b0097583af4"
   }
  }
 },
 "nbformat": 4,
 "nbformat_minor": 2
}

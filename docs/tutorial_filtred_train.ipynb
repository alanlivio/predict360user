{
    "cells": [
        {
            "cell_type": "markdown",
            "metadata": {},
            "source": [
                "### predict360user.Train filtred"
            ]
        },
        {
            "cell_type": "code",
            "execution_count": null,
            "metadata": {},
            "outputs": [],
            "source": [
                "from predict360user import *"
            ]
        },
        {
            "cell_type": "code",
            "execution_count": null,
            "metadata": {},
            "outputs": [],
            "source": [
                "trn = Trainer(TrainerCfg(dataset_name=\"all\"))\n",
                "trn.build_data()\n",
                "trn.ds.show_entropy_histogram_per_partition()\n",
                "trn = Trainer(TrainerCfg(dataset_name=\"all\", train_entropy=\"low\", minsize=True))\n",
                "trn.build_data()\n",
                "trn.ds.show_entropy_histogram_per_partition()\n",
                "trn = Trainer(TrainerCfg(dataset_name=\"all\", train_entropy=\"nolow\", minsize=True))\n",
                "trn.build_data()\n",
                "trn.ds.show_entropy_histogram_per_partition()\n",
                "trn = Trainer(TrainerCfg(dataset_name=\"all\", train_entropy=\"medium\", minsize=True))\n",
                "trn.build_data()\n",
                "trn.ds.show_entropy_histogram_per_partition()\n",
                "trn = Trainer(TrainerCfg(dataset_name=\"all\", train_entropy=\"nohigh\", minsize=True))\n",
                "trn.build_data()\n",
                "trn.ds.show_entropy_histogram_per_partition()\n",
                "trn = Trainer(TrainerCfg(dataset_name=\"all\", train_entropy=\"high\", minsize=True))\n",
                "trn.build_data()\n",
                "trn.ds.show_entropy_histogram_per_partition()"
            ]
        },
        {
            "cell_type": "code",
            "execution_count": null,
            "metadata": {},
            "outputs": [],
            "source": [
                "trn = Trainer(TrainerCfg(dataset_name=\"all\", train_size=0.005, test_size=0.001, wandb_mode=\"disabled\")) # for fast training\n",
                "trn.run()"
            ]
        },
        {
            "cell_type": "code",
            "execution_count": null,
            "metadata": {},
            "outputs": [],
            "source": [
                "compare_train_results()\n",
                "compare_eval_results()"
            ]
        }
    ],
    "metadata": {
        "kernelspec": {
            "display_name": "p3u",
            "language": "python",
            "name": "python3"
        },
        "language_info": {
            "codemirror_mode": {
                "name": "ipython",
                "version": 3
            },
            "file_extension": ".py",
            "mimetype": "text/x-python",
            "name": "python",
            "nbconvert_exporter": "python",
            "pygments_lexer": "ipython3",
            "version": "3.9.0"
        },
        "orig_nbformat": 4,
        "vscode": {
            "interpreter": {
                "hash": "66a6e24e3eabadf942c3c82dbcfdeeda85f448bccd56eeb7cc0caee4180366a0"
            }
        }
    },
    "nbformat": 4,
    "nbformat_minor": 2
}

{
 "cells": [
  {
   "cell_type": "code",
   "execution_count": null,
   "metadata": {},
   "outputs": [],
   "source": [
    "from users360 import *\n",
    "# -- plot traces\n",
    "one_user = Traces360(Users360().get_traces_one_video_one_user(), title_sufix=\"one_video_one_user\")\n",
    "all_users = Traces360(Users360().get_traces_one_video_all_users(), title_sufix=\"one_video_all_users\")\n",
    "one_trace = Traces360(Users360().get_one_trace())\n",
    "\n",
    "one_user.plot_sphere_voro(VORONOI_14P, to_html=False)\n",
    "one_user.plot_sphere_voro(VORONOI_24P, to_html=False)\n",
    "one_user.plot_sphere_rectan(6, 4, to_html=False)\n",
    "\n",
    "all_users.plot_sphere_voro(VORONOI_24P,  to_html=False)\n",
    "all_users.plot_sphere_rectan(6, 4, to_html=False)\n",
    "\n",
    "# -- plot one trace vp\n",
    "one_trace.plot_sphere_rectan_with_vp(6, 4, to_html=False)\n",
    "one_trace.plot_sphere_rectan_with_vp(4, 4, to_html=False)\n",
    "one_trace.plot_sphere_voro_with_vp(VORONOI_24P, to_html=False)"
   ]
  },
  {
   "cell_type": "code",
   "execution_count": null,
   "metadata": {},
   "outputs": [],
   "source": [
    "\n",
    "# -- FoV performace\n",
    "from users360 import *\n",
    "some_users = Traces360(Users360().get_traces_random_one_user(4), verbose=True)\n",
    "# req_plot_per_func(get_traces_one_video_one_user()[::25], [\n",
    "# req_plot_per_func(get_traces_one_video_one_user()[24:25:], [\n",
    "some_users.plot_reqs_per_func([\n",
    "    FoV360TilesVoro(VORONOI_24P, FoV360.Cover.CENTER),\n",
    "    FoV360TilesVoro(VORONOI_14P, FoV360.Cover.CENTER),\n",
    "    FoV360TilesVoro(VORONOI_24P, FoV360.Cover.ANY),\n",
    "    FoV360TilesVoro(VORONOI_14P, FoV360.Cover.ANY),\n",
    "    FoV360TilesRect(6, 4, FoV360.Cover.ONLY33PERC),\n",
    "    FoV360TilesRect(6, 4, FoV360.Cover.ONLY20PERC),\n",
    "    FoV360TilesRect(6, 4, FoV360.Cover.CENTER),\n",
    "    FoV360TilesVoro(VORONOI_14P, FoV360.Cover.ONLY20PERC),\n",
    "    FoV360TilesVoro(VORONOI_14P, FoV360.Cover.ONLY33PERC),\n",
    "    FoV360TilesVoro(VORONOI_24P, FoV360.Cover.ONLY20PERC),\n",
    "    FoV360TilesVoro(VORONOI_24P, FoV360.Cover.ONLY33PERC),\n",
    "], plot_lines=False, plot_heatmaps=False)"
   ]
  },
  {
   "cell_type": "code",
   "execution_count": null,
   "metadata": {},
   "outputs": [],
   "source": [
    "# -- FoV at sphere\n",
    "from users360 import *\n",
    "dataset = Users360()\n",
    "plot = Traces360(dataset.get_one_trace(), verbose=True)\n",
    "to_html = False\n",
    "reqs_fov = [\n",
    "    FoV360TilesRect(6, 4, FoV360.Cover.CENTER),\n",
    "    FoV360TilesRect(6, 4, FoV360.Cover.ONLY33PERC),\n",
    "    FoV360TilesRect(6, 4, FoV360.Cover.ONLY20PERC),\n",
    "    FoV360TilesVoro(VORONOI_24P, FoV360.Cover.CENTER),\n",
    "    FoV360TilesVoro(VORONOI_14P, FoV360.Cover.CENTER),\n",
    "]\n",
    "trace = dataset.get_one_trace()[0]\n",
    "x, y, z = trace[0], trace[1], trace[2]\n",
    "for fov in reqs_fov:\n",
    "    req_in, _, _, _ = fov.request(x, y, z)\n",
    "    one_trace.title_sufix = f\", {req_in} tiles ({fov.title()})\"\n",
    "    if isinstance(fov, FoV360TilesRect):\n",
    "        one_trace.plot_sphere_rectan_with_vp(6, 4, to_html=to_html)\n",
    "    elif isinstance(fov, FoV360TilesVoro):\n",
    "        one_trace.plot_sphere_voro_with_vp(fov.spherical_voronoi, to_html=to_html)\n"
   ]
  }
 ],
 "metadata": {
  "interpreter": {
   "hash": "bed9add7eda959bf6c8d12b02d45384ee68438564591465b81a62df10a32b7de"
  },
  "kernelspec": {
   "display_name": "Python 3.9.7 64-bit",
   "language": "python",
   "name": "python3"
  },
  "language_info": {
   "codemirror_mode": {
    "name": "ipython",
    "version": 3
   },
   "file_extension": ".py",
   "mimetype": "text/x-python",
   "name": "python",
   "nbconvert_exporter": "python",
   "pygments_lexer": "ipython3",
   "version": "3.10.2"
  },
  "orig_nbformat": 4
 },
 "nbformat": 4,
 "nbformat_minor": 2
}

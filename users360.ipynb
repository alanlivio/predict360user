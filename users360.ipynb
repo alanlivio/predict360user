{
 "cells": [
  {
   "cell_type": "code",
   "execution_count": null,
   "metadata": {},
   "outputs": [],
   "source": [
    "# -- users360.Plot.sphere_*\n",
    "from users360 import *\n",
    "one_user = Plot(Dataset().get_traces_one_video_one_user(), title_sufix=\"(one_video_one_user)\")\n",
    "all_users = Plot(Dataset().get_traces_one_video_all_users(), title_sufix=\"(one_video_all_users)\")\n",
    "one_trace = Plot(Dataset().get_one_trace())\n",
    "\n",
    "one_user.sphere_voro(VORONOI_14P)\n",
    "one_user.sphere_voro(VORONOI_24P)\n",
    "one_user.sphere_rect(6, 4)\n",
    "\n",
    "all_users.sphere_voro(VORONOI_24P)\n",
    "all_users.sphere_rect(6, 4)"
   ]
  },
  {
   "cell_type": "code",
   "execution_count": null,
   "metadata": {},
   "outputs": [],
   "source": [
    "# -- users360.Plot.sphere_*_with_vp\n",
    "from users360 import *\n",
    "dataset = Dataset()\n",
    "plot = Plot(dataset.get_one_trace())\n",
    "trace = dataset.get_one_trace()[0]\n",
    "for vpextract in VPEXTRACT_METHODS:\n",
    "    if isinstance(vpextract, VPExtractTilesRect):\n",
    "        plot.sphere_rect_with_vp(vpextract)\n",
    "    elif isinstance(vpextract, VPExtractTilesVoro):\n",
    "        plot.sphere_voro_with_vp(vpextract)\n"
   ]
  },
  {
   "cell_type": "code",
   "execution_count": null,
   "metadata": {},
   "outputs": [],
   "source": [
    "\n",
    "# -- users360.Plot.metrics_vpextract\n",
    "from users360 import *\n",
    "some_users = Plot(Dataset().get_traces_random_one_user(4))\n",
    "some_users.metrics_vpextract(VPEXTRACT_METHODS, plot_traces=False, plot_heatmaps=True)\n"
   ]
  }
 ],
 "metadata": {
  "interpreter": {
   "hash": "bed9add7eda959bf6c8d12b02d45384ee68438564591465b81a62df10a32b7de"
  },
  "kernelspec": {
   "display_name": "Python 3.9.7 64-bit",
   "language": "python",
   "name": "python3"
  },
  "language_info": {
   "codemirror_mode": {
    "name": "ipython",
    "version": 3
   },
   "file_extension": ".py",
   "mimetype": "text/x-python",
   "name": "python",
   "nbconvert_exporter": "python",
   "pygments_lexer": "ipython3",
   "version": "3.10.2"
  },
  "orig_nbformat": 4
 },
 "nbformat": 4,
 "nbformat_minor": 2
}

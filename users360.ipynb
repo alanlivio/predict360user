{
 "cells": [
  {
   "cell_type": "code",
   "execution_count": null,
   "metadata": {},
   "outputs": [],
   "source": [
    "from users360 import *\n",
    "# -- plot traces\n",
    "one_user = Plot(Dataset().get_traces_one_video_one_user(), title_sufix=\"one_video_one_user\")\n",
    "all_users = Plot(Dataset().get_traces_one_video_all_users(), title_sufix=\"one_video_all_users\")\n",
    "one_trace = Plot(Dataset().get_one_trace())\n",
    "\n",
    "one_user.sphere_voro(VORONOI_14P, to_html=False)\n",
    "one_user.sphere_voro(VORONOI_24P, to_html=False)\n",
    "one_user.sphere_rectan(6, 4, to_html=False)\n",
    "\n",
    "all_users.sphere_voro(VORONOI_24P,  to_html=False)\n",
    "all_users.sphere_rectan(6, 4, to_html=False)\n",
    "\n",
    "# -- plot one trace vp\n",
    "one_trace.sphere_rectan_with_vp(6, 4, to_html=False)\n",
    "one_trace.sphere_rectan_with_vp(4, 4, to_html=False)\n",
    "one_trace.sphere_voro_with_vp(VORONOI_24P, to_html=False)"
   ]
  },
  {
   "cell_type": "code",
   "execution_count": null,
   "metadata": {},
   "outputs": [],
   "source": [
    "\n",
    "# -- VPExtract performace\n",
    "from users360 import *\n",
    "some_users = Plot(Dataset().get_traces_random_one_user(4), verbose=True)\n",
    "some_users.metrics_vpextract(VPEXTRACT_METHODS, plot_traces=False, plot_heatmaps=True)\n"
   ]
  },
  {
   "cell_type": "code",
   "execution_count": null,
   "metadata": {},
   "outputs": [],
   "source": [
    "# -- VPExtract at sphere\n",
    "from users360 import *\n",
    "dataset = Dataset()\n",
    "plot = Plot(dataset.get_one_trace(), verbose=True)\n",
    "to_html = False\n",
    "trace = dataset.get_one_trace()[0]\n",
    "for vpextract in VPEXTRACT_METHODS:\n",
    "    heatmap, _, _ = vpextract.request(*trace)\n",
    "    plot.title_sufix = f\"(reqs={sum(heatmap)})\"\n",
    "    if isinstance(vpextract, VPExtractTilesRect):\n",
    "        plot.sphere_rectan_with_vp(6, 4, to_html=to_html)\n",
    "    elif isinstance(vpextract, VPExtractTilesVoro):\n",
    "        plot.sphere_voro_with_vp(vpextract.sphere_voro, to_html=to_html)\n"
   ]
  }
 ],
 "metadata": {
  "interpreter": {
   "hash": "bed9add7eda959bf6c8d12b02d45384ee68438564591465b81a62df10a32b7de"
  },
  "kernelspec": {
   "display_name": "Python 3.9.7 64-bit",
   "language": "python",
   "name": "python3"
  },
  "language_info": {
   "codemirror_mode": {
    "name": "ipython",
    "version": 3
   },
   "file_extension": ".py",
   "mimetype": "text/x-python",
   "name": "python",
   "nbconvert_exporter": "python",
   "pygments_lexer": "ipython3",
   "version": "3.10.2"
  },
  "orig_nbformat": 4
 },
 "nbformat": 4,
 "nbformat_minor": 2
}

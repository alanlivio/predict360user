{
 "cells": [
  {
   "cell_type": "code",
   "execution_count": null,
   "metadata": {},
   "outputs": [],
   "source": [
    "# -- simple plot\n",
    "from rondon import *\n",
    "from head_motion_prediction.David_MMSys_18.Read_Dataset import plot_3d_trace\n",
    "plot_3d_trace(get_sample_dataset()[ONE_USER][ONE_VIDEO][:, 1:], ONE_USER, ONE_VIDEO)"
   ]
  },
  {
   "cell_type": "code",
   "execution_count": null,
   "metadata": {},
   "outputs": [],
   "source": [
    "# -- debug conversions\n",
    "from rondon import *\n",
    "traces = get_traces_one_video_one_user()\n",
    "x, y, z = traces[0][0], traces[0][1], traces[0][2]\n",
    "print((x, y, z))\n",
    "print(cartesian_to_eulerian(x, y, z))\n",
    "print(eulerian_to_cartesian(*cartesian_to_eulerian(x, y, z)))\n",
    "print(from_position_to_tile(\n",
    "    eulerian_in_range(*cartesian_to_eulerian(x, y, z)),\n",
    "    TILES_H, TILES_V)\n",
    ")"
   ]
  },
  {
   "cell_type": "code",
   "execution_count": null,
   "metadata": {},
   "outputs": [],
   "source": [
    "# -- heatmap\n",
    "from rondon import *\n",
    "traces = get_traces_one_video_one_user()\n",
    "erp_tiles_heatmap(traces)\n"
   ]
  }
 ],
 "metadata": {
  "interpreter": {
   "hash": "bed9add7eda959bf6c8d12b02d45384ee68438564591465b81a62df10a32b7de"
  },
  "kernelspec": {
   "display_name": "Python 3.9.7 64-bit",
   "language": "python",
   "name": "python3"
  },
  "language_info": {
   "codemirror_mode": {
    "name": "ipython",
    "version": 3
   },
   "file_extension": ".py",
   "mimetype": "text/x-python",
   "name": "python",
   "nbconvert_exporter": "python",
   "pygments_lexer": "ipython3",
   "version": "3.10.2"
  },
  "orig_nbformat": 4
 },
 "nbformat": 4,
 "nbformat_minor": 2
}

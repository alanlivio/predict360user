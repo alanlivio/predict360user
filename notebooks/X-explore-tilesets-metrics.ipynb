{
    "cells": [
        {
            "cell_type": "code",
            "execution_count": null,
            "metadata": {},
            "outputs": [],
            "source": [
                "from users360 import *\n",
                "\n",
                "# show tile covering for cardinal points\n",
                "look_north_pole = [0.0, 0.0, 1.0]\n",
                "look_south_pole = [0.0, 0.0, -1.0]\n",
                "look_left = [0.0, -1.0, 0.0]\n",
                "look_right = [0.0, 1.0, 0.0]\n",
                "look_ahead = [1.0, 0.0, 0.0]\n",
                "look_behind = [-1.0, 0.0, 0.0]\n",
                "show_fov(look_north_pole)\n",
                "show_fov(look_south_pole)\n",
                "show_fov(look_left)\n",
                "show_fov(look_right)\n",
                "show_fov(look_ahead)\n",
                "show_fov(look_behind)\n"
            ]
        },
        {
            "cell_type": "code",
            "execution_count": null,
            "metadata": {},
            "outputs": [],
            "source": [
                "from users360 import *\n",
                "\n",
                "df = get_df_trajects()\n"
            ]
        },
        {
            "cell_type": "code",
            "execution_count": null,
            "metadata": {},
            "outputs": [],
            "source": [
                "tileset_variations =  [TileSet(3, 3, TileCover.ONLY20PERC), TileSet(3, 3, TileCover.ANY)]\n",
                "metrics = calc_tileset_reqs_metrics(TILESET_VARIATIONS_FOR_TEST, True)\n"
            ]
        },
        {
            "cell_type": "code",
            "execution_count": null,
            "metadata": {},
            "outputs": [],
            "source": [
                "show_tileset_reqs_metrics(metrics)"
            ]
        }
    ],
    "metadata": {
        "kernelspec": {
            "display_name": "hmp",
            "language": "python",
            "name": "python3"
        },
        "language_info": {
            "codemirror_mode": {
                "name": "ipython",
                "version": 3
            },
            "file_extension": ".py",
            "mimetype": "text/x-python",
            "name": "python",
            "nbconvert_exporter": "python",
            "pygments_lexer": "ipython3",
            "version": "3.9.13"
        },
        "orig_nbformat": 4,
        "vscode": {
            "interpreter": {
                "hash": "ea6544aaef551fdd12081e7298f81c4f54bbe7a7cc50c71f781bbf256a799de8"
            }
        }
    },
    "nbformat": 4,
    "nbformat_minor": 2
}

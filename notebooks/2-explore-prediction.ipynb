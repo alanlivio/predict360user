{
 "cells": [
  {
   "cell_type": "code",
   "execution_count": null,
   "metadata": {},
   "outputs": [],
   "source": [
    "from users360 import *\n",
    "from IPython.display import Markdown\n",
    "\n",
    "args={'train_entropy':'all', 'test_entropy':'low', 'perc_test':0.2}\n",
    "display(Markdown(f'### {args}'))\n",
    "show_train_test_split(**args)\n"
   ]
  }
 ],
 "metadata": {
  "kernelspec": {
   "display_name": "Python 3.9.13 ('hmp')",
   "language": "python",
   "name": "python3"
  },
  "language_info": {
   "codemirror_mode": {
    "name": "ipython",
    "version": 3
   },
   "file_extension": ".py",
   "mimetype": "text/x-python",
   "name": "python",
   "nbconvert_exporter": "python",
   "pygments_lexer": "ipython3",
   "version": "3.9.13"
  },
  "orig_nbformat": 4,
  "vscode": {
   "interpreter": {
    "hash": "ea6544aaef551fdd12081e7298f81c4f54bbe7a7cc50c71f781bbf256a799de8"
   }
  }
 },
 "nbformat": 4,
 "nbformat_minor": 2
}

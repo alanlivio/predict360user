{
 "cells": [
  {
   "cell_type": "markdown",
   "metadata": {},
   "source": [
    "# PlotVP"
   ]
  },
  {
   "cell_type": "code",
   "execution_count": null,
   "metadata": {},
   "outputs": [],
   "source": [
    "from users360 import *\n",
    "PlotVP(trace=[1, 0, 0]).show(VPEXTRACT_RECT_4_6_CENTER, to_html=False)\n",
    "PlotVP(trace=[-1, 0, 0]).show(VPEXTRACT_RECT_4_6_CENTER, to_html=False)\n",
    "PlotVP(trace=[0, 1, 0]).show(VPEXTRACT_RECT_4_6_CENTER, to_html=False)\n",
    "PlotVP(trace=[0, -1, 0]).show(VPEXTRACT_RECT_4_6_CENTER, to_html=False)\n",
    "PlotVP(trace=[0, 0, 1]).show(VPEXTRACT_RECT_4_6_CENTER, to_html=False)\n",
    "PlotVP(trace=[0, 0, -1]).show(VPEXTRACT_RECT_4_6_CENTER, to_html=False)"
   ]
  },
  {
   "cell_type": "code",
   "execution_count": null,
   "metadata": {},
   "outputs": [],
   "source": [
    "from users360 import *\n",
    "onevp = PlotVP(Dataset.singleton().one_trace())\n",
    "onevp.show(VPEXTRACT_RECT_4_6_CENTER, to_html=False)\n",
    "onevp.show(VPEXTRACT_VORO_14_CENTER, to_html=False)"
   ]
  },
  {
   "cell_type": "markdown",
   "metadata": {},
   "source": [
    "# PlotTraces"
   ]
  },
  {
   "cell_type": "code",
   "execution_count": null,
   "metadata": {},
   "outputs": [],
   "source": [
    "from users360 import *\n",
    "one_user = PlotTraces(Dataset.singleton().traces_video_user())\n",
    "one_user.show(VPEXTRACT_RECT_4_6_CENTER)\n",
    "one_user.show(VPEXTRACT_VORO_14_CENTER)"
   ]
  },
  {
   "cell_type": "code",
   "execution_count": null,
   "metadata": {},
   "outputs": [],
   "source": [
    "from users360 import *\n",
    "all_users = PlotTraces(Dataset.singleton().traces_video())\n",
    "all_users.show(VPEXTRACT_RECT_4_6_CENTER)\n",
    "all_users.show(VPEXTRACT_VORO_14_CENTER)\n"
   ]
  },
  {
   "cell_type": "code",
   "execution_count": null,
   "metadata": {},
   "outputs": [],
   "source": [
    "from users360 import *\n",
    "some_traces = PlotTraces(Dataset.singleton().traces_video_user(0.1))\n",
    "some_traces.show(VPEXTRACT_RECT_4_6_CENTER)\n",
    "some_traces.show(VPEXTRACT_VORO_14_CENTER)"
   ]
  },
  {
   "cell_type": "markdown",
   "metadata": {},
   "source": [
    "# PlotTraces users by entropy"
   ]
  },
  {
   "cell_type": "code",
   "execution_count": null,
   "metadata": {},
   "outputs": [],
   "source": [
    "from users360 import *\n",
    "dataset = Dataset.singleton()\n",
    "# dataset.users_entropy(VPEXTRACT_RECT_4_6_CENTER, plot_scatter=True)\n",
    "# dataset.users_entropy(VPEXTRACT_RECT_8_6_CENTER, plot_scatter=True)\n",
    "dataset.users_entropy(VPEXTRACT_VORO_14_CENTER, plot_scatter=True)\n",
    "# dataset.dump()\n"
   ]
  },
  {
   "cell_type": "code",
   "execution_count": null,
   "metadata": {},
   "outputs": [],
   "source": [
    "from users360 import *\n",
    "dataset = Dataset.singleton()\n",
    "users_hight = dataset.users_hight[:]\n",
    "users_low = dataset.users_low[:]\n",
    "PlotTraces(dataset.traces_video(users_hight), title_sufix=\"entropy_hight\").show(VPEXTRACT_RECT_4_6_CENTER)\n",
    "PlotTraces(dataset.traces_video(users_low), title_sufix=\"entropy_low\").show(VPEXTRACT_RECT_4_6_CENTER)"
   ]
  },
  {
   "cell_type": "code",
   "execution_count": null,
   "metadata": {},
   "outputs": [],
   "source": [
    "from users360 import *\n",
    "dataset = Dataset.singleton()\n",
    "# users_hight = dataset.users_hight[:3]\n",
    "# users_low = dataset.users_low[:3]\n",
    "users_hight = dataset.users_hight[:]\n",
    "users_low = dataset.users_low[:]\n",
    "dataset.metrics_vpextract_video([VPEXTRACT_RECT_4_6_CENTER, VPEXTRACT_VORO_14_CENTER], users=users_hight)\n",
    "dataset.metrics_vpextract_video([VPEXTRACT_RECT_4_6_CENTER, VPEXTRACT_VORO_14_CENTER], users=users_low)"
   ]
  },
  {
   "cell_type": "markdown",
   "metadata": {},
   "source": [
    "# PlotTraces users by region"
   ]
  },
  {
   "cell_type": "code",
   "execution_count": null,
   "metadata": {},
   "outputs": [],
   "source": [
    "from users360 import *\n",
    "dataset = Dataset.singleton()\n",
    "users_polar = PlotTraces(dataset.traces_video_poles()[:], title_sufix=\"poles\")\n",
    "users_polar.show(VPEXTRACT_RECT_4_6_CENTER)\n",
    "users_equator = PlotTraces(dataset.traces_video_equator()[:], title_sufix=\"equator\")\n",
    "users_equator.show(VPEXTRACT_RECT_4_6_CENTER)"
   ]
  },
  {
   "cell_type": "code",
   "execution_count": null,
   "metadata": {},
   "outputs": [],
   "source": [
    "# from users360 import *\n",
    "# dataset = Dataset.singleton()\n",
    "# users_polar.metrics_vpextract([VPEXTRACT_RECT_4_6_CENTER, VPEXTRACT_VORO_14_CENTER])\n",
    "# users_equator.metrics_vpextract([VPEXTRACT_RECT_4_6_CENTER, VPEXTRACT_VORO_14_CENTER])"
   ]
  },
  {
   "cell_type": "markdown",
   "metadata": {},
   "source": [
    "# Dataset metrics VP"
   ]
  },
  {
   "cell_type": "code",
   "execution_count": null,
   "metadata": {},
   "outputs": [],
   "source": [
    "from users360 import *\n",
    "dataset = Dataset.singleton()\n",
    "dataset.met_vpext = None # force recalculate\n",
    "dataset.metrics_vpextract_video(VPEXTRACT_METHODS, users=['0', '1', '2'], perc_traces=0.1)\n",
    "# dataset.singleton_dump()\n"
   ]
  },
  {
   "cell_type": "code",
   "execution_count": null,
   "metadata": {},
   "outputs": [],
   "source": [
    "\n",
    "from users360 import *\n",
    "from numpy import array as array\n",
    "# PlotVP(trace=[0.5624332, 0.4141108, -0.687445454]).show(VPEXTRACT_RECT_4_6_CENTER, to_html=False)\n",
    "# PlotVP(trace=[-0.56643968,  0.55032895,  0.61342002]).show(VPEXTRACT_RECT_4_6_CENTER)\n",
    "# PlotVP(trace=[ 0.0438392 ,  0.74582096,  0.66470235]).show(VPEXTRACT_RECT_4_6_CENTER)\n",
    "# PlotVP(trace=[ 0.86167495,  0.37456039,  0.34237524]).show(VPEXTRACT_RECT_4_6_CENTER)\n",
    "# VPEXTRACT_RECT_4_6_CENTER.request(trace=[-0.56643968,  0.55032895,  0.61342002],return_metrics=True)\n",
    "# VPEXTRACT_RECT_4_6_CENTER.request(trace=[ 0.0438392 ,  0.74582096,  0.66470235],return_metrics=True)\n",
    "# VPEXTRACT_RECT_4_6_CENTER.request(trace=[ 0.86167495,  0.37456039,  0.34237524],return_metrics=True)\n",
    "\n",
    "plot = PlotPolygon(VPEXTRACT_RECT_4_6_CENTER)\n",
    "t_ver, t_hor = 6 , 4\n",
    "\n",
    "bad_traces = [\n",
    "    array([ 0.01950938, -0.99865077,  0.04812503]),\n",
    "    array([ 0.0438392,   0.74582096,  0.66470235]),\n",
    "    array([ 0.35368315, -0.93035827, -0.0966526 ]),\n",
    "    array([ 0.52100603, -0.85336471,  0.01792752]),\n",
    "    array([ 0.54567701, -0.8345146 , -0.07630191]),\n",
    "    array([ 0.79732921, -0.59556031, -0.09784705]),\n",
    "    array([ 0.81414446, -0.58059996,  0.00851362]),\n",
    "    array([ 0.86167495,  0.37456039,  0.34237524]),\n",
    "    array([ 0.94371971, -0.29295564, -0.15352554]),\n",
    "    array([ 0.9953681 ,  0.00500964, -0.09600647]),\n",
    "    array([ 0.99627636, -0.06573347, -0.05578992]),\n",
    "    array([ 0.99948643, -0.02040683, -0.0247072 ]),\n",
    "    array([-0.1215687 , -0.99141498,  0.04813923]),\n",
    "    array([-0.23741683, -0.97052729, -0.04135241]),\n",
    "    array([-0.40910286,  0.88842715, -0.20816349]),\n",
    "    array([-0.48071625, -0.87682852,  0.00914523]),\n",
    "    array([-0.56643968,  0.55032895,  0.61342002]),\n",
    "    array([-0.64191121, -0.76602483, -0.03399935]),\n",
    "    array([-0.81942645,  0.54278193, -0.18419573]),\n",
    "    array([-0.84946775,  0.51344432, -0.12157085]),\n",
    "    array([-0.88987281, -0.45615206,  0.0071886 ]),\n",
    "    array([-0.89009305, -0.43712466, -0.12905967]),\n",
    "    array([-0.9471813 ,  0.29678096, -0.12152634]),\n",
    "    array([-0.99594966, -0.08781552,  0.01930554]),\n",
    "    array([-0.99956943, -0.01570768, -0.02478355]),\n",
    "]\n",
    "\n",
    "for trace in bad_traces:\n",
    "    for row in range(1,t_ver): # range(t_ver):\n",
    "        for col in range(t_hor):\n",
    "            print(f\"-- row={row},col={col}\")\n",
    "            tile_poly_rc = polygon.SphericalPolygon(tile_points(t_ver, t_hor, row, col))\n",
    "            fov_poly_trace = polygon.SphericalPolygon(fov_points(trace))\n",
    "            print(\"tile_poly_rc.area={}\".format(tile_poly_rc.area()))\n",
    "            print(\"fov_poly_trace.area={}\".format(fov_poly_trace.area()))\n",
    "            print(\"overlap_ratio={}\".format(tile_poly_rc.overlap(fov_poly_trace)))\n",
    "            print(\"lost_ratio={}\".format(1-tile_poly_rc.overlap(fov_poly_trace)))\n",
    "            tile_poly_rc = tile_poly(t_ver, t_hor, row, col)\n",
    "            fov_poly_trace = fov_poly(trace)\n",
    "            print(\"tile_poly_rc.area={}\".format(tile_poly_rc.area()))\n",
    "            print(\"fov_poly_trace.area={}\".format(fov_poly_trace.area()))\n",
    "            print(\"overlap_ratio={}\".format(tile_poly_rc.overlap(fov_poly_trace)))\n",
    "            print(\"lost_ratio={}\".format(1-tile_poly_rc.overlap(fov_poly_trace)))\n"
   ]
  }
 ],
 "metadata": {
  "interpreter": {
   "hash": "bed9add7eda959bf6c8d12b02d45384ee68438564591465b81a62df10a32b7de"
  },
  "kernelspec": {
   "display_name": "Python 3.9.7 64-bit",
   "language": "python",
   "name": "python3"
  },
  "language_info": {
   "codemirror_mode": {
    "name": "ipython",
    "version": 3
   },
   "file_extension": ".py",
   "mimetype": "text/x-python",
   "name": "python",
   "nbconvert_exporter": "python",
   "pygments_lexer": "ipython3",
   "version": "3.10.2"
  },
  "orig_nbformat": 4
 },
 "nbformat": 4,
 "nbformat_minor": 2
}

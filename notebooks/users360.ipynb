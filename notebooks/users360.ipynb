{
 "cells": [
  {
   "cell_type": "markdown",
   "metadata": {},
   "source": [
    "# traces on sphere"
   ]
  },
  {
   "cell_type": "code",
   "execution_count": null,
   "metadata": {},
   "outputs": [],
   "source": [
    "from users360 import *\n",
    "one_user = Projection(Dataset.singleton().traces_one_video_one_user())\n",
    "one_user.sphere(VPEXTRACT_RECT_6_4_CENTER)\n",
    "one_user.sphere(VPEXTRACT_VORO_14_CENTER)"
   ]
  },
  {
   "cell_type": "code",
   "execution_count": null,
   "metadata": {},
   "outputs": [],
   "source": [
    "from users360 import *\n",
    "all_users = Projection(Dataset.singleton().traces_one_video())\n",
    "all_users.sphere(VPEXTRACT_RECT_6_4_CENTER)\n",
    "all_users.sphere(VPEXTRACT_VORO_14_CENTER)\n"
   ]
  },
  {
   "cell_type": "code",
   "execution_count": null,
   "metadata": {},
   "outputs": [],
   "source": [
    "from users360 import *\n",
    "some_users = Projection(Dataset.singleton().traces_one_user_steped(4))\n",
    "some_users.sphere(VPEXTRACT_RECT_6_4_CENTER)\n",
    "some_users.sphere(VPEXTRACT_VORO_14_CENTER)"
   ]
  },
  {
   "cell_type": "markdown",
   "metadata": {},
   "source": [
    "# show VP extract"
   ]
  },
  {
   "cell_type": "code",
   "execution_count": null,
   "metadata": {},
   "outputs": [],
   "source": [
    "from users360 import *\n",
    "one_user = Projection(Dataset.singleton().one_trace())\n",
    "one_user.sphere_show_one_trace_vp(VPEXTRACT_RECT_6_4_CENTER, to_html=False)\n",
    "one_user.sphere_show_one_trace_vp(VPEXTRACT_VORO_14_CENTER, to_html=False)\n"
   ]
  },
  {
   "cell_type": "code",
   "execution_count": null,
   "metadata": {},
   "outputs": [],
   "source": [
    "from users360 import *\n",
    "one_trace = Projection(Dataset.singleton().one_trace())\n",
    "for vpextract in VPEXTRACT_METHODS:\n",
    "    one_trace.sphere_show_one_trace_vp(vpextract)\n"
   ]
  },
  {
   "cell_type": "code",
   "execution_count": null,
   "metadata": {},
   "outputs": [],
   "source": [
    "from users360 import *\n",
    "dataset = Dataset.singleton()\n",
    "one_given_user = Projection(dataset.traces_one_video_one_user(user='42'))\n",
    "# for trace in dataset.traces_one_user_steped(4):\n",
    "#     one_given_user.sphere_show_one_trace_vp(VPEXTRACT_RECT_6_4_CENTER, trace, to_html=False)\n",
    "# # print(one_given_user.traces)\n",
    "one_given_user.sphere_show_one_trace_vp(VPEXTRACT_RECT_6_4_CENTER, trace=[0, 0, 1], to_html=False)\n",
    "# one_given_user.sphere_show_one_trace_vp(VPEXTRACT_RECT_6_4_CENTER, trace=[0, 0, -1], to_html=False)\n",
    "one_given_user.sphere_show_one_trace_vp(VPEXTRACT_RECT_6_4_CENTER, trace=[1, 0, 0], to_html=False)\n",
    "# one_given_user.sphere_show_one_trace_vp(VPEXTRACT_RECT_6_4_CENTER, trace=[-1, 0, 0], to_html=False)\n",
    "one_given_user.sphere_show_one_trace_vp(VPEXTRACT_RECT_6_4_CENTER, trace=[0, 1, 0], to_html=False)\n",
    "# one_given_user.sphere_show_one_trace_vp(VPEXTRACT_RECT_6_4_CENTER, trace=[0, -1, 0], to_html=False)\n",
    "one_given_user.sphere_show_one_trace_vp(VPEXTRACT_RECT_6_4_CENTER, trace=[\n",
    "                                        0.5624332, 0.4141108, -0.687445454], to_html=False)"
   ]
  },
  {
   "cell_type": "markdown",
   "metadata": {},
   "source": [
    "# show VP metrics"
   ]
  },
  {
   "cell_type": "code",
   "execution_count": null,
   "metadata": {},
   "outputs": [],
   "source": [
    "from users360 import *\n",
    "Dataset.singleton().metrics_vpextract(VPEXTRACT_METHODS, users=[ONE_USER],plot_traces=False, plot_heatmaps=False)\n"
   ]
  },
  {
   "cell_type": "markdown",
   "metadata": {},
   "source": [
    "# users entropy"
   ]
  },
  {
   "cell_type": "code",
   "execution_count": null,
   "metadata": {},
   "outputs": [],
   "source": [
    "from users360 import *\n",
    "dataset = Dataset.singleton()\n",
    "# dataset.users_entropy(VPEXTRACT_RECT_6_4_CENTER, plot_scatter=True)\n",
    "# dataset.users_entropy(VPEXTRACT_RECT_8_6_CENTER)\n",
    "dataset.users_entropy(VPEXTRACT_VORO_14_CENTER, plot_scatter=True)\n",
    "# dataset.singleton_dump()\n"
   ]
  },
  {
   "cell_type": "code",
   "execution_count": null,
   "metadata": {},
   "outputs": [],
   "source": [
    "from users360 import *\n",
    "dataset = Dataset.singleton()\n",
    "users_hight = dataset.users_hight[:1]\n",
    "dataset.metrics_vpextract([VPEXTRACT_RECT_6_4_CENTER, VPEXTRACT_VORO_14_CENTER], users=users_hight)\n",
    "Projection(dataset.traces_one_video(users_hight), title_sufix=\"entropy_hight\").sphere(VPEXTRACT_RECT_6_4_CENTER)\n"
   ]
  },
  {
   "cell_type": "code",
   "execution_count": null,
   "metadata": {},
   "outputs": [],
   "source": [
    "from users360 import *\n",
    "dataset = Dataset.singleton()\n",
    "users_low = dataset.users_low[:]\n",
    "dataset.metrics_vpextract([VPEXTRACT_RECT_6_4_CENTER, VPEXTRACT_VORO_14_CENTER], users=users_low)\n",
    "Projection(dataset.traces_one_video(users_low), title_sufix=\"entropy_low\").sphere(VPEXTRACT_RECT_6_4_CENTER)\n"
   ]
  },
  {
   "cell_type": "markdown",
   "metadata": {},
   "source": [
    "# users region"
   ]
  },
  {
   "cell_type": "code",
   "execution_count": null,
   "metadata": {},
   "outputs": [],
   "source": [
    "from users360 import *\n",
    "dataset = Dataset.singleton()\n",
    "users_polar = Projection(dataset.traces_on_poles()[:], title_sufix=\"poles\")\n",
    "users_polar.sphere(VPEXTRACT_RECT_6_4_CENTER)\n",
    "# users_polar.metrics_vpextract([VPEXTRACT_RECT_6_4_CENTER, VPEXTRACT_VORO_14_CENTER])\n"
   ]
  },
  {
   "cell_type": "code",
   "execution_count": null,
   "metadata": {},
   "outputs": [],
   "source": [
    "from users360 import *\n",
    "dataset = Dataset.singleton()\n",
    "users_equator = Projection(dataset.traces_on_equator()[:], title_sufix=\"equator\")\n",
    "users_equator.sphere(VPEXTRACT_RECT_6_4_CENTER)\n",
    "# users_equator.metrics_vpextract([VPEXTRACT_RECT_6_4_CENTER, VPEXTRACT_VORO_14_CENTER])\n"
   ]
  }
 ],
 "metadata": {
  "interpreter": {
   "hash": "bed9add7eda959bf6c8d12b02d45384ee68438564591465b81a62df10a32b7de"
  },
  "kernelspec": {
   "display_name": "Python 3.9.7 64-bit",
   "language": "python",
   "name": "python3"
  },
  "language_info": {
   "codemirror_mode": {
    "name": "ipython",
    "version": 3
   },
   "file_extension": ".py",
   "mimetype": "text/x-python",
   "name": "python",
   "nbconvert_exporter": "python",
   "pygments_lexer": "ipython3",
   "version": "3.10.2"
  },
  "orig_nbformat": 4
 },
 "nbformat": 4,
 "nbformat_minor": 2
}

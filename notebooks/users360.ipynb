{
 "cells": [
  {
   "cell_type": "markdown",
   "metadata": {},
   "source": [
    "### ProjectFOV"
   ]
  },
  {
   "cell_type": "code",
   "execution_count": null,
   "metadata": {},
   "outputs": [],
   "source": [
    "from users360 import *\n",
    "\n",
    "show_fov(trace=[1, 0, 0])\n",
    "show_fov(trace=[-1, 0, 0])\n",
    "show_fov(trace=[0, 1, 0])\n",
    "show_fov(trace=[0, -1, 0])\n",
    "show_fov(trace=[0, 0, 1])\n",
    "show_fov(trace=[0, 0, -1])\n",
    "show_fov(Trajectories.singleton().get_one_trace())"
   ]
  },
  {
   "cell_type": "markdown",
   "metadata": {},
   "source": [
    "### Projection"
   ]
  },
  {
   "cell_type": "code",
   "execution_count": null,
   "metadata": {
    "vscode": {
     "languageId": "markdown"
    }
   },
   "outputs": [],
   "source": [
    "from users360 import *\n",
    "\n",
    "project = Projection()\n",
    "project.add_polygon_from_trace([1, 0, 0])\n",
    "project.add_polygon_as_row_col_tile(4,6,0,0)\n",
    "project.show()\n",
    "\n",
    "project = Projection()\n",
    "project.add_polygon_from_trace([1, 0, 0])\n",
    "project.add_polygon_as_points(TileSet.tile_points(4,6,0,0))\n",
    "project.show()"
   ]
  },
  {
   "cell_type": "markdown",
   "metadata": {},
   "source": [
    "### Trajectories show"
   ]
  },
  {
   "cell_type": "code",
   "execution_count": null,
   "metadata": {},
   "outputs": [],
   "source": [
    "from users360 import *\n",
    "show_trajects(Trajectories.singleton().get_one_traject())\n",
    "show_trajects(Trajectories.singleton().get_one_video_trajects())"
   ]
  },
  {
   "cell_type": "markdown",
   "metadata": {},
   "source": [
    "### Trajectories show by entropy"
   ]
  },
  {
   "cell_type": "code",
   "execution_count": null,
   "metadata": {},
   "outputs": [],
   "source": [
    "from users360 import *\n",
    "Trajectories.singleton().calc_entropy()"
   ]
  },
  {
   "cell_type": "code",
   "execution_count": null,
   "metadata": {},
   "outputs": [],
   "source": [
    "from users360 import *\n",
    "df = Trajectories.singleton().df\n",
    "show_trajects(df[df['entropy_class'] == 'low'][:10], title_sufix=\"hight_entropy\")\n",
    "show_trajects(df[df['entropy_class'] == 'medium'][:10], title_sufix=\"hight_entropy\")\n",
    "show_trajects(df[df['entropy_class'] == 'hight'][:10], title_sufix=\"low_entropy\")\n"
   ]
  },
  {
   "cell_type": "code",
   "execution_count": null,
   "metadata": {},
   "outputs": [],
   "source": [
    "Trajectories.singleton().show_entropy()"
   ]
  },
  {
   "cell_type": "markdown",
   "metadata": {},
   "source": [
    "### Trajectories show by region"
   ]
  },
  {
   "cell_type": "code",
   "execution_count": null,
   "metadata": {},
   "outputs": [],
   "source": [
    "# from users360 import *\n",
    "# users_polar = ProjectTrajectories(Trajectories.singleton().traces_video_poles()[:], title_sufix=\"poles\")\n",
    "# users_polar.show()\n",
    "# users_equator = ProjectTrajectories(Trajectories.singleton().traces_video_equator()[:], title_sufix=\"equator\")\n",
    "# users_equator.show()"
   ]
  },
  {
   "cell_type": "markdown",
   "metadata": {},
   "source": [
    "### TileSets Metrics"
   ]
  },
  {
   "cell_type": "code",
   "execution_count": null,
   "metadata": {},
   "outputs": [],
   "source": [
    "from users360 import *\n",
    "\n",
    "df = Trajectories.singleton().df\n",
    "schemes = [*TileSet.variations(), *TileSetVoro.variations()]\n",
    "Trajectories.singleton().calc_tileset_metrics(schemes, df[:2])\n"
   ]
  },
  {
   "cell_type": "code",
   "execution_count": null,
   "metadata": {},
   "outputs": [],
   "source": [
    "from users360 import *\n",
    "Trajectories.singleton().show_tileset_metrics()"
   ]
  },
  {
   "cell_type": "markdown",
   "metadata": {},
   "source": [
    "### tmp"
   ]
  },
  {
   "cell_type": "code",
   "execution_count": null,
   "metadata": {},
   "outputs": [],
   "source": [
    "from users360 import *\n",
    "Trajectories.singleton().dump()"
   ]
  }
 ],
 "metadata": {
  "kernelspec": {
   "display_name": "Python 3.10.4 64-bit",
   "language": "python",
   "name": "python3"
  },
  "language_info": {
   "codemirror_mode": {
    "name": "ipython",
    "version": 3
   },
   "file_extension": ".py",
   "mimetype": "text/x-python",
   "name": "python",
   "nbconvert_exporter": "python",
   "pygments_lexer": "ipython3",
   "version": "3.10.5"
  },
  "orig_nbformat": 4,
  "vscode": {
   "interpreter": {
    "hash": "8a8db932e496ef3cb7bc969a83d17611f35da7f3fd716831d613d84569e054b4"
   }
  }
 },
 "nbformat": 4,
 "nbformat_minor": 2
}

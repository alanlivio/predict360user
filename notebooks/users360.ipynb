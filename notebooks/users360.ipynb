{
 "cells": [
  {
   "cell_type": "markdown",
   "metadata": {},
   "source": [
    "# PlotVP"
   ]
  },
  {
   "cell_type": "code",
   "execution_count": null,
   "metadata": {},
   "outputs": [],
   "source": [
    "from users360 import *\n",
    "PlotVP(trace=[1, 0, 0]).show()\n",
    "PlotVP(trace=[-1, 0, 0]).show()\n",
    "PlotVP(trace=[0, 1, 0]).show()\n",
    "PlotVP(trace=[0, -1, 0]).show()\n",
    "PlotVP(trace=[0, 0, 1]).show()\n",
    "PlotVP(trace=[0, 0, -1]).show()"
   ]
  },
  {
   "cell_type": "code",
   "execution_count": null,
   "metadata": {},
   "outputs": [],
   "source": [
    "from users360 import *\n",
    "onevp = PlotVP(Dataset.singleton().one_trace())\n",
    "onevp.show()"
   ]
  },
  {
   "cell_type": "markdown",
   "metadata": {},
   "source": [
    "# PlotPolygon"
   ]
  },
  {
   "cell_type": "code",
   "execution_count": null,
   "metadata": {},
   "outputs": [],
   "source": [
    "plot = PlotPolygon()\n",
    "plot.add_polygon_from_trace([1, 0, 0])\n",
    "plot.add_polygon_as_row_col_tile(4,6,0,0)\n",
    "plot.show()\n",
    "\n",
    "plot = PlotPolygon()\n",
    "plot.add_polygon_from_trace([1, 0, 0])\n",
    "plot.add_polygon_as_points(tile_points(4,6,0,0))\n",
    "plot.show()"
   ]
  },
  {
   "cell_type": "markdown",
   "metadata": {},
   "source": [
    "# PlotTraces"
   ]
  },
  {
   "cell_type": "code",
   "execution_count": null,
   "metadata": {},
   "outputs": [],
   "source": [
    "from users360 import *\n",
    "one_user = PlotTraces(Dataset.singleton().traces_video_user())\n",
    "one_user.show()"
   ]
  },
  {
   "cell_type": "code",
   "execution_count": null,
   "metadata": {},
   "outputs": [],
   "source": [
    "from users360 import *\n",
    "all_users = PlotTraces(Dataset.singleton().traces_video())\n",
    "all_users.show()\n"
   ]
  },
  {
   "cell_type": "code",
   "execution_count": null,
   "metadata": {},
   "outputs": [],
   "source": [
    "from users360 import *\n",
    "some_traces = PlotTraces(Dataset.singleton().traces_video_user(0.1))\n",
    "some_traces.show()"
   ]
  },
  {
   "cell_type": "markdown",
   "metadata": {},
   "source": [
    "# PlotTraces users by entropy"
   ]
  },
  {
   "cell_type": "code",
   "execution_count": null,
   "metadata": {},
   "outputs": [],
   "source": [
    "from users360 import *\n",
    "dataset = Dataset.singleton()\n",
    "# dataset.users_entropy(TILES_4_6_CENTER, plot_scatter=True)\n",
    "# dataset.users_entropy(TILES_8_6_CENTER, plot_scatter=True)\n",
    "dataset.users_entropy(TILES_VORO_14_CENTER, plot_scatter=True)\n",
    "# dataset.dump()\n"
   ]
  },
  {
   "cell_type": "code",
   "execution_count": null,
   "metadata": {},
   "outputs": [],
   "source": [
    "from users360 import *\n",
    "dataset = Dataset.singleton()\n",
    "users_hight = dataset.users_hight[:]\n",
    "users_low = dataset.users_low[:]\n",
    "PlotTraces(dataset.traces_video(users_hight), title_sufix=\"entropy_hight\").show()\n",
    "PlotTraces(dataset.traces_video(users_low), title_sufix=\"entropy_low\").show()"
   ]
  },
  {
   "cell_type": "code",
   "execution_count": null,
   "metadata": {},
   "outputs": [],
   "source": [
    "from users360 import *\n",
    "dataset = Dataset.singleton()\n",
    "# users_hight = dataset.users_hight[:3]\n",
    "# users_low = dataset.users_low[:3]\n",
    "users_hight = dataset.users_hight[:]\n",
    "users_low = dataset.users_low[:]\n",
    "dataset.metrics_tiles_video([TILES_4_6_CENTER, TILES_VORO_14_CENTER], users=users_hight)\n",
    "dataset.metrics_tiles_video([TILES_4_6_CENTER, TILES_VORO_14_CENTER], users=users_low)"
   ]
  },
  {
   "cell_type": "markdown",
   "metadata": {},
   "source": [
    "# PlotTraces users by region"
   ]
  },
  {
   "cell_type": "code",
   "execution_count": null,
   "metadata": {},
   "outputs": [],
   "source": [
    "from users360 import *\n",
    "dataset = Dataset.singleton()\n",
    "users_polar = PlotTraces(dataset.traces_video_poles()[:], title_sufix=\"poles\")\n",
    "users_polar.show()\n",
    "users_equator = PlotTraces(dataset.traces_video_equator()[:], title_sufix=\"equator\")\n",
    "users_equator.show()"
   ]
  },
  {
   "cell_type": "code",
   "execution_count": null,
   "metadata": {},
   "outputs": [],
   "source": [
    "# from users360 import *\n",
    "# dataset = Dataset.singleton()\n",
    "# users_polar.metrics_tiles([TILES4_6_CENTER, TILES_VORO_14_CENTER])\n",
    "# users_equator.metrics_tiles([TILES4_6_CENTER, TILES_VORO_14_CENTER])"
   ]
  },
  {
   "cell_type": "markdown",
   "metadata": {},
   "source": [
    "# Dataset metrics VP"
   ]
  },
  {
   "cell_type": "code",
   "execution_count": null,
   "metadata": {},
   "outputs": [],
   "source": [
    "from users360 import *\n",
    "dataset = Dataset.singleton()\n",
    "dataset.met_vpext = None # force recalculate\n",
    "dataset.metrics_tiles_video([*TILES_VORO_L, *TILES_L], users=['0', '1', '2'], perc_traces=0.1)\n",
    "# dataset.singleton_dump()\n"
   ]
  }
 ],
 "metadata": {
  "interpreter": {
   "hash": "bed9add7eda959bf6c8d12b02d45384ee68438564591465b81a62df10a32b7de"
  },
  "kernelspec": {
   "display_name": "Python 3.9.7 64-bit",
   "language": "python",
   "name": "python3"
  },
  "language_info": {
   "codemirror_mode": {
    "name": "ipython",
    "version": 3
   },
   "file_extension": ".py",
   "mimetype": "text/x-python",
   "name": "python",
   "nbconvert_exporter": "python",
   "pygments_lexer": "ipython3",
   "version": "3.10.2"
  },
  "orig_nbformat": 4
 },
 "nbformat": 4,
 "nbformat_minor": 2
}

{
 "cells": [
  {
   "cell_type": "markdown",
   "metadata": {},
   "source": [
    "### VizSphere trace"
   ]
  },
  {
   "cell_type": "code",
   "execution_count": null,
   "metadata": {},
   "outputs": [],
   "source": [
    "from users360 import *\n",
    "show_sphere_fov(trace=[1., 0., 0.])\n",
    "show_sphere_fov(trace=[-1., 0., 0.])\n",
    "show_sphere_fov(trace=[0., 1., 0.])\n",
    "show_sphere_fov(trace=[0., -1., 0.])\n",
    "show_sphere_fov(trace=[0., 0., 1.])\n",
    "show_sphere_fov(trace=[0., 0., -1.])"
   ]
  },
  {
   "cell_type": "code",
   "execution_count": null,
   "metadata": {},
   "outputs": [],
   "source": [
    "from users360 import *\n",
    "show_sphere_fov(get_one_trace())"
   ]
  },
  {
   "cell_type": "code",
   "execution_count": null,
   "metadata": {},
   "outputs": [],
   "source": [
    "from users360 import *\n",
    "\n",
    "sphere = VizSphere()\n",
    "sphere.add_polygon_from_trace([1, 0, 0])\n",
    "sphere.add_polygon_as_row_col_tile(4,6,0,0)\n",
    "sphere.show()\n",
    "\n",
    "sphere = VizSphere()\n",
    "sphere.add_polygon_from_trace([1, 0, 0])\n",
    "sphere.add_polygon_as_points(tile_points(4,6,0,0))\n",
    "sphere.show()"
   ]
  },
  {
   "cell_type": "markdown",
   "metadata": {},
   "source": [
    "### VizSphere Trajectories"
   ]
  },
  {
   "cell_type": "code",
   "execution_count": null,
   "metadata": {},
   "outputs": [],
   "source": [
    "from users360 import *\n",
    "show_sphere_trajects(get_one_traject())"
   ]
  },
  {
   "cell_type": "markdown",
   "metadata": {},
   "source": [
    "### Trajectories entropy"
   ]
  },
  {
   "cell_type": "code",
   "execution_count": null,
   "metadata": {},
   "outputs": [],
   "source": [
    "from users360 import *\n",
    "calc_trajects_hmps()\n",
    "calc_trajects_entropy()\n",
    "show_trajects_entropy()"
   ]
  },
  {
   "cell_type": "code",
   "execution_count": null,
   "metadata": {},
   "outputs": [],
   "source": [
    "from users360 import *\n",
    "df = Data.singleton().df_trajects\n",
    "show_sphere_trajects(df[df['entropy_class'] == 'low'][:2])\n",
    "show_sphere_trajects(df[df['entropy_class'] == 'medium'][:2])\n",
    "show_sphere_trajects(df[df['entropy_class'] == 'hight'][:2])\n"
   ]
  },
  {
   "cell_type": "markdown",
   "metadata": {},
   "source": [
    "### Users entropy"
   ]
  },
  {
   "cell_type": "code",
   "execution_count": null,
   "metadata": {},
   "outputs": [],
   "source": [
    "from users360 import *\n",
    "# calc_trajects_ntropy_users()\n",
    "show_trajects_entropy_users()"
   ]
  },
  {
   "cell_type": "markdown",
   "metadata": {},
   "source": [
    "### Trajectories poles percentage"
   ]
  },
  {
   "cell_type": "code",
   "execution_count": null,
   "metadata": {},
   "outputs": [],
   "source": [
    "from users360 import *\n",
    "# calc_trajects_poles_prc()\n",
    "show_trajects_poles_prc()"
   ]
  },
  {
   "cell_type": "code",
   "execution_count": null,
   "metadata": {},
   "outputs": [],
   "source": [
    "from users360 import *\n",
    "df = Data.singleton().df_trajects\n",
    "show_sphere_trajects(df[df['poles_class'] == 'low'][:2])\n",
    "show_sphere_trajects(df[df['poles_class'] == 'medium'][:2])\n",
    "show_sphere_trajects(df[df['poles_class'] == 'hight'][:2])\n",
    "# show_sphere_trajects(df.loc[[149,298]]) # show by index\n"
   ]
  },
  {
   "cell_type": "markdown",
   "metadata": {},
   "source": [
    "### TileSets metrics"
   ]
  },
  {
   "cell_type": "code",
   "execution_count": null,
   "metadata": {},
   "outputs": [],
   "source": [
    "from users360 import *\n",
    "df = Data.singleton().df_trajects\n",
    "ts_l = [TileSet.default()]\n",
    "calc_trajects_tileset_metrics(ts_l, 2)\n"
   ]
  },
  {
   "cell_type": "code",
   "execution_count": null,
   "metadata": {},
   "outputs": [],
   "source": [
    "from users360 import *\n",
    "show_trajects_tileset_metrics()"
   ]
  },
  {
   "cell_type": "markdown",
   "metadata": {},
   "source": [
    "### tmp"
   ]
  },
  {
   "cell_type": "code",
   "execution_count": null,
   "metadata": {},
   "outputs": [],
   "source": [
    "from users360 import *\n",
    "Data.singleton().dump()\n",
    "TileSetData.singleton().dump()"
   ]
  },
  {
   "cell_type": "code",
   "execution_count": null,
   "metadata": {},
   "outputs": [],
   "source": [
    "from users360 import *\n",
    "df = Data.singleton().df_trajects\n",
    "display(df)"
   ]
  }
 ],
 "metadata": {
  "kernelspec": {
   "display_name": "Python 3.10.4 64-bit",
   "language": "python",
   "name": "python3"
  },
  "language_info": {
   "codemirror_mode": {
    "name": "ipython",
    "version": 3
   },
   "file_extension": ".py",
   "mimetype": "text/x-python",
   "name": "python",
   "nbconvert_exporter": "python",
   "pygments_lexer": "ipython3",
   "version": "3.10.5"
  },
  "orig_nbformat": 4,
  "vscode": {
   "interpreter": {
    "hash": "8a8db932e496ef3cb7bc969a83d17611f35da7f3fd716831d613d84569e054b4"
   }
  }
 },
 "nbformat": 4,
 "nbformat_minor": 2
}

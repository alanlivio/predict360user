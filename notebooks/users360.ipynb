{
 "cells": [
  {
   "cell_type": "markdown",
   "metadata": {},
   "source": [
    "# traces on sphere"
   ]
  },
  {
   "cell_type": "code",
   "execution_count": null,
   "metadata": {},
   "outputs": [],
   "source": [
    "from users360 import *\n",
    "one_user = PlotTraces(Dataset.singleton().traces_video_user())\n",
    "one_user.sphere(VPEXTRACT_RECT_6_4_CENTER)\n",
    "one_user.sphere(VPEXTRACT_VORO_14_CENTER)"
   ]
  },
  {
   "cell_type": "code",
   "execution_count": null,
   "metadata": {},
   "outputs": [],
   "source": [
    "from users360 import *\n",
    "all_users = PlotTraces(Dataset.singleton().traces_video())\n",
    "all_users.sphere(VPEXTRACT_RECT_6_4_CENTER)\n",
    "all_users.sphere(VPEXTRACT_VORO_14_CENTER)\n"
   ]
  },
  {
   "cell_type": "code",
   "execution_count": null,
   "metadata": {},
   "outputs": [],
   "source": [
    "from users360 import *\n",
    "some_traces = PlotTraces(Dataset.singleton().traces_video_user(0.1))\n",
    "some_traces.sphere(VPEXTRACT_RECT_6_4_CENTER)\n",
    "some_traces.sphere(VPEXTRACT_VORO_14_CENTER)"
   ]
  },
  {
   "cell_type": "markdown",
   "metadata": {},
   "source": [
    "# show VP extract"
   ]
  },
  {
   "cell_type": "code",
   "execution_count": null,
   "metadata": {},
   "outputs": [],
   "source": [
    "from users360 import *\n",
    "onevp = PlotVP(Dataset.singleton().one_trace())\n",
    "onevp.sphere_vp_trace(VPEXTRACT_RECT_6_4_CENTER, to_html=False)\n",
    "onevp.sphere_vp_trace(VPEXTRACT_VORO_14_CENTER, to_html=False)\n"
   ]
  },
  {
   "cell_type": "code",
   "execution_count": null,
   "metadata": {},
   "outputs": [],
   "source": [
    "from users360 import *\n",
    "onevp = PlotVP(Dataset.singleton().one_trace())\n",
    "for vpextract in VPEXTRACT_METHODS:\n",
    "    onevp.sphere_vp_trace(vpextract)\n"
   ]
  },
  {
   "cell_type": "code",
   "execution_count": null,
   "metadata": {},
   "outputs": [],
   "source": [
    "from users360 import *\n",
    "PlotVP(trace=[-1, 0, 0]).sphere_vp_trace(VPEXTRACT_RECT_6_4_CENTER, to_html=False)\n",
    "PlotVP(trace=[0, -1, 0]).sphere_vp_trace(VPEXTRACT_RECT_6_4_CENTER, to_html=False)\n",
    "PlotVP(trace=[0, 0, -1]).sphere_vp_trace(VPEXTRACT_RECT_6_4_CENTER, to_html=False)\n",
    "PlotVP(trace=[0, 0, 1]).sphere_vp_trace(VPEXTRACT_RECT_6_4_CENTER, to_html=False)\n",
    "PlotVP(trace=[0, 1, 0]).sphere_vp_trace(VPEXTRACT_RECT_6_4_CENTER, to_html=False)\n",
    "PlotVP(trace=[1, 0, 0]).sphere_vp_trace(VPEXTRACT_RECT_6_4_CENTER, to_html=False)\n",
    "PlotVP(trace=[0.5624332, 0.4141108, -0.687445454]).sphere_vp_trace(VPEXTRACT_RECT_6_4_CENTER, to_html=False)\n"
   ]
  },
  {
   "cell_type": "markdown",
   "metadata": {},
   "source": [
    "# metrics VP"
   ]
  },
  {
   "cell_type": "code",
   "execution_count": null,
   "metadata": {},
   "outputs": [],
   "source": [
    "from users360 import *\n",
    "Dataset.singleton().metrics_vpextract_video(VPEXTRACT_METHODS, users=[\n",
    "    ONE_USER], perc_traces=0.1, plot_traces=False, plot_heatmaps=False)\n"
   ]
  },
  {
   "cell_type": "markdown",
   "metadata": {},
   "source": [
    "# users entropy"
   ]
  },
  {
   "cell_type": "code",
   "execution_count": null,
   "metadata": {},
   "outputs": [],
   "source": [
    "from users360 import *\n",
    "dataset = Dataset.singleton()\n",
    "# dataset.users_entropy(VPEXTRACT_RECT_6_4_CENTER, plot_scatter=True)\n",
    "# dataset.users_entropy(VPEXTRACT_RECT_8_6_CENTER)\n",
    "dataset.users_entropy(VPEXTRACT_VORO_14_CENTER, plot_scatter=True)\n",
    "dataset.singleton_dump()\n"
   ]
  },
  {
   "cell_type": "code",
   "execution_count": null,
   "metadata": {},
   "outputs": [],
   "source": [
    "from users360 import *\n",
    "dataset = Dataset.singleton()\n",
    "users_hight = dataset.users_hight[:1]\n",
    "users_low = dataset.users_low[:1]\n",
    "PlotTraces(dataset.traces_video(users_hight), title_sufix=\"entropy_hight\").sphere(VPEXTRACT_RECT_6_4_CENTER)\n",
    "PlotTraces(dataset.traces_video(users_low), title_sufix=\"entropy_low\").sphere(VPEXTRACT_RECT_6_4_CENTER)"
   ]
  },
  {
   "cell_type": "code",
   "execution_count": null,
   "metadata": {},
   "outputs": [],
   "source": [
    "from users360 import *\n",
    "dataset = Dataset.singleton()\n",
    "users_hight = dataset.users_hight[:]\n",
    "users_low = dataset.users_low[:]\n",
    "dataset.metrics_vpextract_video([VPEXTRACT_RECT_6_4_CENTER, VPEXTRACT_VORO_14_CENTER], users=users_hight)\n",
    "dataset.metrics_vpextract_video([VPEXTRACT_RECT_6_4_CENTER, VPEXTRACT_VORO_14_CENTER], users=users_low)"
   ]
  },
  {
   "cell_type": "markdown",
   "metadata": {},
   "source": [
    "# users region"
   ]
  },
  {
   "cell_type": "code",
   "execution_count": null,
   "metadata": {},
   "outputs": [],
   "source": [
    "from users360 import *\n",
    "dataset = Dataset.singleton()\n",
    "users_polar = PlotTraces(dataset.traces_video_poles()[:], title_sufix=\"poles\")\n",
    "users_polar.sphere(VPEXTRACT_RECT_6_4_CENTER)\n",
    "# users_polar.metrics_vpextract([VPEXTRACT_RECT_6_4_CENTER, VPEXTRACT_VORO_14_CENTER])\n"
   ]
  },
  {
   "cell_type": "code",
   "execution_count": null,
   "metadata": {},
   "outputs": [],
   "source": [
    "from users360 import *\n",
    "dataset = Dataset.singleton()\n",
    "users_equator = PlotTraces(dataset.traces_video_equator()[:], title_sufix=\"equator\")\n",
    "users_equator.sphere(VPEXTRACT_RECT_6_4_CENTER)\n",
    "# users_equator.metrics_vpextract([VPEXTRACT_RECT_6_4_CENTER, VPEXTRACT_VORO_14_CENTER])\n"
   ]
  }
 ],
 "metadata": {
  "interpreter": {
   "hash": "bed9add7eda959bf6c8d12b02d45384ee68438564591465b81a62df10a32b7de"
  },
  "kernelspec": {
   "display_name": "Python 3.9.7 64-bit",
   "language": "python",
   "name": "python3"
  },
  "language_info": {
   "codemirror_mode": {
    "name": "ipython",
    "version": 3
   },
   "file_extension": ".py",
   "mimetype": "text/x-python",
   "name": "python",
   "nbconvert_exporter": "python",
   "pygments_lexer": "ipython3",
   "version": "3.10.2"
  },
  "orig_nbformat": 4
 },
 "nbformat": 4,
 "nbformat_minor": 2
}

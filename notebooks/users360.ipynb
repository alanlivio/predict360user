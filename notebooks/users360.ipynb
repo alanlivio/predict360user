{
 "cells": [
  {
   "cell_type": "markdown",
   "metadata": {},
   "source": [
    "### ProjectFOV"
   ]
  },
  {
   "cell_type": "code",
   "execution_count": null,
   "metadata": {},
   "outputs": [],
   "source": [
    "from users360 import *\n",
    "ProjectFOV(trace=[1, 0, 0]).show()\n",
    "ProjectFOV(trace=[-1, 0, 0]).show()\n",
    "ProjectFOV(trace=[0, 1, 0]).show()\n",
    "ProjectFOV(trace=[0, -1, 0]).show()\n",
    "ProjectFOV(trace=[0, 0, 1]).show()\n",
    "ProjectFOV(trace=[0, 0, -1]).show()"
   ]
  },
  {
   "cell_type": "code",
   "execution_count": null,
   "metadata": {
    "vscode": {
     "languageId": "markdown"
    }
   },
   "outputs": [],
   "source": [
    "from users360 import *\n",
    "onevp = ProjectFOV(Dataset.singleton().example_one_trace())\n",
    "onevp.show()"
   ]
  },
  {
   "cell_type": "markdown",
   "metadata": {},
   "source": [
    "### ProjectPolys"
   ]
  },
  {
   "cell_type": "code",
   "execution_count": null,
   "metadata": {
    "vscode": {
     "languageId": "markdown"
    }
   },
   "outputs": [],
   "source": [
    "plot = ProjectPolys()\n",
    "plot.add_polygon_from_trace([1, 0, 0])\n",
    "plot.add_polygon_as_row_col_tile(4,6,0,0)\n",
    "plot.show()\n",
    "\n",
    "plot = ProjectPolys()\n",
    "plot.add_polygon_from_trace([1, 0, 0])\n",
    "plot.add_polygon_as_points(Tiles.tile_points(4,6,0,0))\n",
    "plot.show()"
   ]
  },
  {
   "cell_type": "markdown",
   "metadata": {},
   "source": [
    "### ProjectTraces"
   ]
  },
  {
   "cell_type": "code",
   "execution_count": null,
   "metadata": {},
   "outputs": [],
   "source": [
    "from users360 import *\n",
    "one_user = ProjectTrajectories(Users360.singleton().example_one_trajectory())\n",
    "one_user.show()"
   ]
  },
  {
   "cell_type": "code",
   "execution_count": null,
   "metadata": {},
   "outputs": [],
   "source": [
    "from users360 import *\n",
    "one_video = ProjectTrajectories(Users360.singleton().example_one_video_trajectories())\n",
    "one_video.show()"
   ]
  },
  {
   "cell_type": "markdown",
   "metadata": {},
   "source": [
    "### ProjectTraces users by entropy"
   ]
  },
  {
   "cell_type": "code",
   "execution_count": null,
   "metadata": {},
   "outputs": [],
   "source": [
    "from users360 import *\n",
    "# Users360.singleton().calc_users_entropy(recalculate_requests=True)\n",
    "Users360.singleton().dump()"
   ]
  },
  {
   "cell_type": "code",
   "execution_count": null,
   "metadata": {},
   "outputs": [],
   "source": [
    "from users360 import *\n",
    "df = Users360.singleton().df\n",
    "ProjectTrajectories(df[df['entropy_class'] == 'low'][:10],\n",
    "                    title_sufix=\"hight_entropy\").show()\n",
    "ProjectTrajectories(df[df['entropy_class'] == 'hight'][:10],\n",
    "                    title_sufix=\"low_entropy\").show()"
   ]
  },
  {
   "cell_type": "code",
   "execution_count": null,
   "metadata": {},
   "outputs": [],
   "source": [
    "from users360 import *\n",
    "Users360.singleton().show_users_entropy()"
   ]
  },
  {
   "cell_type": "markdown",
   "metadata": {},
   "source": [
    "### ProjectTraces users by region"
   ]
  },
  {
   "cell_type": "code",
   "execution_count": null,
   "metadata": {},
   "outputs": [],
   "source": [
    "from users360 import *\n",
    "users_polar = ProjectTrajectories(Users360.singleton().traces_video_poles()[:], title_sufix=\"poles\")\n",
    "users_polar.show()\n",
    "users_equator = ProjectTrajectories(Users360.singleton().traces_video_equator()[:], title_sufix=\"equator\")\n",
    "users_equator.show()"
   ]
  },
  {
   "cell_type": "markdown",
   "metadata": {},
   "source": [
    "### TileScheme Metrics"
   ]
  },
  {
   "cell_type": "code",
   "execution_count": null,
   "metadata": {},
   "outputs": [],
   "source": [
    "\n",
    "from users360 import *\n",
    "df = Users360.singleton().df\n",
    "schemes = [*Tiles.variations(), *TilesVoro.variations()]\n",
    "Users360.singleton().calc_tileschemes_metrics(schemes, df[:2])\n",
    "Users360.singleton().show_tileschemes_metrics()\n"
   ]
  }
 ],
 "metadata": {
  "kernelspec": {
   "display_name": "Python 3.10.4 64-bit",
   "language": "python",
   "name": "python3"
  },
  "language_info": {
   "codemirror_mode": {
    "name": "ipython",
    "version": 3
   },
   "file_extension": ".py",
   "mimetype": "text/x-python",
   "name": "python",
   "nbconvert_exporter": "python",
   "pygments_lexer": "ipython3",
   "version": "3.10.5"
  },
  "orig_nbformat": 4,
  "vscode": {
   "interpreter": {
    "hash": "8a8db932e496ef3cb7bc969a83d17611f35da7f3fd716831d613d84569e054b4"
   }
  }
 },
 "nbformat": 4,
 "nbformat_minor": 2
}

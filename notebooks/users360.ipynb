{
 "cells": [
  {
   "cell_type": "markdown",
   "metadata": {},
   "source": [
    "### ProjectFOV"
   ]
  },
  {
   "cell_type": "code",
   "execution_count": null,
   "metadata": {},
   "outputs": [],
   "source": [
    "from users360 import *\n",
    "show_fov(trace=[1., 0., 0.])\n",
    "show_fov(trace=[-1., 0., 0.])\n",
    "show_fov(trace=[0., 1., 0.])\n",
    "show_fov(trace=[0., -1., 0.])\n",
    "show_fov(trace=[0., 0., 1.])\n",
    "show_fov(trace=[0., 0., -1.])"
   ]
  },
  {
   "cell_type": "code",
   "execution_count": null,
   "metadata": {},
   "outputs": [],
   "source": [
    "from users360 import *\n",
    "show_fov(Data.singleton().get_one_trace())"
   ]
  },
  {
   "cell_type": "markdown",
   "metadata": {},
   "source": [
    "### Projection"
   ]
  },
  {
   "cell_type": "code",
   "execution_count": null,
   "metadata": {},
   "outputs": [],
   "source": [
    "from users360 import *\n",
    "\n",
    "project = Projection()\n",
    "project.add_polygon_from_trace([1, 0, 0])\n",
    "project.add_polygon_as_row_col_tile(4,6,0,0)\n",
    "project.show()\n",
    "\n",
    "project = Projection()\n",
    "project.add_polygon_from_trace([1, 0, 0])\n",
    "project.add_polygon_as_points(TileSet.tile_points(4,6,0,0))\n",
    "project.show()"
   ]
  },
  {
   "cell_type": "markdown",
   "metadata": {},
   "source": [
    "### Trajectories show"
   ]
  },
  {
   "cell_type": "code",
   "execution_count": null,
   "metadata": {},
   "outputs": [],
   "source": [
    "from users360 import *\n",
    "show_trajects(Data.singleton().get_one_traject())"
   ]
  },
  {
   "cell_type": "markdown",
   "metadata": {},
   "source": [
    "### Trajectories show by entropy"
   ]
  },
  {
   "cell_type": "code",
   "execution_count": null,
   "metadata": {},
   "outputs": [],
   "source": [
    "from users360 import *\n",
    "# calc_entropy()\n",
    "show_entropy()"
   ]
  },
  {
   "cell_type": "code",
   "execution_count": null,
   "metadata": {},
   "outputs": [],
   "source": [
    "from users360 import *\n",
    "df = Data.singleton().df_trajects\n",
    "show_trajects(df[df['entropy_class'] == 'low'][:2])\n",
    "show_trajects(df[df['entropy_class'] == 'medium'][:2])\n",
    "show_trajects(df[df['entropy_class'] == 'hight'][:2])\n"
   ]
  },
  {
   "cell_type": "markdown",
   "metadata": {},
   "source": [
    "### Users show by entropy"
   ]
  },
  {
   "cell_type": "code",
   "execution_count": null,
   "metadata": {},
   "outputs": [],
   "source": [
    "from users360 import *\n",
    "# calc_entropy_users()\n",
    "show_entropy_users()"
   ]
  },
  {
   "cell_type": "markdown",
   "metadata": {},
   "source": [
    "### Trajectories show by poles"
   ]
  },
  {
   "cell_type": "code",
   "execution_count": null,
   "metadata": {},
   "outputs": [],
   "source": [
    "from users360 import *\n",
    "# .calc_poles_prc()\n",
    "show_poles_prc()"
   ]
  },
  {
   "cell_type": "code",
   "execution_count": null,
   "metadata": {},
   "outputs": [],
   "source": [
    "from users360 import *\n",
    "df = Data.singleton().df_trajects\n",
    "show_trajects(df[df['poles_class'] == 'low'][:2])\n",
    "show_trajects(df[df['poles_class'] == 'medium'][:2])\n",
    "show_trajects(df[df['poles_class'] == 'hight'][:2])\n",
    "# show_trajects(df.loc[[149,298]]) # show by index\n"
   ]
  },
  {
   "cell_type": "markdown",
   "metadata": {},
   "source": [
    "### TileSets Metrics"
   ]
  },
  {
   "cell_type": "code",
   "execution_count": null,
   "metadata": {},
   "outputs": [],
   "source": [
    "from users360 import *\n",
    "df = Data.singleton().df_trajects\n",
    "ts_l = [TileSet.default()]\n",
    "calc_tileset_metrics(ts_l, 2)\n"
   ]
  },
  {
   "cell_type": "code",
   "execution_count": null,
   "metadata": {},
   "outputs": [],
   "source": [
    "from users360 import *\n",
    "show_tileset_metrics()"
   ]
  },
  {
   "cell_type": "markdown",
   "metadata": {},
   "source": [
    "### tmp"
   ]
  },
  {
   "cell_type": "code",
   "execution_count": null,
   "metadata": {},
   "outputs": [],
   "source": [
    "from users360 import *\n",
    "# Data.singleton().df_trajects = df\n",
    "Data.singleton().dump()"
   ]
  },
  {
   "cell_type": "code",
   "execution_count": null,
   "metadata": {},
   "outputs": [],
   "source": [
    "from users360 import *\n",
    "df = Data.singleton().df_trajects\n",
    "display(df)"
   ]
  }
 ],
 "metadata": {
  "kernelspec": {
   "display_name": "Python 3.10.4 64-bit",
   "language": "python",
   "name": "python3"
  },
  "language_info": {
   "codemirror_mode": {
    "name": "ipython",
    "version": 3
   },
   "file_extension": ".py",
   "mimetype": "text/x-python",
   "name": "python",
   "nbconvert_exporter": "python",
   "pygments_lexer": "ipython3",
   "version": "3.10.5"
  },
  "orig_nbformat": 4,
  "vscode": {
   "interpreter": {
    "hash": "8a8db932e496ef3cb7bc969a83d17611f35da7f3fd716831d613d84569e054b4"
   }
  }
 },
 "nbformat": 4,
 "nbformat_minor": 2
}

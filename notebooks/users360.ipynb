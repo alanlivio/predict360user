{
 "cells": [
  {
   "cell_type": "markdown",
   "metadata": {},
   "source": [
    "# PlotVP"
   ]
  },
  {
   "cell_type": "code",
   "execution_count": null,
   "metadata": {},
   "outputs": [],
   "source": [
    "from users360 import *\n",
    "import numpy as np\n",
    "PlotVP(trace=[1, 0, 0]).show(VPEXTRACT_RECT_4_6_CENTER, to_html=False)\n",
    "PlotVP(trace=[-1, 0, 0]).show(VPEXTRACT_RECT_4_6_CENTER, to_html=False)\n",
    "PlotVP(trace=[0, 1, 0]).show(VPEXTRACT_RECT_4_6_CENTER, to_html=False)\n",
    "PlotVP(trace=[0, -1, 0]).show(VPEXTRACT_RECT_4_6_CENTER, to_html=False)\n",
    "PlotVP(trace=[0, 0, 1]).show(VPEXTRACT_RECT_4_6_CENTER, to_html=False)\n",
    "PlotVP(trace=[0, 0, -1]).show(VPEXTRACT_RECT_4_6_CENTER, to_html=False)\n",
    "PlotVP(trace=[0.5624332, 0.4141108, -0.687445454]).show(VPEXTRACT_RECT_4_6_CENTER, to_html=False)\n",
    "\n",
    "# PlotVP(trace=[-0.56643968,  0.55032895,  0.61342002]).show(VPEXTRACT_RECT_4_6_CENTER)\n",
    "# PlotVP(trace=[ 0.0438392 ,  0.74582096,  0.66470235]).show(VPEXTRACT_RECT_4_6_CENTER)\n",
    "# PlotVP(trace=[ 0.86167495,  0.37456039,  0.34237524]).show(VPEXTRACT_RECT_4_6_CENTER)\n",
    "# VPEXTRACT_RECT_4_6_CENTER.request(trace=[-0.56643968,  0.55032895,  0.61342002],return_metrics=True)\n",
    "# VPEXTRACT_RECT_4_6_CENTER.request(trace=[ 0.0438392 ,  0.74582096,  0.66470235],return_metrics=True)\n",
    "# VPEXTRACT_RECT_4_6_CENTER.request(trace=[ 0.86167495,  0.37456039,  0.34237524],return_metrics=True)\n",
    "\n",
    "# t_hor, t_ver = 6 , 4\n",
    "# d_hor = degrees_to_radian(360/t_hor)\n",
    "# d_ver = degrees_to_radian(180/t_ver)\n",
    "\n",
    "# for row in range (2): # range(t_ver):\n",
    "#     for col in range(t_hor):\n",
    "#         print(f\"row={row},col={col}\")\n",
    "#         polygon_rect_tile = np.array([\n",
    "#             eulerian_to_cartesian(d_hor * col, d_ver * (row+1)),\n",
    "#             eulerian_to_cartesian(d_hor * (col+1), d_ver * (row+1)),\n",
    "#             eulerian_to_cartesian(d_hor * (col+1), d_ver * row),\n",
    "#             eulerian_to_cartesian(d_hor * col, d_ver * row)])\n",
    "#         print (polygon_rect_tile)\n",
    "#         print (np.unique(polygon_rect_tile,axis=0))\n",
    "#         print (\"area={}\".format(polygon.SphericalPolygon(np.unique(polygon_rect_tile,axis=0)).area()))\n",
    "#         # PlotPolygon(polygon_rect_tile).show()\n",
    "\n",
    "\n",
    "# plot = PlotPolygon(VPEXTRACT_RECT_4_6_CENTER)\n",
    "# plot.add_polygon_from_trace([ 0.35368315, -0.93035827, -0.0966526 ])\n",
    "# plot.add_polygon_as_row_col_tile(4,6,0,3)\n",
    "# plot.add_polygon_as_row_col_tile(4,6,1,3)\n",
    "# plot.add_polygon_as_row_col_tile(4,6,2,3)\n",
    "# plot.add_polygon_as_row_col_tile(4,6,3,3)\n",
    "# plot.show()\n",
    "\n"
   ]
  },
  {
   "cell_type": "code",
   "execution_count": null,
   "metadata": {},
   "outputs": [],
   "source": [
    "from users360 import *\n",
    "onevp = PlotVP(Dataset.singleton().one_trace())\n",
    "onevp.show(VPEXTRACT_RECT_4_6_CENTER, to_html=False)\n",
    "onevp.show(VPEXTRACT_VORO_14_CENTER, to_html=False)"
   ]
  },
  {
   "cell_type": "markdown",
   "metadata": {},
   "source": [
    "# PlotTraces"
   ]
  },
  {
   "cell_type": "code",
   "execution_count": null,
   "metadata": {},
   "outputs": [],
   "source": [
    "from users360 import *\n",
    "one_user = PlotTraces(Dataset.singleton().traces_video_user())\n",
    "one_user.show(VPEXTRACT_RECT_4_6_CENTER)\n",
    "one_user.show(VPEXTRACT_VORO_14_CENTER)"
   ]
  },
  {
   "cell_type": "code",
   "execution_count": null,
   "metadata": {},
   "outputs": [],
   "source": [
    "from users360 import *\n",
    "all_users = PlotTraces(Dataset.singleton().traces_video())\n",
    "all_users.show(VPEXTRACT_RECT_4_6_CENTER)\n",
    "all_users.show(VPEXTRACT_VORO_14_CENTER)\n"
   ]
  },
  {
   "cell_type": "code",
   "execution_count": null,
   "metadata": {},
   "outputs": [],
   "source": [
    "from users360 import *\n",
    "some_traces = PlotTraces(Dataset.singleton().traces_video_user(0.1))\n",
    "some_traces.show(VPEXTRACT_RECT_4_6_CENTER)\n",
    "some_traces.show(VPEXTRACT_VORO_14_CENTER)"
   ]
  },
  {
   "cell_type": "markdown",
   "metadata": {},
   "source": [
    "# PlotTraces users by entropy"
   ]
  },
  {
   "cell_type": "code",
   "execution_count": null,
   "metadata": {},
   "outputs": [],
   "source": [
    "from users360 import *\n",
    "dataset = Dataset.singleton()\n",
    "# dataset.users_entropy(VPEXTRACT_RECT_4_6_CENTER, plot_scatter=True)\n",
    "# dataset.users_entropy(VPEXTRACT_RECT_8_6_CENTER, plot_scatter=True)\n",
    "dataset.users_entropy(VPEXTRACT_VORO_14_CENTER, plot_scatter=True)\n",
    "# dataset.dump()\n"
   ]
  },
  {
   "cell_type": "code",
   "execution_count": null,
   "metadata": {},
   "outputs": [],
   "source": [
    "from users360 import *\n",
    "dataset = Dataset.singleton()\n",
    "users_hight = dataset.users_hight[:]\n",
    "users_low = dataset.users_low[:]\n",
    "PlotTraces(dataset.traces_video(users_hight), title_sufix=\"entropy_hight\").show(VPEXTRACT_RECT_4_6_CENTER)\n",
    "PlotTraces(dataset.traces_video(users_low), title_sufix=\"entropy_low\").show(VPEXTRACT_RECT_4_6_CENTER)"
   ]
  },
  {
   "cell_type": "code",
   "execution_count": null,
   "metadata": {},
   "outputs": [],
   "source": [
    "from users360 import *\n",
    "dataset = Dataset.singleton()\n",
    "# users_hight = dataset.users_hight[:3]\n",
    "# users_low = dataset.users_low[:3]\n",
    "users_hight = dataset.users_hight[:]\n",
    "users_low = dataset.users_low[:]\n",
    "dataset.metrics_vpextract_video([VPEXTRACT_RECT_4_6_CENTER, VPEXTRACT_VORO_14_CENTER], users=users_hight)\n",
    "dataset.metrics_vpextract_video([VPEXTRACT_RECT_4_6_CENTER, VPEXTRACT_VORO_14_CENTER], users=users_low)"
   ]
  },
  {
   "cell_type": "markdown",
   "metadata": {},
   "source": [
    "# PlotTraces users by region"
   ]
  },
  {
   "cell_type": "code",
   "execution_count": null,
   "metadata": {},
   "outputs": [],
   "source": [
    "from users360 import *\n",
    "dataset = Dataset.singleton()\n",
    "users_polar = PlotTraces(dataset.traces_video_poles()[:], title_sufix=\"poles\")\n",
    "users_polar.show(VPEXTRACT_RECT_4_6_CENTER)\n",
    "users_equator = PlotTraces(dataset.traces_video_equator()[:], title_sufix=\"equator\")\n",
    "users_equator.show(VPEXTRACT_RECT_4_6_CENTER)"
   ]
  },
  {
   "cell_type": "code",
   "execution_count": null,
   "metadata": {},
   "outputs": [],
   "source": [
    "# from users360 import *\n",
    "# dataset = Dataset.singleton()\n",
    "# users_polar.metrics_vpextract([VPEXTRACT_RECT_4_6_CENTER, VPEXTRACT_VORO_14_CENTER])\n",
    "# users_equator.metrics_vpextract([VPEXTRACT_RECT_4_6_CENTER, VPEXTRACT_VORO_14_CENTER])"
   ]
  },
  {
   "cell_type": "markdown",
   "metadata": {},
   "source": [
    "# Dataset metrics VP"
   ]
  },
  {
   "cell_type": "code",
   "execution_count": null,
   "metadata": {},
   "outputs": [],
   "source": [
    "from users360 import *\n",
    "dataset = Dataset.singleton()\n",
    "dataset.met_vpext = None # force recalculate\n",
    "dataset.metrics_vpextract_video(VPEXTRACT_METHODS, users=['0', '1', '2'], perc_traces=0.1)\n",
    "# dataset.singleton_dump()\n"
   ]
  }
 ],
 "metadata": {
  "interpreter": {
   "hash": "bed9add7eda959bf6c8d12b02d45384ee68438564591465b81a62df10a32b7de"
  },
  "kernelspec": {
   "display_name": "Python 3.9.7 64-bit",
   "language": "python",
   "name": "python3"
  },
  "language_info": {
   "codemirror_mode": {
    "name": "ipython",
    "version": 3
   },
   "file_extension": ".py",
   "mimetype": "text/x-python",
   "name": "python",
   "nbconvert_exporter": "python",
   "pygments_lexer": "ipython3",
   "version": "3.10.2"
  },
  "orig_nbformat": 4
 },
 "nbformat": 4,
 "nbformat_minor": 2
}

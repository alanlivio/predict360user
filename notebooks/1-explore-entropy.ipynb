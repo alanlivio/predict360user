{
    "cells": [
        {
            "cell_type": "markdown",
            "metadata": {},
            "source": [
                "### user_entropy_class"
            ]
        },
        {
            "cell_type": "code",
            "execution_count": null,
            "metadata": {},
            "outputs": [],
            "source": [
                "from users360 import *\n",
                "\n",
                "# calc_trajects_entropy_users()\n",
                "show_trajects_entropy_users()"
            ]
        },
        {
            "cell_type": "code",
            "execution_count": null,
            "metadata": {},
            "outputs": [],
            "source": [
                "from users360 import *\n",
                "\n",
                "df = get_df_trajects()\n",
                "\n",
                "show_trajects(df[df['user_entropy_class'] == 'low'].nsmallest(1,'user_entropy'))\n",
                "show_trajects(df[df['user_entropy_class'] == 'medium'].nsmallest(1,'user_entropy'))\n",
                "show_trajects(df[df['user_entropy_class'] == 'hight'].nlargest(1,'user_entropy'))"
            ]
        },
        {
            "cell_type": "code",
            "execution_count": null,
            "metadata": {},
            "outputs": [],
            "source": [
                "from users360 import *\n",
                "\n",
                "df = get_df_trajects()\n",
                "user_highest_entropy = df[df['user_entropy_class'] == 'hight'].nlargest(1,'user_entropy')['ds_user'].iloc[0]\n",
                "# print(user_highest_entropy)\n",
                "show_trajects(df[df['ds_user'] == user_highest_entropy][:3])\n"
            ]
        },
        {
            "cell_type": "markdown",
            "metadata": {},
            "source": [
                "### traject_entropy_class"
            ]
        },
        {
            "cell_type": "code",
            "execution_count": null,
            "metadata": {},
            "outputs": [],
            "source": [
                "from users360 import *\n",
                "\n",
                "# calc_trajects_entropy()\n",
                "show_trajects_entropy()"
            ]
        },
        {
            "cell_type": "code",
            "execution_count": null,
            "metadata": {},
            "outputs": [],
            "source": [
                "from users360 import *\n",
                "\n",
                "df = get_df_trajects()\n",
                "\n",
                "show_trajects(df[df['traject_entropy_class'] == 'low'].nsmallest(1,'traject_entropy'))\n",
                "show_trajects(df[df['traject_entropy_class'] == 'medium'].nsmallest(1,'traject_entropy'))\n",
                "show_trajects(df[df['traject_entropy_class'] == 'hight'].nlargest(1,'traject_entropy'))"
            ]
        },
        {
            "cell_type": "markdown",
            "metadata": {},
            "source": [
                "### tmp"
            ]
        },
        {
            "cell_type": "code",
            "execution_count": null,
            "metadata": {},
            "outputs": [],
            "source": [
                "from users360 import *\n",
                "\n",
                "\n",
                "df = get_df_trajects()\n",
                "display(df)\n",
                "\n",
                "# do some modification\n",
                "\n",
                "# dump_df_trajects()"
            ]
        }
    ],
    "metadata": {
        "kernelspec": {
            "display_name": "hmp",
            "language": "python",
            "name": "python3"
        },
        "language_info": {
            "codemirror_mode": {
                "name": "ipython",
                "version": 3
            },
            "file_extension": ".py",
            "mimetype": "text/x-python",
            "name": "python",
            "nbconvert_exporter": "python",
            "pygments_lexer": "ipython3",
            "version": "3.9.13"
        },
        "orig_nbformat": 4,
        "vscode": {
            "interpreter": {
                "hash": "ea6544aaef551fdd12081e7298f81c4f54bbe7a7cc50c71f781bbf256a799de8"
            }
        }
    },
    "nbformat": 4,
    "nbformat_minor": 2
}

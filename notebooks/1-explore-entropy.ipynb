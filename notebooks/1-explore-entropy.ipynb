{
 "cells": [
  {
   "cell_type": "markdown",
   "metadata": {},
   "source": [
    "### calculate entropy"
   ]
  },
  {
   "cell_type": "code",
   "execution_count": null,
   "metadata": {},
   "outputs": [],
   "source": [
    "from users360 import *\n",
    "\n",
    "calc_trajects_entropy()\n",
    "# Data.instance().save()"
   ]
  },
  {
   "cell_type": "code",
   "execution_count": 1,
   "metadata": {},
   "outputs": [
    {
     "name": "stderr",
     "output_type": "stream",
     "text": [
      "-- data.py: loading trajects from head_motion_prediction project\n"
     ]
    }
   ],
   "source": [
    "from users360 import *\n",
    "\n",
    "df = get_df_trajects()\n"
   ]
  },
  {
   "cell_type": "code",
   "execution_count": null,
   "metadata": {},
   "outputs": [],
   "source": [
    "from users360 import *\n",
    "\n",
    "# show_trajects_entropy()\n",
    "\n",
    "# show_trajects_entropy_users()"
   ]
  },
  {
   "cell_type": "code",
   "execution_count": null,
   "metadata": {},
   "outputs": [],
   "source": [
    "from users360 import *\n",
    "\n",
    "df = get_df_trajects()\n",
    "\n",
    "# show_trajects(df[df['entropy'] == df['entropy'].min()])\n",
    "# show_trajects(df[df['entropy'] == df['entropy'].max()])\n",
    "\n",
    "show_trajects(df[df['entropy_class'] == 'low'].nsmallest(3,'entropy')[0:1])\n",
    "show_trajects(df[df['entropy_class'] == 'low'].nsmallest(3,'entropy')[2:3])\n",
    "\n",
    "show_trajects(df[df['entropy_class'] == 'medium'].nsmallest(3,'entropy')[0:1])\n",
    "show_trajects(df[df['entropy_class'] == 'medium'].nsmallest(3,'entropy')[2:3])\n",
    "\n",
    "show_trajects(df[df['entropy_class'] == 'hight'].nlargest(3,'entropy')[0:1])\n",
    "show_trajects(df[df['entropy_class'] == 'hight'].nlargest(3,'entropy')[2:3])"
   ]
  },
  {
   "cell_type": "markdown",
   "metadata": {},
   "source": [
    "### calculate poles_prc"
   ]
  },
  {
   "cell_type": "code",
   "execution_count": null,
   "metadata": {},
   "outputs": [],
   "source": [
    "from users360 import *\n",
    "calc_trajects_poles_prc()\n",
    "# Data.instance().save()"
   ]
  },
  {
   "cell_type": "code",
   "execution_count": null,
   "metadata": {},
   "outputs": [],
   "source": [
    "from users360 import *\n",
    "\n",
    "df = get_df_trajects()\n",
    "show_sphere_trajects(df[df['poles_class'] == 'low'][:1])\n",
    "show_sphere_trajects(df[df['poles_class'] == 'medium'][:1])\n",
    "show_sphere_trajects(df[df['poles_class'] == 'hight'][:1])\n"
   ]
  }
 ],
 "metadata": {
  "kernelspec": {
   "display_name": "hmp",
   "language": "python",
   "name": "python3"
  },
  "language_info": {
   "codemirror_mode": {
    "name": "ipython",
    "version": 3
   },
   "file_extension": ".py",
   "mimetype": "text/x-python",
   "name": "python",
   "nbconvert_exporter": "python",
   "pygments_lexer": "ipython3",
   "version": "3.9.13"
  },
  "orig_nbformat": 4,
  "vscode": {
   "interpreter": {
    "hash": "ea6544aaef551fdd12081e7298f81c4f54bbe7a7cc50c71f781bbf256a799de8"
   }
  }
 },
 "nbformat": 4,
 "nbformat_minor": 2
}

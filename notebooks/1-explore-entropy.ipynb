{
    "cells": [
        {
            "cell_type": "markdown",
            "metadata": {},
            "source": [
                "### calculate entropy"
            ]
        },
        {
            "cell_type": "code",
            "execution_count": null,
            "metadata": {},
            "outputs": [],
            "source": [
                "from users360 import *\n",
                "\n",
                "# display(config.df_trajects)\n",
                "df = get_df_trajects()\n",
                "display(df)\n",
                "# dump_df_trajects()"
            ]
        },
        {
            "cell_type": "code",
            "execution_count": null,
            "metadata": {},
            "outputs": [],
            "source": [
                "from users360 import *\n",
                "\n",
                "# df_trajects = get_df_trajects()\n",
                "# calc_trajects_entropy()\n",
                "show_trajects_entropy()"
            ]
        },
        {
            "cell_type": "code",
            "execution_count": null,
            "metadata": {},
            "outputs": [],
            "source": [
                "from users360 import *\n",
                "\n",
                "# df_trajects = get_df_trajects()\n",
                "# calc_trajects_entropy_users()\n",
                "show_trajects_entropy_users()"
            ]
        },
        {
            "cell_type": "code",
            "execution_count": null,
            "metadata": {},
            "outputs": [],
            "source": [
                "from users360 import *\n",
                "\n",
                "df = get_df_trajects()\n",
                "\n",
                "# show_trajects(df[df['traject_entropy'] == df['traject_entropy'].min()])\n",
                "# show_trajects(df[df['traject_entropy'] == df['traject_entropy'].max()])\n",
                "\n",
                "show_trajects(df[df['traject_entropy_class'] == 'low'].nsmallest(3,'traject_entropy')[0:1])\n",
                "show_trajects(df[df['traject_entropy_class'] == 'low'].nsmallest(3,'traject_entropy')[2:3])\n",
                "\n",
                "show_trajects(df[df['traject_entropy_class'] == 'medium'].nsmallest(3,'traject_entropy')[0:1])\n",
                "show_trajects(df[df['traject_entropy_class'] == 'medium'].nsmallest(3,'traject_entropy')[2:3])\n",
                "\n",
                "show_trajects(df[df['traject_entropy_class'] == 'hight'].nlargest(3,'traject_entropy')[0:1])\n",
                "show_trajects(df[df['traject_entropy_class'] == 'hight'].nlargest(3,'traject_entropy')[2:3])"
            ]
        },
        {
            "cell_type": "markdown",
            "metadata": {},
            "source": [
                "### tmp"
            ]
        },
        {
            "cell_type": "code",
            "execution_count": null,
            "metadata": {},
            "outputs": [],
            "source": [
                "from users360 import *\n",
                "\n",
                "# try something \n",
                "# dump_df_trajects()"
            ]
        }
    ],
    "metadata": {
        "kernelspec": {
            "display_name": "hmp",
            "language": "python",
            "name": "python3"
        },
        "language_info": {
            "codemirror_mode": {
                "name": "ipython",
                "version": 3
            },
            "file_extension": ".py",
            "mimetype": "text/x-python",
            "name": "python",
            "nbconvert_exporter": "python",
            "pygments_lexer": "ipython3",
            "version": "3.9.13"
        },
        "orig_nbformat": 4,
        "vscode": {
            "interpreter": {
                "hash": "ea6544aaef551fdd12081e7298f81c4f54bbe7a7cc50c71f781bbf256a799de8"
            }
        }
    },
    "nbformat": 4,
    "nbformat_minor": 2
}

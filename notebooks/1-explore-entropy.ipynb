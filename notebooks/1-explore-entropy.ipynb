{
    "cells": [
        {
            "cell_type": "code",
            "execution_count": null,
            "metadata": {},
            "outputs": [],
            "source": [
                "from users360 import *\n",
                "\n",
                "df = get_df_trajects()\n",
                "display(df.head())"
            ]
        },
        {
            "cell_type": "code",
            "execution_count": null,
            "metadata": {},
            "outputs": [],
            "source": [
                "# calculate users entropy\n",
                "calc_users_entropy(df)"
            ]
        },
        {
            "cell_type": "code",
            "execution_count": null,
            "metadata": {},
            "outputs": [],
            "source": [
                "# show users entropy\n",
                "show_users_entropy(df)"
            ]
        },
        {
            "cell_type": "code",
            "execution_count": null,
            "metadata": {},
            "outputs": [],
            "source": [
                "# show representive trajectory for each user entropy class\n",
                "show_one_traject(df[df['user_entropy_class'] == 'low'].nsmallest(1,'user_entropy'))\n",
                "show_one_traject(df[df['user_entropy_class'] == 'medium'].nsmallest(1,'user_entropy'))\n",
                "show_one_traject(df[df['user_entropy_class'] == 'hight'].nlargest(1,'user_entropy'))"
            ]
        },
        {
            "cell_type": "code",
            "execution_count": null,
            "metadata": {},
            "outputs": [],
            "source": [
                "# calculate trajects entropy\n",
                "calc_trajects_entropy(df)"
            ]
        },
        {
            "cell_type": "code",
            "execution_count": null,
            "metadata": {},
            "outputs": [],
            "source": [
                "# show traject entropy\n",
                "show_trajects_entropy(df)"
            ]
        },
        {
            "cell_type": "code",
            "execution_count": null,
            "metadata": {},
            "outputs": [],
            "source": [
                "# show representive trajectory for each entropy class\n",
                "show_one_traject(df[df['traject_entropy_class'] == 'low'].nsmallest(1,'traject_entropy'))\n",
                "show_one_traject(df[df['traject_entropy_class'] == 'medium'].nsmallest(1,'traject_entropy'))\n",
                "show_one_traject(df[df['traject_entropy_class'] == 'hight'].nlargest(1,'traject_entropy'))"
            ]
        },
        {
            "cell_type": "code",
            "execution_count": null,
            "metadata": {},
            "outputs": [],
            "source": [
                "# calculate poles prc\n",
                "calc_trajects_poles_prc()"
            ]
        },
        {
            "cell_type": "code",
            "execution_count": null,
            "metadata": {},
            "outputs": [],
            "source": [
                "# show poles prc\n",
                "show_trajects_poles_prc()"
            ]
        },
        {
            "cell_type": "code",
            "execution_count": null,
            "metadata": {},
            "outputs": [],
            "source": [
                "# show representive trajectory for each poles class\n",
                "show_one_traject(df[df['poles_class'] == 'low'][:1])\n",
                "show_one_traject(df[df['poles_class'] == 'medium'][:1])\n",
                "show_one_traject(df[df['poles_class'] == 'hight'][:1])"
            ]
        },
        {
            "cell_type": "markdown",
            "metadata": {},
            "source": [
                "### tmp"
            ]
        },
        {
            "cell_type": "code",
            "execution_count": null,
            "metadata": {},
            "outputs": [],
            "source": [
                "# from users360 import *\n",
                "\n",
                "# df = get_df_trajects()\n",
                "# display(df)\n",
                "\n",
                "# do some modification\n",
                "\n",
                "# dump_df_trajects()"
            ]
        },
        {
            "cell_type": "code",
            "execution_count": null,
            "metadata": {},
            "outputs": [],
            "source": [
                "# import numpy as np\n",
                "# from users360 import *\n",
                "# df = df if 'df' in locals() else get_df_trajects()\n",
                "\n",
                "# calc_actual_entropy from sample\n",
                "# one_row = df[df['traject_entropy_class'] == 'low'].nsmallest(1,'traject_entropy')\n",
                "# one_row = df[df['traject_entropy_class'] == 'medium'].nsmallest(1,'traject_entropy')\n",
                "# one_row = df[df['traject_entropy_class'] == 'hight'].nlargest(1,'traject_entropy')\n",
                "# show_one_traject(one_row)\n",
                "# print(calc_fixmps_ids(one_row['traject'].iloc[0]))\n",
                "# print(calc_actual_entropy(one_row['traject'].iloc[0]))\n",
                "# print(one_row['traject_entropy'])\n",
                "\n",
                "# ids = np.array([1, 2, 3, 4, 5, 6, 7])\n",
                "# print(s1, calc_actual_entropy_from_ids(ids, return_sub_len_t=True))\n",
                "# ids = np.array([1, 2, 3, 1, 2, 3, 4])\n",
                "# print(s2, calc_actual_entropy_from_ids(ids, return_sub_len_t=True))\n",
                "# ids = np.array([7, 7, 7, 7, 7, 7, 7])\n",
                "# print(st, calc_actual_entropy_from_ids(ids, return_sub_len_t=True))\n",
                "# ids = np.array([7, 1, 2, 3, 1, 2, 3, 4])\n",
                "# print(st, calc_actual_entropy_from_ids(ids, return_sub_len_t=True))"
            ]
        }
    ],
    "metadata": {
        "kernelspec": {
            "display_name": "hmp",
            "language": "python",
            "name": "python3"
        },
        "language_info": {
            "codemirror_mode": {
                "name": "ipython",
                "version": 3
            },
            "file_extension": ".py",
            "mimetype": "text/x-python",
            "name": "python",
            "nbconvert_exporter": "python",
            "pygments_lexer": "ipython3",
            "version": "3.9.13"
        },
        "orig_nbformat": 4,
        "vscode": {
            "interpreter": {
                "hash": "ea6544aaef551fdd12081e7298f81c4f54bbe7a7cc50c71f781bbf256a799de8"
            }
        }
    },
    "nbformat": 4,
    "nbformat_minor": 2
}

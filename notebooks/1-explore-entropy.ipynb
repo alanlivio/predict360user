{
    "cells": [
        {
            "cell_type": "code",
            "execution_count": null,
            "metadata": {},
            "outputs": [],
            "source": [
                "from users360 import *\n",
                "\n",
                "df = df if 'df' in locals() else get_df_trajects()\n",
                "display(df.head())"
            ]
        },
        {
            "cell_type": "code",
            "execution_count": null,
            "metadata": {},
            "outputs": [],
            "source": [
                "# calculate trajects entropy\n",
                "calc_trajects_entropy(df)"
            ]
        },
        {
            "cell_type": "code",
            "execution_count": null,
            "metadata": {},
            "outputs": [],
            "source": [
                "# show traject entropy\n",
                "show_trajects_entropy(df)"
            ]
        },
        {
            "cell_type": "code",
            "execution_count": null,
            "metadata": {},
            "outputs": [],
            "source": [
                "# show representive trajectory for each entropy class\n",
                "show_one_traject(df[df['traject_entropy_class'] == 'low'].nsmallest(1,'traject_entropy'))\n",
                "show_one_traject(df[df['traject_entropy_class'] == 'medium'].nsmallest(1,'traject_entropy'))\n",
                "show_one_traject(df[df['traject_entropy_class'] == 'hight'].nlargest(1,'traject_entropy'))"
            ]
        },
        {
            "cell_type": "code",
            "execution_count": null,
            "metadata": {},
            "outputs": [],
            "source": [
                "# calculate poles prc\n",
                "calc_trajects_poles_prc()"
            ]
        },
        {
            "cell_type": "code",
            "execution_count": null,
            "metadata": {},
            "outputs": [],
            "source": [
                "# show poles prc\n",
                "show_trajects_poles_prc()"
            ]
        },
        {
            "cell_type": "code",
            "execution_count": null,
            "metadata": {},
            "outputs": [],
            "source": [
                "# show representive trajectory for each poles class\n",
                "show_one_traject(df[df['poles_class'] == 'low'][:1])\n",
                "show_one_traject(df[df['poles_class'] == 'medium'][:1])\n",
                "show_one_traject(df[df['poles_class'] == 'hight'][:1])"
            ]
        }
    ],
    "metadata": {
        "kernelspec": {
            "display_name": "hmp",
            "language": "python",
            "name": "python3"
        },
        "language_info": {
            "codemirror_mode": {
                "name": "ipython",
                "version": 3
            },
            "file_extension": ".py",
            "mimetype": "text/x-python",
            "name": "python",
            "nbconvert_exporter": "python",
            "pygments_lexer": "ipython3",
            "version": "3.9.13 | packaged by conda-forge | (main, May 27 2022, 16:51:29) [MSC v.1929 64 bit (AMD64)]"
        },
        "orig_nbformat": 4,
        "vscode": {
            "interpreter": {
                "hash": "ea6544aaef551fdd12081e7298f81c4f54bbe7a7cc50c71f781bbf256a799de8"
            }
        }
    },
    "nbformat": 4,
    "nbformat_minor": 2
}

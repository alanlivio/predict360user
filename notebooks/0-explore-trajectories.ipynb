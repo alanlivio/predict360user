{
 "cells": [
  {
   "cell_type": "markdown",
   "metadata": {},
   "source": [
    "### vizualize trajectories from Rondon head_motion_prediction"
   ]
  },
  {
   "cell_type": "code",
   "execution_count": null,
   "metadata": {},
   "outputs": [],
   "source": [
    "import os\n",
    "import sys\n",
    "\n",
    "ONE_USER = '0'\n",
    "ONE_VIDEO = '10_Cows'\n",
    "SAMPLE_DATASET = None\n",
    "\n",
    "if SAMPLE_DATASET is None:\n",
    "    cwd = os.getcwd()\n",
    "    project_path = f\"users360/head_motion_prediction/\"\n",
    "    sys.path.append(project_path)\n",
    "    import users360.head_motion_prediction.David_MMSys_18.Read_Dataset as david\n",
    "    from users360.head_motion_prediction.Utils import *\n",
    "    print(f\"get SAMPLE_DATASET from {project_path}\")\n",
    "    os.chdir(project_path)\n",
    "    SAMPLE_DATASET = david.load_sampled_dataset()\n",
    "    os.chdir(cwd)\n",
    "\n",
    "trajects = SAMPLE_DATASET[ONE_USER][ONE_VIDEO][:, 1:]\n",
    "\n",
    "from users360.head_motion_prediction.David_MMSys_18.Read_Dataset import \\\n",
    "    plot_3d_trace\n",
    "\n",
    "plot_3d_trace(trajects, ONE_USER, ONE_VIDEO)"
   ]
  },
  {
   "cell_type": "code",
   "execution_count": null,
   "metadata": {},
   "outputs": [],
   "source": [
    "import plotly.express as px\n",
    "import plotly.graph_objs as go\n",
    "\n",
    "\n",
    "def rondon_heatmap(traces):\n",
    "    heatmaps = []\n",
    "    for i in traces:\n",
    "        heatmaps.append(from_position_to_tile(eulerian_in_range(\n",
    "            *cartesian_to_eulerian(i[0], i[1], i[2])), 6, 4))\n",
    "    fig = px.imshow(np.sum(heatmaps, axis=0), labels=dict(\n",
    "        x=\"longitude\", y=\"latitude\", color=\"requests\"), title=f\"{len(traces)}_traces (reqs={np.sum(heatmaps)})\")\n",
    "    fig.update_layout(go.Layout(width=600))\n",
    "    fig.show()\n",
    "\n",
    "rondon_heatmap(trajects[:1]) # one trace\n",
    "rondon_heatmap(trajects) # all traces"
   ]
  },
  {
   "cell_type": "markdown",
   "metadata": {},
   "source": [
    "### vizualize trajectories from user360 (given points)"
   ]
  },
  {
   "cell_type": "code",
   "execution_count": null,
   "metadata": {},
   "outputs": [],
   "source": [
    "from users360 import *\n",
    "\n",
    "show_sphere_fov(trace=[1., 0., 0.])\n",
    "show_sphere_fov(trace=[-1., 0., 0.])\n",
    "show_sphere_fov(trace=[0., 1., 0.])\n",
    "show_sphere_fov(trace=[0., -1., 0.])\n",
    "show_sphere_fov(trace=[0., 0., 1.])\n",
    "show_sphere_fov(trace=[0., 0., -1.])"
   ]
  },
  {
   "cell_type": "code",
   "execution_count": null,
   "metadata": {},
   "outputs": [],
   "source": [
    "from users360 import *\n",
    "\n",
    "show_sphere_fov(get_one_trace())"
   ]
  },
  {
   "cell_type": "code",
   "execution_count": null,
   "metadata": {},
   "outputs": [],
   "source": [
    "from users360 import *\n",
    "\n",
    "sphere = VizSphere()\n",
    "sphere.add_trace_and_fov([1, 0, 0])\n",
    "sphere.add_polygon_from_tile_row_col(4,6,0,0)\n",
    "sphere.show()\n",
    "\n",
    "sphere = VizSphere()\n",
    "sphere.add_trace_and_fov([1, 0, 0])\n",
    "sphere.add_polygon_from_points(tile_points(4,6,0,0))\n",
    "sphere.show()"
   ]
  },
  {
   "cell_type": "markdown",
   "metadata": {},
   "source": [
    "### vizualize trajectories from user360 (get_df_trajects)"
   ]
  },
  {
   "cell_type": "code",
   "execution_count": null,
   "metadata": {},
   "outputs": [],
   "source": [
    "from users360 import *\n",
    "\n",
    "df = get_df_trajects()\n",
    "display(df)"
   ]
  },
  {
   "cell_type": "code",
   "execution_count": null,
   "metadata": {},
   "outputs": [],
   "source": [
    "from users360 import *\n",
    "\n",
    "show_sphere_trajects(get_df_trajects().head(1))"
   ]
  },
  {
   "cell_type": "code",
   "execution_count": null,
   "metadata": {},
   "outputs": [],
   "source": [
    "import plotly.express as px\n",
    "import plotly.graph_objs as go\n",
    "\n",
    "from users360 import *\n",
    "\n",
    "show_sphere_fov(get_one_trace())\n",
    "show_sphere_trajects(get_one_traject())"
   ]
  },
  {
   "cell_type": "markdown",
   "metadata": {},
   "source": [
    "### poles percentage"
   ]
  },
  {
   "cell_type": "code",
   "execution_count": null,
   "metadata": {},
   "outputs": [],
   "source": [
    "# from users360 import *\n",
    "# show_trajects_poles_prc()"
   ]
  },
  {
   "cell_type": "code",
   "execution_count": null,
   "metadata": {},
   "outputs": [],
   "source": [
    "# from users360 import *\n",
    "\n",
    "# df = get_df_trajects()\n",
    "# show_sphere_trajects(df[df['poles_class'] == 'low'][:1])\n",
    "# show_sphere_trajects(df[df['poles_class'] == 'medium'][:1])\n",
    "# show_sphere_trajects(df[df['poles_class'] == 'hight'][:1])\n"
   ]
  }
 ],
 "metadata": {
  "kernelspec": {
   "display_name": "hmp",
   "language": "python",
   "name": "python3"
  },
  "language_info": {
   "codemirror_mode": {
    "name": "ipython",
    "version": 3
   },
   "file_extension": ".py",
   "mimetype": "text/x-python",
   "name": "python",
   "nbconvert_exporter": "python",
   "pygments_lexer": "ipython3",
   "version": "3.9.13"
  },
  "orig_nbformat": 4,
  "vscode": {
   "interpreter": {
    "hash": "ea6544aaef551fdd12081e7298f81c4f54bbe7a7cc50c71f781bbf256a799de8"
   }
  }
 },
 "nbformat": 4,
 "nbformat_minor": 2
}

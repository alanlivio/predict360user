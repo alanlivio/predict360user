{
 "cells": [
  {
   "cell_type": "code",
   "execution_count": null,
   "metadata": {},
   "outputs": [],
   "source": [
    "# -- rondon plot\n",
    "from head_motion_prediction.Utils import *\n",
    "import sys\n",
    "import os\n",
    "\n",
    "ONE_USER = '0'\n",
    "ONE_VIDEO = '10_Cows'\n",
    "SAMPLE_DATASET = None\n",
    "\n",
    "if SAMPLE_DATASET is None:\n",
    "    sys.path.append('head_motion_prediction')\n",
    "    project_path = \"head_motion_prediction\"\n",
    "    cwd = os.getcwd()\n",
    "    import head_motion_prediction.David_MMSys_18.Read_Dataset as david\n",
    "    if os.path.basename(cwd) != project_path:\n",
    "        print(f\"-- get SAMPLE_DATASET from {project_path}\")\n",
    "        os.chdir(project_path)\n",
    "        SAMPLE_DATASET = david.load_sampled_dataset()\n",
    "        os.chdir(cwd)\n",
    "\n",
    "trajects = SAMPLE_DATASET[ONE_USER][ONE_VIDEO][:, 1:]\n",
    "\n",
    "from head_motion_prediction.David_MMSys_18.Read_Dataset import plot_3d_trace\n",
    "plot_3d_trace(trajects, ONE_USER, ONE_VIDEO)"
   ]
  },
  {
   "cell_type": "code",
   "execution_count": null,
   "metadata": {},
   "outputs": [],
   "source": [
    "# -- rondon conversions\n",
    "one_trace = trajects[0]\n",
    "x, y, z = one_trace[0], one_trace[1], one_trace[2]\n",
    "print((x, y, z))\n",
    "print(cartesian_to_eulerian(x, y, z))\n",
    "print(eulerian_to_cartesian(*cartesian_to_eulerian(x, y, z)))\n",
    "print(from_position_to_tile(eulerian_in_range(*cartesian_to_eulerian(x, y, z)),6, 4))\n"
   ]
  },
  {
   "cell_type": "code",
   "execution_count": null,
   "metadata": {},
   "outputs": [],
   "source": [
    "import plotly.express as px\n",
    "import plotly.graph_objs as go\n",
    "\n",
    "def rondon_heatmap(traces):\n",
    "    heatmaps = []\n",
    "    for i in traces:\n",
    "        heatmaps.append(from_position_to_tile(eulerian_in_range(\n",
    "            *cartesian_to_eulerian(i[0], i[1], i[2])), 6, 4))\n",
    "    fig = px.imshow(np.sum(heatmaps, axis=0), labels=dict(\n",
    "        x=\"longitude\", y=\"latitude\", color=\"requests\"), title=f\"{len(traces)}_traces (reqs={np.sum(heatmaps)})\")\n",
    "    fig.update_layout(go.Layout(width=600))\n",
    "    fig.show()\n",
    "\n",
    "rondon_heatmap(trajects[:1]) # one trace\n",
    "rondon_heatmap(trajects) # all traces\n"
   ]
  },
  {
   "cell_type": "code",
   "execution_count": null,
   "metadata": {},
   "outputs": [],
   "source": [
    "# compare with users360.ProjectTrajectories.erp_heatmap\n",
    "from users360 import *\n",
    "import plotly.graph_objs as go\n",
    "import plotly.express as px\n",
    "onevp = show_fov(Trajectories.singleton().get_one_trace())\n",
    "one_user = show_trajects(Trajectories.singleton().get_one_traject())\n",
    "onevp.show()  # one trace\n",
    "one_user.show()  # all traces\n"
   ]
  }
 ],
 "metadata": {
  "kernelspec": {
   "display_name": "Python 3.10.5 64-bit",
   "language": "python",
   "name": "python3"
  },
  "language_info": {
   "codemirror_mode": {
    "name": "ipython",
    "version": 3
   },
   "file_extension": ".py",
   "mimetype": "text/x-python",
   "name": "python",
   "nbconvert_exporter": "python",
   "pygments_lexer": "ipython3",
   "version": "3.10.5"
  },
  "orig_nbformat": 4,
  "vscode": {
   "interpreter": {
    "hash": "8a8db932e496ef3cb7bc969a83d17611f35da7f3fd716831d613d84569e054b4"
   }
  }
 },
 "nbformat": 4,
 "nbformat_minor": 2
}

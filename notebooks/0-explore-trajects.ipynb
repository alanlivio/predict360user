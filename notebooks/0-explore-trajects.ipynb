{
    "cells": [
        {
            "cell_type": "code",
            "execution_count": null,
            "metadata": {},
            "outputs": [],
            "source": [
                "from users360 import *\n",
                "\n",
                "df = get_df_trajects()"
            ]
        },
        {
            "cell_type": "code",
            "execution_count": null,
            "metadata": {},
            "outputs": [],
            "source": [
                "display(df)"
            ]
        },
        {
            "cell_type": "code",
            "execution_count": null,
            "metadata": {},
            "outputs": [],
            "source": [
                "row = df.query(f\"ds=='david' and ds_user=='david_0' and ds_video=='david_10_Cows'\")\n",
                "display(row)"
            ]
        },
        {
            "cell_type": "code",
            "execution_count": null,
            "metadata": {},
            "outputs": [],
            "source": [
                "# show one trace \n",
                "show_fov(get_one_trace(df))"
            ]
        },
        {
            "cell_type": "code",
            "execution_count": null,
            "metadata": {},
            "outputs": [],
            "source": [
                "# show one trajectory\n",
                "show_trajects(df.head(1))"
            ]
        }
    ],
    "metadata": {
        "kernelspec": {
            "display_name": "hmp",
            "language": "python",
            "name": "python3"
        },
        "language_info": {
            "codemirror_mode": {
                "name": "ipython",
                "version": 3
            },
            "file_extension": ".py",
            "mimetype": "text/x-python",
            "name": "python",
            "nbconvert_exporter": "python",
            "pygments_lexer": "ipython3",
            "version": "3.9.13"
        },
        "orig_nbformat": 4,
        "vscode": {
            "interpreter": {
                "hash": "ea6544aaef551fdd12081e7298f81c4f54bbe7a7cc50c71f781bbf256a799de8"
            }
        }
    },
    "nbformat": 4,
    "nbformat_minor": 2
}

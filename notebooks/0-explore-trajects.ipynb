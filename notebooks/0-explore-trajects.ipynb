{
    "cells": [
        {
            "attachments": {},
            "cell_type": "markdown",
            "metadata": {},
            "source": [
                "### Showing one trajectory at Rondon's head_motion_prediction and at users360"
            ]
        },
        {
            "cell_type": "code",
            "execution_count": null,
            "metadata": {},
            "outputs": [],
            "source": [
                "import os\n",
                "import sys\n",
                "import plotly.express as px\n",
                "import plotly.graph_objs as go\n",
                "from users360.head_motion_prediction.David_MMSys_18.Read_Dataset import \\\n",
                "    plot_3d_trace\n",
                "    \n",
                "ONE_USER = '0'\n",
                "ONE_VIDEO = '10_Cows'\n",
                "if not 'SAMPLE_DATASET' in locals():\n",
                "  cwd = os.getcwd()\n",
                "  project_path = f\"users360/head_motion_prediction/\"\n",
                "  sys.path.append(project_path)\n",
                "  import users360.head_motion_prediction.David_MMSys_18.Read_Dataset as david\n",
                "  from users360.head_motion_prediction.Utils import *\n",
                "  print(f\"get SAMPLE_DATASET from {project_path}\")\n",
                "  os.chdir(project_path)\n",
                "  SAMPLE_DATASET = david.load_sampled_dataset()\n",
                "  os.chdir(cwd)\n",
                "\n",
                "traces = SAMPLE_DATASET[ONE_USER][ONE_VIDEO][:, 1:]\n",
                "\n",
                "# 3d plottin\n",
                "plot_3d_trace(traces, ONE_USER, ONE_VIDEO)\n",
                "\n",
                "# heat map\n",
                "heatmaps = []\n",
                "for i in traces:\n",
                "  heatmaps.append(\n",
                "      from_position_to_tile(eulerian_in_range(*cartesian_to_eulerian(i[0], i[1], i[2])), 6, 4))\n",
                "fig = px.imshow(np.sum(heatmaps, axis=0),\n",
                "                labels=dict(x=\"longitude\", y=\"latitude\", color=\"requests\"),\n",
                "                title=f\"{len(traces)}_traces (reqs={np.sum(heatmaps)})\")\n",
                "fig.update_layout(go.Layout(width=600))\n",
                "fig.show()\n"
            ]
        },
        {
            "cell_type": "code",
            "execution_count": null,
            "metadata": {},
            "outputs": [],
            "source": [
                "from users360 import *\n",
                "\n",
                "df = df if 'df' in locals() else get_df_trajects()\n",
                "row = df.query(f\"ds=='david' and ds_user=='david_0' and ds_video=='david_10_Cows'\")\n",
                "show_one_traject(one_row)"
            ]
        },
        {
            "attachments": {},
            "cell_type": "markdown",
            "metadata": {},
            "source": [
                "### users360"
            ]
        },
        {
            "cell_type": "code",
            "execution_count": null,
            "metadata": {},
            "outputs": [],
            "source": [
                "from users360 import *\n",
                "\n",
                "df = df if 'df' in locals() else get_df_trajects()\n",
                "display(df.head())"
            ]
        },
        {
            "cell_type": "code",
            "execution_count": null,
            "metadata": {},
            "outputs": [],
            "source": [
                "# sample traject row\n",
                "one_row = sample_traject_row(df)\n",
                "show_one_traject(one_row)"
            ]
        },
        {
            "cell_type": "code",
            "execution_count": null,
            "metadata": {},
            "outputs": [],
            "source": [
                "# show one trace\n",
                "trace = sample_one_trace_from_traject_row(one_row)\n",
                "show_fov(trace)"
            ]
        }
    ],
    "metadata": {
        "kernelspec": {
            "display_name": "hmp",
            "language": "python",
            "name": "python3"
        },
        "language_info": {
            "codemirror_mode": {
                "name": "ipython",
                "version": 3
            },
            "file_extension": ".py",
            "mimetype": "text/x-python",
            "name": "python",
            "nbconvert_exporter": "python",
            "pygments_lexer": "ipython3",
            "version": "3.9.13 | packaged by conda-forge | (main, May 27 2022, 16:51:29) [MSC v.1929 64 bit (AMD64)]"
        },
        "orig_nbformat": 4,
        "vscode": {
            "interpreter": {
                "hash": "ea6544aaef551fdd12081e7298f81c4f54bbe7a7cc50c71f781bbf256a799de8"
            }
        }
    },
    "nbformat": 4,
    "nbformat_minor": 2
}

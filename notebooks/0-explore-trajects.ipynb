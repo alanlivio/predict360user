{
 "cells": [
  {
   "cell_type": "markdown",
   "metadata": {},
   "source": [
    "### visualize trajects from Rondon head_motion_prediction"
   ]
  },
  {
   "cell_type": "code",
   "execution_count": 1,
   "metadata": {},
   "outputs": [
    {
     "ename": "ModuleNotFoundError",
     "evalue": "No module named 'numpy'",
     "output_type": "error",
     "traceback": [
      "\u001b[0;31m---------------------------------------------------------------------------\u001b[0m",
      "\u001b[0;31mModuleNotFoundError\u001b[0m                       Traceback (most recent call last)",
      "Cell \u001b[0;32mIn [1], line 12\u001b[0m\n\u001b[1;32m     10\u001b[0m project_path \u001b[39m=\u001b[39m \u001b[39mf\u001b[39m\u001b[39m\"\u001b[39m\u001b[39musers360/head_motion_prediction/\u001b[39m\u001b[39m\"\u001b[39m\n\u001b[1;32m     11\u001b[0m sys\u001b[39m.\u001b[39mpath\u001b[39m.\u001b[39mappend(project_path)\n\u001b[0;32m---> 12\u001b[0m \u001b[39mimport\u001b[39;00m \u001b[39musers360\u001b[39;00m\u001b[39m.\u001b[39;00m\u001b[39mhead_motion_prediction\u001b[39;00m\u001b[39m.\u001b[39;00m\u001b[39mDavid_MMSys_18\u001b[39;00m\u001b[39m.\u001b[39;00m\u001b[39mRead_Dataset\u001b[39;00m \u001b[39mas\u001b[39;00m \u001b[39mdavid\u001b[39;00m\n\u001b[1;32m     13\u001b[0m \u001b[39mfrom\u001b[39;00m \u001b[39musers360\u001b[39;00m\u001b[39m.\u001b[39;00m\u001b[39mhead_motion_prediction\u001b[39;00m\u001b[39m.\u001b[39;00m\u001b[39mUtils\u001b[39;00m \u001b[39mimport\u001b[39;00m \u001b[39m*\u001b[39m\n\u001b[1;32m     14\u001b[0m \u001b[39mprint\u001b[39m(\u001b[39mf\u001b[39m\u001b[39m\"\u001b[39m\u001b[39mget SAMPLE_DATASET from \u001b[39m\u001b[39m{\u001b[39;00mproject_path\u001b[39m}\u001b[39;00m\u001b[39m\"\u001b[39m)\n",
      "File \u001b[0;32m~/src/users360/users360/__init__.py:1\u001b[0m\n\u001b[0;32m----> 1\u001b[0m \u001b[39mfrom\u001b[39;00m \u001b[39m.\u001b[39;00m\u001b[39mdata\u001b[39;00m \u001b[39mimport\u001b[39;00m \u001b[39m*\u001b[39m\n\u001b[1;32m      2\u001b[0m \u001b[39mfrom\u001b[39;00m \u001b[39m.\u001b[39;00m\u001b[39mprocess_entropy\u001b[39;00m \u001b[39mimport\u001b[39;00m \u001b[39m*\u001b[39m\n\u001b[1;32m      3\u001b[0m \u001b[39mfrom\u001b[39;00m \u001b[39m.\u001b[39;00m\u001b[39mvisualize\u001b[39;00m \u001b[39mimport\u001b[39;00m \u001b[39m*\u001b[39m\n",
      "File \u001b[0;32m~/src/users360/users360/data.py:9\u001b[0m\n\u001b[1;32m      6\u001b[0m \u001b[39mimport\u001b[39;00m \u001b[39mpickle\u001b[39;00m\n\u001b[1;32m      7\u001b[0m \u001b[39mfrom\u001b[39;00m \u001b[39mos\u001b[39;00m\u001b[39m.\u001b[39;00m\u001b[39mpath\u001b[39;00m \u001b[39mimport\u001b[39;00m exists\n\u001b[0;32m----> 9\u001b[0m \u001b[39mimport\u001b[39;00m \u001b[39mnumpy\u001b[39;00m \u001b[39mas\u001b[39;00m \u001b[39mnp\u001b[39;00m\n\u001b[1;32m     10\u001b[0m \u001b[39mimport\u001b[39;00m \u001b[39mpandas\u001b[39;00m \u001b[39mas\u001b[39;00m \u001b[39mpd\u001b[39;00m\n\u001b[1;32m     12\u001b[0m DATADIR \u001b[39m=\u001b[39m \u001b[39mf\u001b[39m\u001b[39m\"\u001b[39m\u001b[39m{\u001b[39;00mpathlib\u001b[39m.\u001b[39mPath(\u001b[39m__file__\u001b[39m)\u001b[39m.\u001b[39mparent\u001b[39m.\u001b[39mparent \u001b[39m/\u001b[39m \u001b[39m'\u001b[39m\u001b[39mdata/\u001b[39m\u001b[39m'\u001b[39m\u001b[39m}\u001b[39;00m\u001b[39m\"\u001b[39m\n",
      "\u001b[0;31mModuleNotFoundError\u001b[0m: No module named 'numpy'"
     ]
    }
   ],
   "source": [
    "import os\n",
    "import sys\n",
    "\n",
    "ONE_USER = '0'\n",
    "ONE_VIDEO = '10_Cows'\n",
    "SAMPLE_DATASET = None\n",
    "\n",
    "if SAMPLE_DATASET is None:\n",
    "    cwd = os.getcwd()\n",
    "    project_path = f\"users360/head_motion_prediction/\"\n",
    "    sys.path.append(project_path)\n",
    "    import users360.head_motion_prediction.David_MMSys_18.Read_Dataset as david\n",
    "    from users360.head_motion_prediction.Utils import *\n",
    "    print(f\"get SAMPLE_DATASET from {project_path}\")\n",
    "    os.chdir(project_path)\n",
    "    SAMPLE_DATASET = david.load_sampled_dataset()\n",
    "    os.chdir(cwd)\n",
    "\n",
    "trajects = SAMPLE_DATASET[ONE_USER][ONE_VIDEO][:, 1:]\n",
    "\n",
    "from users360.head_motion_prediction.David_MMSys_18.Read_Dataset import \\\n",
    "    plot_3d_trace\n",
    "\n",
    "plot_3d_trace(trajects, ONE_USER, ONE_VIDEO)"
   ]
  },
  {
   "cell_type": "code",
   "execution_count": null,
   "metadata": {},
   "outputs": [],
   "source": [
    "import plotly.express as px\n",
    "import plotly.graph_objs as go\n",
    "\n",
    "\n",
    "def rondon_heatmap(traces):\n",
    "    heatmaps = []\n",
    "    for i in traces:\n",
    "        heatmaps.append(from_position_to_tile(eulerian_in_range(\n",
    "            *cartesian_to_eulerian(i[0], i[1], i[2])), 6, 4))\n",
    "    fig = px.imshow(np.sum(heatmaps, axis=0), labels=dict(\n",
    "        x=\"longitude\", y=\"latitude\", color=\"requests\"), title=f\"{len(traces)}_traces (reqs={np.sum(heatmaps)})\")\n",
    "    fig.update_layout(go.Layout(width=600))\n",
    "    fig.show()\n",
    "\n",
    "rondon_heatmap(trajects[:1]) # one trace\n",
    "rondon_heatmap(trajects) # all traces"
   ]
  },
  {
   "cell_type": "markdown",
   "metadata": {},
   "source": [
    "### visualize FOV using user360.show_fov()"
   ]
  },
  {
   "cell_type": "code",
   "execution_count": null,
   "metadata": {},
   "outputs": [],
   "source": [
    "from users360 import *\n",
    "\n",
    "show_fov(trace=[1., 0., 0.])\n",
    "show_fov(trace=[-1., 0., 0.])\n",
    "show_fov(trace=[0., 1., 0.])\n",
    "show_fov(trace=[0., -1., 0.])\n",
    "show_fov(trace=[0., 0., 1.])\n",
    "show_fov(trace=[0., 0., -1.])\n",
    "show_fov(get_one_trace())"
   ]
  },
  {
   "cell_type": "markdown",
   "metadata": {},
   "source": [
    "### user360.get_df_trajects()"
   ]
  },
  {
   "cell_type": "code",
   "execution_count": null,
   "metadata": {},
   "outputs": [],
   "source": [
    "from users360 import *\n",
    "\n",
    "df = get_df_trajects()\n",
    "display(df)"
   ]
  },
  {
   "cell_type": "code",
   "execution_count": 3,
   "metadata": {},
   "outputs": [
    {
     "name": "stderr",
     "output_type": "stream",
     "text": [
      "INFO:loading Data from c:\\Users\\alan\\src\\users360\\data\\Data.pickle\n"
     ]
    },
    {
     "data": {
      "text/plain": [
       "0    [[0.9953681038070946, 0.0050096442775475, -0.0...\n",
       "Name: traces, dtype: object"
      ]
     },
     "execution_count": 3,
     "metadata": {},
     "output_type": "execute_result"
    }
   ],
   "source": [
    "from users360 import *\n",
    "\n",
    "df = get_df_trajects()\n",
    "row = df.query(f\"ds=='David_MMSys_18' and ds_user=='0' and ds_video=='10_Cows'\")\n",
    "row['traces']\n"
   ]
  },
  {
   "cell_type": "markdown",
   "metadata": {},
   "source": [
    "### poles percentage"
   ]
  },
  {
   "cell_type": "code",
   "execution_count": null,
   "metadata": {},
   "outputs": [],
   "source": [
    "# from users360 import *\n",
    "# show_trajects_poles_prc()"
   ]
  },
  {
   "cell_type": "code",
   "execution_count": null,
   "metadata": {},
   "outputs": [],
   "source": [
    "# from users360 import *\n",
    "\n",
    "# df = get_df_trajects()\n",
    "# show_sphere_trajects(df[df['poles_class'] == 'low'][:1])\n",
    "# show_sphere_trajects(df[df['poles_class'] == 'medium'][:1])\n",
    "# show_sphere_trajects(df[df['poles_class'] == 'hight'][:1])\n"
   ]
  },
  {
   "cell_type": "markdown",
   "metadata": {},
   "source": [
    "### visualize trajects using user360.show_trajects()"
   ]
  },
  {
   "cell_type": "code",
   "execution_count": null,
   "metadata": {},
   "outputs": [],
   "source": [
    "from users360 import *\n",
    "\n",
    "show_trajects(get_df_trajects().head(1))"
   ]
  },
  {
   "cell_type": "code",
   "execution_count": null,
   "metadata": {},
   "outputs": [],
   "source": [
    "from users360 import *\n",
    "\n",
    "show_trajects(get_one_traject())"
   ]
  }
 ],
 "metadata": {
  "kernelspec": {
   "display_name": "hmp",
   "language": "python",
   "name": "python3"
  },
  "language_info": {
   "codemirror_mode": {
    "name": "ipython",
    "version": 3
   },
   "file_extension": ".py",
   "mimetype": "text/x-python",
   "name": "python",
   "nbconvert_exporter": "python",
   "pygments_lexer": "ipython3",
   "version": "3.9.13"
  },
  "orig_nbformat": 4,
  "vscode": {
   "interpreter": {
    "hash": "ea6544aaef551fdd12081e7298f81c4f54bbe7a7cc50c71f781bbf256a799de8"
   }
  }
 },
 "nbformat": 4,
 "nbformat_minor": 2
}

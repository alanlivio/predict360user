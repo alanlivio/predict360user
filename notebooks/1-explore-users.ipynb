{
 "cells": [
  {
   "cell_type": "markdown",
   "metadata": {},
   "source": [
    "### Users entropy"
   ]
  },
  {
   "cell_type": "code",
   "execution_count": null,
   "metadata": {},
   "outputs": [],
   "source": [
    "from users360 import *\n",
    "calc_trajects_entropy()\n",
    "show_trajects_entropy()\n",
    "show_trajects_entropy_users()"
   ]
  },
  {
   "cell_type": "code",
   "execution_count": null,
   "metadata": {},
   "outputs": [],
   "source": [
    "# from users360 import *\n",
    "# Data.singleton().save()"
   ]
  },
  {
   "cell_type": "code",
   "execution_count": null,
   "metadata": {},
   "outputs": [],
   "source": [
    "from users360 import *\n",
    "df = Data.singleton().df_trajects\n",
    "show_sphere_trajects(df[df['entropy'] == df['entropy'].min()])\n",
    "show_sphere_trajects(df[df['entropy'] == df['entropy'].max()])"
   ]
  },
  {
   "cell_type": "code",
   "execution_count": null,
   "metadata": {},
   "outputs": [],
   "source": [
    "from users360 import *\n",
    "df = Data.singleton().df_trajects\n",
    "\n",
    "show_sphere_trajects(df[df['entropy_class'] == 'low'].nsmallest(3,'entropy')[0:1])\n",
    "show_sphere_trajects(df[df['entropy_class'] == 'low'].nsmallest(3,'entropy')[2:3])\n",
    "\n",
    "show_sphere_trajects(df[df['entropy_class'] == 'medium'].nsmallest(3,'entropy')[0:1])\n",
    "show_sphere_trajects(df[df['entropy_class'] == 'medium'].nsmallest(3,'entropy')[2:3])\n",
    "\n",
    "show_sphere_trajects(df[df['entropy_class'] == 'hight'].nlargest(3,'entropy')[0:1])\n",
    "show_sphere_trajects(df[df['entropy_class'] == 'hight'].nlargest(3,'entropy')[2:3])"
   ]
  }
 ],
 "metadata": {
  "kernelspec": {
   "display_name": "Python 3.9.7 64-bit",
   "language": "python",
   "name": "python3"
  },
  "language_info": {
   "codemirror_mode": {
    "name": "ipython",
    "version": 3
   },
   "file_extension": ".py",
   "mimetype": "text/x-python",
   "name": "python",
   "nbconvert_exporter": "python",
   "pygments_lexer": "ipython3",
   "version": "3.9.7"
  },
  "orig_nbformat": 4,
  "vscode": {
   "interpreter": {
    "hash": "9a1805ac39bfafe6fff94757f745199f0ad7d5102956d3c1b54de54debb39d41"
   }
  }
 },
 "nbformat": 4,
 "nbformat_minor": 2
}

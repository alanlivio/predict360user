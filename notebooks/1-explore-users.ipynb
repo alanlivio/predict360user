{
 "cells": [
  {
   "cell_type": "markdown",
   "metadata": {},
   "source": [
    "### Users entropy"
   ]
  },
  {
   "cell_type": "code",
   "execution_count": null,
   "metadata": {},
   "outputs": [],
   "source": [
    "from users360 import *\n",
    "calc_trajects_entropy()\n",
    "show_trajects_entropy()\n",
    "show_trajects_entropy_users()"
   ]
  },
  {
   "cell_type": "code",
   "execution_count": null,
   "metadata": {},
   "outputs": [],
   "source": [
    "# from users360 import *\n",
    "# Data.singleton().save()"
   ]
  },
  {
   "cell_type": "code",
   "execution_count": null,
   "metadata": {},
   "outputs": [],
   "source": [
    "from users360 import *\n",
    "df = Data.singleton().df_trajects\n",
    "show_sphere_trajects(df[df['entropy_class'] == 'low'][:2])\n",
    "show_sphere_trajects(df[df['entropy_class'] == 'medium'][:2])\n",
    "show_sphere_trajects(df[df['entropy_class'] == 'hight'][:2])"
   ]
  }
 ],
 "metadata": {
  "kernelspec": {
   "display_name": "Python 3.10.4 64-bit",
   "language": "python",
   "name": "python3"
  },
  "language_info": {
   "codemirror_mode": {
    "name": "ipython",
    "version": 3
   },
   "file_extension": ".py",
   "mimetype": "text/x-python",
   "name": "python",
   "nbconvert_exporter": "python",
   "pygments_lexer": "ipython3",
   "version": "3.10.6"
  },
  "orig_nbformat": 4,
  "vscode": {
   "interpreter": {
    "hash": "8a8db932e496ef3cb7bc969a83d17611f35da7f3fd716831d613d84569e054b4"
   }
  }
 },
 "nbformat": 4,
 "nbformat_minor": 2
}

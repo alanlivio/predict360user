{
 "cells": [
  {
   "cell_type": "markdown",
   "metadata": {},
   "source": [
    "### Users entropy"
   ]
  },
  {
   "cell_type": "code",
   "execution_count": null,
   "metadata": {},
   "outputs": [],
   "source": [
    "from users360 import *\n",
    "\n",
    "calc_trajects_entropy()\n",
    "show_trajects_entropy()\n",
    "show_trajects_entropy_users()"
   ]
  },
  {
   "cell_type": "code",
   "execution_count": null,
   "metadata": {},
   "outputs": [],
   "source": [
    "# from users360 import *\n",
    "# Data.singleton().save()"
   ]
  },
  {
   "cell_type": "code",
   "execution_count": null,
   "metadata": {},
   "outputs": [],
   "source": [
    "from users360 import *\n",
    "\n",
    "df = get_df_trajects()\n",
    "show_sphere_trajects(df[df['entropy'] == df['entropy'].min()])\n",
    "show_sphere_trajects(df[df['entropy'] == df['entropy'].max()])"
   ]
  },
  {
   "cell_type": "code",
   "execution_count": null,
   "metadata": {},
   "outputs": [],
   "source": [
    "from users360 import *\n",
    "\n",
    "df = get_df_trajects()\n",
    "\n",
    "show_sphere_trajects(df[df['entropy_class'] == 'low'].nsmallest(3,'entropy')[0:1])\n",
    "show_sphere_trajects(df[df['entropy_class'] == 'low'].nsmallest(3,'entropy')[2:3])\n",
    "\n",
    "show_sphere_trajects(df[df['entropy_class'] == 'medium'].nsmallest(3,'entropy')[0:1])\n",
    "show_sphere_trajects(df[df['entropy_class'] == 'medium'].nsmallest(3,'entropy')[2:3])\n",
    "\n",
    "show_sphere_trajects(df[df['entropy_class'] == 'hight'].nlargest(3,'entropy')[0:1])\n",
    "show_sphere_trajects(df[df['entropy_class'] == 'hight'].nlargest(3,'entropy')[2:3])"
   ]
  }
 ],
 "metadata": {
  "kernelspec": {
   "display_name": "hmp",
   "language": "python",
   "name": "python3"
  },
  "language_info": {
   "codemirror_mode": {
    "name": "ipython",
    "version": 3
   },
   "file_extension": ".py",
   "mimetype": "text/x-python",
   "name": "python",
   "nbconvert_exporter": "python",
   "pygments_lexer": "ipython3",
   "version": "3.9.13 | packaged by conda-forge | (main, May 27 2022, 16:51:29) [MSC v.1929 64 bit (AMD64)]"
  },
  "orig_nbformat": 4,
  "vscode": {
   "interpreter": {
    "hash": "ea6544aaef551fdd12081e7298f81c4f54bbe7a7cc50c71f781bbf256a799de8"
   }
  }
 },
 "nbformat": 4,
 "nbformat_minor": 2
}

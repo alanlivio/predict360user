{
 "cells": [
  {
   "attachments": {},
   "cell_type": "markdown",
   "metadata": {},
   "source": [
    "### Trainer"
   ]
  },
  {
   "cell_type": "code",
   "execution_count": null,
   "metadata": {},
   "outputs": [],
   "source": [
    "from users360 import *\n",
    "ds = ds if 'ds' in locals() else Dataset()\n",
    "# ds.dump()"
   ]
  },
  {
   "cell_type": "code",
   "execution_count": null,
   "metadata": {},
   "outputs": [],
   "source": [
    "from users360 import *\n",
    "\n",
    "# trn = Trainer(dry_run=True, train_entropy='all')\n",
    "trn = Trainer(dry_run=True, train_entropy='nohight_hmp')\n",
    "# trn = Trainer(dry_run=True, train_entropy='hight', test_entropy='hight')\n",
    "# trn = Trainer(dry_run=True, train_entropy='hight_hmp', test_entropy='hight_hmp')\n",
    "trn.train()\n",
    "trn.evaluate()\n"
   ]
  },
  {
   "attachments": {},
   "cell_type": "markdown",
   "metadata": {},
   "source": [
    "### show_train_test_split"
   ]
  },
  {
   "cell_type": "code",
   "execution_count": null,
   "metadata": {},
   "outputs": [],
   "source": [
    "from IPython.display import Markdown\n",
    "\n",
    "args={'entropy':'all', 'test_entropy':'all', 'perc_test':0.2}\n",
    "display(Markdown(f'### {args}'))\n",
    "show_train_test_split(ds.df, **args)\n",
    "\n",
    "# args={'train_entropy':'low', 'test_entropy':'low', 'perc_test':0.2}\n",
    "# display(Markdown(f'### {args}'))\n",
    "# show_train_test_split(ds.df, **args)\n",
    "\n",
    "# args={'train_entropy':'medium', 'test_entropy':'medium', 'perc_test':0.2}\n",
    "# display(Markdown(f'### {args}'))\n",
    "# show_train_test_split(ds.df, **args)\n",
    "\n",
    "# args={'train_entropy':'hight', 'test_entropy':'hight', 'perc_test':0.2}\n",
    "# display(Markdown(f'### {args}'))\n",
    "# show_train_test_split(ds.df, **args)\n"
   ]
  },
  {
   "attachments": {},
   "cell_type": "markdown",
   "metadata": {},
   "source": [
    "### VizSphere.add_predictions"
   ]
  },
  {
   "cell_type": "code",
   "execution_count": null,
   "metadata": {},
   "outputs": [],
   "source": [
    "# Case \"most low with low\"\n",
    "one_row_low = ds.df[ds.df['actS_c'] == 'low'].nsmallest(1,'actS')\n",
    "# print(one_row_low)\n",
    "# xupami_fanchao_m1_22 xupami_Predator\n",
    "# comeback at 36\n",
    "sphere = VizSphere()\n",
    "sphere.add_trajectory(one_row_low['traject'].iloc[0])\n",
    "sphere.add_predictions(one_row_low['pos_only_low_entropy'].iloc[0])\n",
    "sphere.show()"
   ]
  },
  {
   "cell_type": "code",
   "execution_count": null,
   "metadata": {},
   "outputs": [],
   "source": [
    "# Case \"most low with low\"\n",
    "# ds.df = get_ds.df_trajects()\n",
    "one_row_low = ds.df[ds.df['actS_c'] == 'low'].nsmallest(1,'actS')\n",
    "# print(one_row_low)\n",
    "# xupami_fanchao_m1_22 xupami_Predator\n",
    "# comeback at 36\n",
    "sphere = VizSphere()\n",
    "sphere.add_trajectory(one_row_low['traject'].iloc[0])\n",
    "sphere.add_predictions(one_row_low['pos_only'].iloc[0])\n",
    "sphere.show()"
   ]
  },
  {
   "cell_type": "code",
   "execution_count": null,
   "metadata": {},
   "outputs": [],
   "source": [
    "# Case \"most medium with medium\"\n",
    "# ds.df = get_ds.df_trajects()\n",
    "one_row_medium = ds.df[ds.df['actS_c'] == 'medium'].nsmallest(1,'actS')\n",
    "# david_1\tdavid_6_DroneFlight\n",
    "# display(one_row_medium)\n",
    "# comeback at 36\n",
    "sphere = VizSphere()\n",
    "sphere.add_trajectory(one_row_medium['traject'].iloc[0])\n",
    "sphere.add_predictions(one_row_medium['pos_only_medium_entropy'].iloc[0])\n",
    "sphere.show()\n"
   ]
  },
  {
   "cell_type": "code",
   "execution_count": null,
   "metadata": {},
   "outputs": [],
   "source": [
    "# Case \"most medium with all\"\n",
    "ds.df = get_ds.df_trajects()\n",
    "one_row_medium = ds.df[ds.df['actS_c'] == 'medium'].nsmallest(1,'actS')\n",
    "# david_1\tdavid_6_DroneFlight\n",
    "# comeback 36\n",
    "sphere = VizSphere()\n",
    "sphere.add_trajectory(one_row_medium['traject'].iloc[0])\n",
    "sphere.add_predictions(one_row_medium['pos_only'].iloc[0])\n",
    "sphere.show()"
   ]
  },
  {
   "cell_type": "code",
   "execution_count": null,
   "metadata": {},
   "outputs": [],
   "source": [
    "# Case \"most hight with hight\"\n",
    "# ds.df = get_ds.df_trajects()\n",
    "one_row_hight = ds.df[ds.df['actS_c'] == 'hight'].nlargest(1,'actS')\n",
    "# xucvpr_p038  xucvpr_155\n",
    "# print(one_row_hight)\n",
    "sphere = VizSphere()\n",
    "sphere.add_trajectory(one_row_hight['traject'].iloc[0])\n",
    "sphere.add_predictions(one_row_hight['pos_only_hight_entropy'].iloc[0])\n",
    "sphere.show()\n"
   ]
  },
  {
   "cell_type": "code",
   "execution_count": null,
   "metadata": {},
   "outputs": [],
   "source": [
    "# Case \"most hight with all\n",
    "ds.df = get_ds.df_trajects()\n",
    "one_row_hight = ds.df[ds.df['actS_c'] == 'hight'].nlargest(1,'actS')\n",
    "# xucvpr_p038  xucvpr_155\n",
    "# coming back 38, 40\n",
    "sphere = VizSphere()\n",
    "sphere.add_trajectory(one_row_medium['traject'].iloc[0])\n",
    "sphere.add_predictions(one_row_medium['pos_only'].iloc[0])\n",
    "sphere.show()"
   ]
  },
  {
   "cell_type": "code",
   "execution_count": null,
   "metadata": {},
   "outputs": [],
   "source": [
    "# Case turn Around\n",
    "# ds.df = get_ds.df_trajects()\n",
    "# 24 coming back\n",
    "# 26 coming back and lost\n",
    "one_turne_around = ds.df.query(f\"ds=='david' and user=='david_0' and video=='david_10_Cows'\")\n",
    "sphere = VizSphere()\n",
    "sphere.add_trajectory(one_turne_around['traject'].iloc[0])\n",
    "sphere.add_predictions(one_turne_around['pos_only'].iloc[0])\n",
    "sphere.show()"
   ]
  }
 ],
 "metadata": {
  "kernelspec": {
   "display_name": "Python 3.9.13 ('hmp')",
   "language": "python",
   "name": "python3"
  },
  "language_info": {
   "codemirror_mode": {
    "name": "ipython",
    "version": 3
   },
   "file_extension": ".py",
   "mimetype": "text/x-python",
   "name": "python",
   "nbconvert_exporter": "python",
   "pygments_lexer": "ipython3",
   "version": "3.9.13"
  },
  "orig_nbformat": 4,
  "vscode": {
   "interpreter": {
    "hash": "ea6544aaef551fdd12081e7298f81c4f54bbe7a7cc50c71f781bbf256a799de8"
   }
  }
 },
 "nbformat": 4,
 "nbformat_minor": 2
}

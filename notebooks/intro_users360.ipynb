{
    "cells": [
        {
            "attachments": {},
            "cell_type": "markdown",
            "metadata": {},
            "source": [
                "### users360 trajectory"
            ]
        },
        {
            "cell_type": "code",
            "execution_count": null,
            "metadata": {},
            "outputs": [],
            "source": [
                "from users360 import *\n",
                "\n",
                "df = df if 'df' in locals() else get_df_trajects()\n",
                "display(df.head())"
            ]
        },
        {
            "cell_type": "code",
            "execution_count": null,
            "metadata": {},
            "outputs": [],
            "source": [
                "# sample traject row\n",
                "one_row = sample_traject_row(df)\n",
                "show_one_traject(one_row)"
            ]
        },
        {
            "cell_type": "code",
            "execution_count": null,
            "metadata": {},
            "outputs": [],
            "source": [
                "from users360 import *\n",
                "\n",
                "df = df if 'df' in locals() else get_df_trajects()\n",
                "row = df.query(f\"ds=='david' and user=='david_0' and video=='david_10_Cows'\")\n",
                "show_one_traject(one_row)"
            ]
        },
        {
            "cell_type": "code",
            "execution_count": null,
            "metadata": {},
            "outputs": [],
            "source": [
                "# show one trace\n",
                "trace = sample_one_trace_from_traject_row(one_row)\n",
                "show_fov(trace)"
            ]
        },
        {
            "attachments": {},
            "cell_type": "markdown",
            "metadata": {},
            "source": [
                "### users360 entropy"
            ]
        },
        {
            "cell_type": "code",
            "execution_count": null,
            "metadata": {},
            "outputs": [],
            "source": [
                "# calculate traject_entropy_class\n",
                "if not 'traject_entropy_class' in df.columns:\n",
                "  calc_trajects_entropy(df)\n",
                "show_trajects_entropy(df)\n",
                "# show_trajects_entropy(df, facet='ds')"
            ]
        },
        {
            "cell_type": "code",
            "execution_count": null,
            "metadata": {},
            "outputs": [],
            "source": [
                "# show representive trajectory for each entropy class\n",
                "show_one_traject(df[df['traject_entropy_class'] == 'low'].nsmallest(1,'traject_entropy'))\n",
                "show_one_traject(df[df['traject_entropy_class'] == 'medium'].nsmallest(1,'traject_entropy'))\n",
                "show_one_traject(df[df['traject_entropy_class'] == 'hight'].nlargest(1,'traject_entropy'))"
            ]
        },
        {
            "cell_type": "code",
            "execution_count": null,
            "metadata": {},
            "outputs": [],
            "source": [
                "# calculate poles_class\n",
                "if not 'poles_class' in df.columns:\n",
                "  calc_trajects_poles_prc(df)\n",
                "show_trajects_poles_prc(df)\n",
                "# display(df['poles_prc'].hist())"
            ]
        },
        {
            "cell_type": "code",
            "execution_count": null,
            "metadata": {},
            "outputs": [],
            "source": [
                "# show representive trajectory for each poles class\n",
                "show_one_traject(df[df['poles_class'] == 'low'][:1])\n",
                "show_one_traject(df[df['poles_class'] == 'medium'][:1])\n",
                "show_one_traject(df[df['poles_class'] == 'hight'][:1])"
            ]
        },
        {
            "cell_type": "code",
            "execution_count": null,
            "metadata": {},
            "outputs": [],
            "source": [
                "# calculate hmp_entropy_class\n",
                "if not 'hmp_entropy_class' in df.columns:\n",
                "  calc_trajects_hmp_entropy(df)\n",
                "display(df['hmp_entropy_class'])"
            ]
        },
        {
            "attachments": {},
            "cell_type": "markdown",
            "metadata": {},
            "source": [
                "### users360 tileset metrics"
            ]
        },
        {
            "cell_type": "code",
            "execution_count": null,
            "metadata": {},
            "outputs": [],
            "source": [
                "from users360 import *\n",
                "\n",
                "# show tile covering for cardinal points\n",
                "look_north_pole = [0.0, 0.0, 1.0]\n",
                "look_south_pole = [0.0, 0.0, -1.0]\n",
                "look_left = [0.0, -1.0, 0.0]\n",
                "look_right = [0.0, 1.0, 0.0]\n",
                "look_ahead = [1.0, 0.0, 0.0]\n",
                "look_behind = [-1.0, 0.0, 0.0]\n",
                "show_fov(look_north_pole)\n",
                "show_fov(look_south_pole)\n",
                "show_fov(look_left)\n",
                "show_fov(look_right)\n",
                "show_fov(look_ahead)\n",
                "show_fov(look_behind)\n"
            ]
        },
        {
            "cell_type": "code",
            "execution_count": null,
            "metadata": {},
            "outputs": [],
            "source": [
                "from users360 import *\n",
                "\n",
                "df = df if 'df' in locals() else get_df_trajects()\n",
                "df = df[:2]\n"
            ]
        },
        {
            "cell_type": "code",
            "execution_count": null,
            "metadata": {},
            "outputs": [],
            "source": [
                "tileset_variations = [\n",
                "    TileSet(3, 3, TileCover.ANY), \n",
                "    TileSetVoro(14, TileCover.ANY)\n",
                "]\n",
                "calc_tileset_reqs_metrics(df, tileset_variations)\n"
            ]
        },
        {
            "cell_type": "code",
            "execution_count": null,
            "metadata": {},
            "outputs": [],
            "source": [
                "show_tileset_reqs_metrics(df)"
            ]
        }
    ],
    "metadata": {
        "kernelspec": {
            "display_name": "hmp",
            "language": "python",
            "name": "python3"
        },
        "language_info": {
            "codemirror_mode": {
                "name": "ipython",
                "version": 3
            },
            "file_extension": ".py",
            "mimetype": "text/x-python",
            "name": "python",
            "nbconvert_exporter": "python",
            "pygments_lexer": "ipython3",
            "version": "3.9.13 | packaged by conda-forge | (main, May 27 2022, 16:51:29) [MSC v.1929 64 bit (AMD64)]"
        },
        "orig_nbformat": 4,
        "vscode": {
            "interpreter": {
                "hash": "ea6544aaef551fdd12081e7298f81c4f54bbe7a7cc50c71f781bbf256a799de8"
            }
        }
    },
    "nbformat": 4,
    "nbformat_minor": 2
}

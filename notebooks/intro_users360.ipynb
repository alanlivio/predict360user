{
    "cells": [
        {
            "attachments": {},
            "cell_type": "markdown",
            "metadata": {},
            "source": [
                "### users360 trajectory"
            ]
        },
        {
            "cell_type": "code",
            "execution_count": null,
            "metadata": {},
            "outputs": [],
            "source": [
                "from users360 import *\n",
                "\n",
                "ds = ds if 'ds' in locals() else Dataset()\n",
                "display(ds.df.head())"
            ]
        },
        {
            "cell_type": "code",
            "execution_count": null,
            "metadata": {},
            "outputs": [],
            "source": [
                "# show random traject \n",
                "traject = ds.random_traject()\n",
                "show_one_traject(traject)"
            ]
        },
        {
            "cell_type": "code",
            "execution_count": null,
            "metadata": {},
            "outputs": [],
            "source": [
                "# select one traject\n",
                "traject = ds.df.query(f\"ds=='david' and user=='david_0' and video=='david_10_Cows'\")\n",
                "show_one_traject(traject)"
            ]
        },
        {
            "cell_type": "code",
            "execution_count": null,
            "metadata": {},
            "outputs": [],
            "source": [
                "# show one trace\n",
                "trace = ds.random_trace(one_row)\n",
                "show_fov(trace)"
            ]
        },
        {
            "attachments": {},
            "cell_type": "markdown",
            "metadata": {},
            "source": [
                "### users360 entropy"
            ]
        },
        {
            "cell_type": "code",
            "execution_count": null,
            "metadata": {},
            "outputs": [],
            "source": [
                "# calculate actS_c\n",
                "if not 'actS_c' in ds.df.columns:\n",
                "  calc_trajects_entropy(ds.df)\n",
                "show_trajects_entropy(ds.df)\n",
                "# show_trajects_entropy(df, facet='ds')"
            ]
        },
        {
            "cell_type": "code",
            "execution_count": null,
            "metadata": {},
            "outputs": [],
            "source": [
                "# show representive trajectory for each entropy class\n",
                "show_one_traject(ds.df[ds.df['actS_c'] == 'low'].nsmallest(1,'actS'))\n",
                "show_one_traject(ds.df[ds.df['actS_c'] == 'medium'].nsmallest(1,'actS'))\n",
                "show_one_traject(ds.df[ds.df['actS_c'] == 'hight'].nlargest(1,'actS'))"
            ]
        },
        {
            "cell_type": "code",
            "execution_count": null,
            "metadata": {},
            "outputs": [],
            "source": [
                "# calculate poles_class\n",
                "if not 'poles_class' in ds.df.columns:\n",
                "  calc_trajects_poles_prc(ds.df)\n",
                "show_trajects_poles_prc(ds.df)\n",
                "# display(ds.df['poles_prc'].hist())"
            ]
        },
        {
            "cell_type": "code",
            "execution_count": null,
            "metadata": {},
            "outputs": [],
            "source": [
                "# show representive trajectory for each poles class\n",
                "show_one_traject(df[df['poles_class'] == 'low'][:1])\n",
                "show_one_traject(df[df['poles_class'] == 'medium'][:1])\n",
                "show_one_traject(df[df['poles_class'] == 'hight'][:1])"
            ]
        },
        {
            "cell_type": "code",
            "execution_count": null,
            "metadata": {},
            "outputs": [],
            "source": [
                "# calculate hmpS_c\n",
                "if not 'hmpS_c' in ds.df.columns:\n",
                "  calc_trajects_hmp_entropy(ds.df)\n",
                "display(ds.df['hmpS_c'])"
            ]
        },
        {
            "attachments": {},
            "cell_type": "markdown",
            "metadata": {},
            "source": [
                "### users360 tileset metrics"
            ]
        },
        {
            "cell_type": "code",
            "execution_count": null,
            "metadata": {},
            "outputs": [],
            "source": [
                "# show tile covering for cardinal points\n",
                "look_north_pole = [0.0, 0.0, 1.0]\n",
                "look_south_pole = [0.0, 0.0, -1.0]\n",
                "look_left = [0.0, -1.0, 0.0]\n",
                "look_right = [0.0, 1.0, 0.0]\n",
                "look_ahead = [1.0, 0.0, 0.0]\n",
                "look_behind = [-1.0, 0.0, 0.0]\n",
                "show_fov(look_north_pole)\n",
                "show_fov(look_south_pole)\n",
                "show_fov(look_left)\n",
                "show_fov(look_right)\n",
                "show_fov(look_ahead)\n",
                "show_fov(look_behind)\n"
            ]
        },
        {
            "cell_type": "code",
            "execution_count": null,
            "metadata": {},
            "outputs": [],
            "source": [
                "tileset_variations = [\n",
                "    TileSet(3, 3, TileCover.ANY), \n",
                "    TileSetVoro(14, TileCover.ANY)\n",
                "]\n",
                "calc_tileset_reqs_metrics(ds.df[:2], tileset_variations)\n"
            ]
        },
        {
            "cell_type": "code",
            "execution_count": null,
            "metadata": {},
            "outputs": [],
            "source": [
                "show_tileset_reqs_metrics(ds.df[:2])"
            ]
        }
    ],
    "metadata": {
        "kernelspec": {
            "display_name": "hmp",
            "language": "python",
            "name": "python3"
        },
        "language_info": {
            "codemirror_mode": {
                "name": "ipython",
                "version": 3
            },
            "file_extension": ".py",
            "mimetype": "text/x-python",
            "name": "python",
            "nbconvert_exporter": "python",
            "pygments_lexer": "ipython3",
            "version": "3.9.13"
        },
        "orig_nbformat": 4,
        "vscode": {
            "interpreter": {
                "hash": "ea6544aaef551fdd12081e7298f81c4f54bbe7a7cc50c71f781bbf256a799de8"
            }
        }
    },
    "nbformat": 4,
    "nbformat_minor": 2
}

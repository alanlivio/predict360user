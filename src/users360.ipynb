{
 "cells": [
  {
   "cell_type": "code",
   "execution_count": null,
   "metadata": {},
   "outputs": [],
   "source": [
    "# -- users360.Plot.sphere_*\n",
    "from users360 import *\n",
    "one_user = Plot(Dataset().get_traces_one_video_one_user(), title_sufix=\"(one_video_one_user)\")\n",
    "all_users = Plot(Dataset().get_traces_one_video_all_users(), title_sufix=\"(one_video_all_users)\")\n",
    "one_trace = Plot(Dataset().get_one_trace())\n",
    "\n",
    "one_user.sphere_voro(VORONOI_14P)\n",
    "one_user.sphere_voro(VORONOI_24P)\n",
    "one_user.sphere_rect(6, 4)\n",
    "\n",
    "all_users.sphere_voro(VORONOI_24P)\n",
    "all_users.sphere_rect(6, 4)"
   ]
  },
  {
   "cell_type": "code",
   "execution_count": null,
   "metadata": {},
   "outputs": [],
   "source": [
    "# -- users360.Plot.sphere_*_with_vp\n",
    "from users360 import *\n",
    "dataset = Dataset()\n",
    "plot = Plot(dataset.get_one_trace())\n",
    "trace = dataset.get_one_trace()[0]\n",
    "for vpextract in VPEXTRACT_METHODS:\n",
    "    if isinstance(vpextract, VPExtractTilesRect):\n",
    "        plot.sphere_rect_with_vp(vpextract)\n",
    "    elif isinstance(vpextract, VPExtractTilesVoro):\n",
    "        plot.sphere_voro_with_vp(vpextract)\n"
   ]
  },
  {
   "cell_type": "code",
   "execution_count": null,
   "metadata": {},
   "outputs": [],
   "source": [
    "\n",
    "# -- users360.Plot.metrics_vpextract\n",
    "from users360 import *\n",
    "some_users = Plot(Dataset().get_traces_random_one_user(200))\n",
    "some_users.metrics_vpextract(VPEXTRACT_METHODS, plot_traces=False, plot_heatmaps=True)\n"
   ]
  },
  {
   "cell_type": "code",
   "execution_count": 2,
   "metadata": {},
   "outputs": [
    {
     "data": {
      "text/plain": [
       "array([2.33616592, 2.26172724, 2.6264686 , 2.68194711, 2.18511497,\n",
       "       2.66398304, 2.43924665, 2.56556873, 2.36826695, 2.72650379,\n",
       "       2.54168711, 2.36355152, 2.58158197, 2.45111959, 2.21666189,\n",
       "       2.79221227, 2.73408509, 2.66869489, 2.64790417, 2.36348584,\n",
       "       2.75256855, 2.26693958, 2.63049797, 2.04768605, 2.56975607,\n",
       "       2.8071829 , 2.38775486, 2.76394179, 2.72348297, 2.1458585 ,\n",
       "       2.06323141, 2.47862586, 2.70607154, 2.71732333, 2.90351367,\n",
       "       2.71466707, 2.22515934, 2.9578979 , 2.32580904, 2.59408186,\n",
       "       2.34482013, 2.79552392, 2.36798911, 2.537588  , 2.06552724,\n",
       "       2.93908683, 2.83846791, 2.77411483, 2.63555973, 2.3864853 ,\n",
       "       2.73044864, 2.66773107, 2.54328398, 2.52827929, 2.32463534,\n",
       "       2.39989767, 2.86393064])"
      ]
     },
     "execution_count": 2,
     "metadata": {},
     "output_type": "execute_result"
    }
   ],
   "source": [
    "# -- users360.Dataset.get_cluster_entropy_by_vpextract\n",
    "from users360 import *\n",
    "Dataset().get_cluster_entropy_by_vpextract(VPEXTRACTS_RECT[0])"
   ]
  }
 ],
 "metadata": {
  "interpreter": {
   "hash": "bed9add7eda959bf6c8d12b02d45384ee68438564591465b81a62df10a32b7de"
  },
  "kernelspec": {
   "display_name": "Python 3.9.7 64-bit",
   "language": "python",
   "name": "python3"
  },
  "language_info": {
   "codemirror_mode": {
    "name": "ipython",
    "version": 3
   },
   "file_extension": ".py",
   "mimetype": "text/x-python",
   "name": "python",
   "nbconvert_exporter": "python",
   "pygments_lexer": "ipython3",
   "version": "3.10.2"
  },
  "orig_nbformat": 4
 },
 "nbformat": 4,
 "nbformat_minor": 2
}

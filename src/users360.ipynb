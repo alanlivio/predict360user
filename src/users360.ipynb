{
 "cells": [
  {
   "cell_type": "code",
   "execution_count": null,
   "metadata": {},
   "outputs": [],
   "source": [
    "# -- users360.Plot.sphere_*\n",
    "from users360 import *\n",
    "dataset = Dataset()\n",
    "one_user = Plot(dataset.get_traces_one_video_one_user())\n",
    "all_users = Plot(dataset.get_traces_one_video_all_users())\n",
    "one_trace = Plot(dataset.get_one_trace())\n",
    "some_users = Plot(dataset.get_traces_random_one_user(4))\n"
   ]
  },
  {
   "cell_type": "code",
   "execution_count": null,
   "metadata": {},
   "outputs": [],
   "source": [
    "one_user.sphere(VPEXTRACT_RECT_6_4_CENTER)\n",
    "one_user.sphere(VPEXTRACT_VORO_14_CENTER)\n",
    "all_users.sphere(VPEXTRACT_RECT_6_4_CENTER)\n",
    "all_users.sphere(VPEXTRACT_VORO_14_CENTER)"
   ]
  },
  {
   "cell_type": "code",
   "execution_count": null,
   "metadata": {},
   "outputs": [],
   "source": [
    "for vpextract in VPEXTRACT_METHODS:\n",
    "    one_trace.sphere_show_one_trace_vp(vpextract)\n"
   ]
  },
  {
   "cell_type": "code",
   "execution_count": null,
   "metadata": {},
   "outputs": [],
   "source": [
    "some_users.metrics_vpextract(VPEXTRACT_METHODS, plot_traces=False, plot_heatmaps=True)"
   ]
  },
  {
   "cell_type": "code",
   "execution_count": null,
   "metadata": {},
   "outputs": [],
   "source": [
    "# -- users360.Dataset.get_users_entropy\n",
    "from users360 import *\n",
    "entropy = Dataset().get_users_entropy(VPEXTRACT_VORO_14_CENTER)\n",
    "px.scatter(y=entropy, labels={\"y\":\"entropy\"}).show()\n",
    "go.Figure(data=[go.Histogram(x=entropy)]).show()\n",
    "entropy = Dataset().get_users_entropy(VPEXTRACT_RECT_6_4_CENTER)\n",
    "px.scatter(y=entropy, labels={\"y\":\"entropy\"}).show()\n",
    "go.Figure(data=[go.Histogram(x=entropy)]).show()\n",
    "entropy = Dataset().get_users_entropy(VPEXTRACT_RECT_8_6_CENTER)\n",
    "px.scatter(y=entropy, labels={\"y\":\"entropy\"}).show()\n",
    "go.Figure(data=[go.Histogram(x=entropy)]).show()"
   ]
  },
  {
   "cell_type": "code",
   "execution_count": null,
   "metadata": {},
   "outputs": [],
   "source": [
    "# plot one vp at pole\n",
    "from users360 import *\n",
    "one_give_trace = Plot(dataset.get_traces_one_video_one_user(user='29'))\n",
    "one_give_trace.sphere_show_one_trace_vp(VPEXTRACT_VORO_14_CENTER, trace=[0.5624332, 0.4141108, -0.687445454], to_html=False)"
   ]
  }
 ],
 "metadata": {
  "interpreter": {
   "hash": "bed9add7eda959bf6c8d12b02d45384ee68438564591465b81a62df10a32b7de"
  },
  "kernelspec": {
   "display_name": "Python 3.9.7 64-bit",
   "language": "python",
   "name": "python3"
  },
  "language_info": {
   "codemirror_mode": {
    "name": "ipython",
    "version": 3
   },
   "file_extension": ".py",
   "mimetype": "text/x-python",
   "name": "python",
   "nbconvert_exporter": "python",
   "pygments_lexer": "ipython3",
   "version": "3.10.2"
  },
  "orig_nbformat": 4
 },
 "nbformat": 4,
 "nbformat_minor": 2
}

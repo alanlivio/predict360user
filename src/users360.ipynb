{
 "cells": [
  {
   "cell_type": "code",
   "execution_count": null,
   "metadata": {},
   "outputs": [],
   "source": [
    "from users360 import *\n",
    "# one_user = Traces(Dataset.singleton().traces_one_video_one_user())\n",
    "# one_user.sphere(VPEXTRACT_RECT_6_4_CENTER)\n",
    "# one_user.sphere(VPEXTRACT_VORO_14_CENTER)\n",
    "\n",
    "one_user = Traces(Dataset.singleton().traces_one_video_one_user(user='42'))\n",
    "print(one_user.traces)\n",
    "one_user.sphere(VPEXTRACT_RECT_6_4_CENTER)"
   ]
  },
  {
   "cell_type": "code",
   "execution_count": null,
   "metadata": {},
   "outputs": [],
   "source": [
    "from users360 import *\n",
    "one_user = Traces(Dataset.singleton().one_trace())\n",
    "one_user.sphere_show_one_trace_vp(VPEXTRACT_RECT_6_4_CENTER, to_html=False)\n",
    "one_user.sphere_show_one_trace_vp(VPEXTRACT_VORO_14_CENTER, to_html=False)"
   ]
  },
  {
   "cell_type": "code",
   "execution_count": null,
   "metadata": {},
   "outputs": [],
   "source": [
    "from users360 import *\n",
    "all_users = Traces(Dataset.singleton().traces_one_video())\n",
    "all_users.sphere(VPEXTRACT_RECT_6_4_CENTER)\n",
    "all_users.sphere(VPEXTRACT_VORO_14_CENTER)"
   ]
  },
  {
   "cell_type": "code",
   "execution_count": null,
   "metadata": {},
   "outputs": [],
   "source": [
    "from users360 import *\n",
    "one_trace = Traces(Dataset.singleton().one_trace())\n",
    "for vpextract in VPEXTRACT_METHODS:\n",
    "    one_trace.sphere_show_one_trace_vp(vpextract)"
   ]
  },
  {
   "cell_type": "code",
   "execution_count": null,
   "metadata": {},
   "outputs": [],
   "source": [
    "from users360 import *\n",
    "some_users = Traces(Dataset.singleton().traces_random_one_user(4))\n",
    "# some_users.metrics_vpextract(VPEXTRACT_METHODS, plot_traces=False, plot_heatmaps=True)\n",
    "some_users.metrics_vpextract(VPEXTRACT_METHODS, plot_traces=False, plot_heatmaps=False)"
   ]
  },
  {
   "cell_type": "code",
   "execution_count": null,
   "metadata": {},
   "outputs": [],
   "source": [
    "from users360 import *\n",
    "dataset = Dataset.singleton()\n",
    "dataset.users_entropy(VPEXTRACT_RECT_6_4_CENTER, plot_scatter=True)\n",
    "# dataset.users_entropy(VPEXTRACT_RECT_8_6_CENTER)\n",
    "# dataset.users_entropy(VPEXTRACT_VORO_14_CENTER)\n",
    "# dataset.singleton_dump()\n",
    "dataset.users_hight"
   ]
  },
  {
   "cell_type": "code",
   "execution_count": null,
   "metadata": {},
   "outputs": [],
   "source": [
    "\n",
    "from users360 import *\n",
    "dataset = Dataset.singleton()\n",
    "\n",
    "# users_hight = Traces(dataset.traces_one_video(dataset.users_hight[:1]))\n",
    "users_hight = Traces(dataset.traces_one_video(dataset.users_hight[:]), title_sufix=\"entropy_hight\")\n",
    "# users_hight.sphere(VPEXTRACT_RECT_6_4_CENTER)\n",
    "# users_hight.metrics_vpextract(VPEXTRACT_METHODS)\n",
    "users_hight.metrics_vpextract([VPEXTRACT_RECT_6_4_CENTER, VPEXTRACT_VORO_14_CENTER])\n",
    "\n",
    "# users_low = Traces(dataset.traces_one_video(dataset.users_low[:]), title_sufix=\"entropy_low\")\n",
    "# # users_low.sphere(VPEXTRACT_RECT_6_4_CENTER)\n",
    "# # users_low.metrics_vpextract(VPEXTRACT_METHODS)\n",
    "# users_low.metrics_vpextract([VPEXTRACT_RECT_6_4_CENTER, VPEXTRACT_VORO_14_CENTER])\n",
    "\n"
   ]
  },
  {
   "cell_type": "code",
   "execution_count": null,
   "metadata": {},
   "outputs": [],
   "source": [
    "from users360 import *\n",
    "dataset = Dataset.singleton()\n",
    "one_given_user = Traces(dataset.traces_one_video_one_user(user='42'))\n",
    "# for trace in dataset.traces_random_one_user(4):\n",
    "#     one_given_user.sphere_show_one_trace_vp(VPEXTRACT_RECT_6_4_CENTER, trace, to_html=False)\n",
    "# # print(one_given_user.traces)\n",
    "one_given_user.sphere_show_one_trace_vp(VPEXTRACT_RECT_6_4_CENTER, trace=[0, 0, 1], to_html=False)\n",
    "# one_given_user.sphere_show_one_trace_vp(VPEXTRACT_RECT_6_4_CENTER, trace=[0, 0, -1], to_html=False)\n",
    "one_given_user.sphere_show_one_trace_vp(VPEXTRACT_RECT_6_4_CENTER, trace=[1, 0, 0], to_html=False)\n",
    "# one_given_user.sphere_show_one_trace_vp(VPEXTRACT_RECT_6_4_CENTER, trace=[-1, 0, 0], to_html=False)\n",
    "one_given_user.sphere_show_one_trace_vp(VPEXTRACT_RECT_6_4_CENTER, trace=[0, 1, 0], to_html=False)\n",
    "# one_given_user.sphere_show_one_trace_vp(VPEXTRACT_RECT_6_4_CENTER, trace=[0, -1, 0], to_html=False)\n",
    "one_given_user.sphere_show_one_trace_vp(VPEXTRACT_RECT_6_4_CENTER, trace=[0.5624332, 0.4141108, -0.687445454], to_html=False)\n",
    "\n",
    "# [[-0.40557979 -0.57922797  0.70710678]\n",
    "#  [ 0.40557979  0.57922797  0.70710678]\n",
    "#  [ 0.40557979 -0.57922797  0.70710678]\n",
    "#  [-0.40557979  0.57922797  0.70710678]]\n"
   ]
  }
 ],
 "metadata": {
  "interpreter": {
   "hash": "bed9add7eda959bf6c8d12b02d45384ee68438564591465b81a62df10a32b7de"
  },
  "kernelspec": {
   "display_name": "Python 3.9.7 64-bit",
   "language": "python",
   "name": "python3"
  },
  "language_info": {
   "codemirror_mode": {
    "name": "ipython",
    "version": 3
   },
   "file_extension": ".py",
   "mimetype": "text/x-python",
   "name": "python",
   "nbconvert_exporter": "python",
   "pygments_lexer": "ipython3",
   "version": "3.10.2"
  },
  "orig_nbformat": 4
 },
 "nbformat": 4,
 "nbformat_minor": 2
}
